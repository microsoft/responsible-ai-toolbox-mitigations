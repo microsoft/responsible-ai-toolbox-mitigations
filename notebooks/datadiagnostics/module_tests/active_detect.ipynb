{
 "cells": [
  {
   "attachments": {},
   "cell_type": "markdown",
   "metadata": {},
   "source": [
    "# ActiveDetect Example\n",
    "\n",
    "In this example, we will explore how to predict errors within a dataset using multiple error modules available with ActiveDetect using the HR promotion dataset.\n",
    "\n",
    "This subclass uses error detection modules presented in the Sanjay Krishnan et al.'s activedetect repo and paper: [BoostClean: Automated Error Detection and Repair for Machine Learning](https://arxiv.org/abs/1711.01299). "
   ]
  },
  {
   "cell_type": "code",
   "execution_count": 1,
   "metadata": {},
   "outputs": [],
   "source": [
    "import sys\n",
    "sys.path.append('../../../notebooks')\n",
    "\n",
    "import pandas as pd\n",
    "import numpy as np\n",
    "from raimitigations.datadiagnostics import *\n",
    "from download import download_datasets\n"
   ]
  },
  {
   "cell_type": "code",
   "execution_count": 2,
   "metadata": {},
   "outputs": [
    {
     "data": {
      "text/html": [
       "<div>\n",
       "<style scoped>\n",
       "    .dataframe tbody tr th:only-of-type {\n",
       "        vertical-align: middle;\n",
       "    }\n",
       "\n",
       "    .dataframe tbody tr th {\n",
       "        vertical-align: top;\n",
       "    }\n",
       "\n",
       "    .dataframe thead th {\n",
       "        text-align: right;\n",
       "    }\n",
       "</style>\n",
       "<table border=\"1\" class=\"dataframe\">\n",
       "  <thead>\n",
       "    <tr style=\"text-align: right;\">\n",
       "      <th></th>\n",
       "      <th>employee_id</th>\n",
       "      <th>department</th>\n",
       "      <th>region</th>\n",
       "      <th>education</th>\n",
       "      <th>gender</th>\n",
       "      <th>recruitment_channel</th>\n",
       "      <th>no_of_trainings</th>\n",
       "      <th>age</th>\n",
       "      <th>previous_year_rating</th>\n",
       "      <th>length_of_service</th>\n",
       "      <th>KPIs_met &gt;80%</th>\n",
       "      <th>awards_won?</th>\n",
       "      <th>avg_training_score</th>\n",
       "      <th>is_promoted</th>\n",
       "    </tr>\n",
       "  </thead>\n",
       "  <tbody>\n",
       "    <tr>\n",
       "      <th>0</th>\n",
       "      <td>65438</td>\n",
       "      <td>Sales &amp; Marketing</td>\n",
       "      <td>region_7</td>\n",
       "      <td>Master's &amp; above</td>\n",
       "      <td>f</td>\n",
       "      <td>sourcing</td>\n",
       "      <td>1</td>\n",
       "      <td>35</td>\n",
       "      <td>5.0</td>\n",
       "      <td>8</td>\n",
       "      <td>1</td>\n",
       "      <td>0</td>\n",
       "      <td>49</td>\n",
       "      <td>0</td>\n",
       "    </tr>\n",
       "    <tr>\n",
       "      <th>1</th>\n",
       "      <td>65141</td>\n",
       "      <td>Operations</td>\n",
       "      <td>region_22</td>\n",
       "      <td>Bachelor's</td>\n",
       "      <td>m</td>\n",
       "      <td>other</td>\n",
       "      <td>1</td>\n",
       "      <td>30</td>\n",
       "      <td>5.0</td>\n",
       "      <td>4</td>\n",
       "      <td>0</td>\n",
       "      <td>0</td>\n",
       "      <td>60</td>\n",
       "      <td>0</td>\n",
       "    </tr>\n",
       "    <tr>\n",
       "      <th>2</th>\n",
       "      <td>7513</td>\n",
       "      <td>Sales &amp; Marketing</td>\n",
       "      <td>region_19</td>\n",
       "      <td>Bachelor's</td>\n",
       "      <td>m</td>\n",
       "      <td>sourcing</td>\n",
       "      <td>1</td>\n",
       "      <td>34</td>\n",
       "      <td>3.0</td>\n",
       "      <td>7</td>\n",
       "      <td>0</td>\n",
       "      <td>0</td>\n",
       "      <td>50</td>\n",
       "      <td>0</td>\n",
       "    </tr>\n",
       "    <tr>\n",
       "      <th>3</th>\n",
       "      <td>2542</td>\n",
       "      <td>Sales &amp; Marketing</td>\n",
       "      <td>region_23</td>\n",
       "      <td>Bachelor's</td>\n",
       "      <td>m</td>\n",
       "      <td>other</td>\n",
       "      <td>2</td>\n",
       "      <td>39</td>\n",
       "      <td>1.0</td>\n",
       "      <td>10</td>\n",
       "      <td>0</td>\n",
       "      <td>0</td>\n",
       "      <td>50</td>\n",
       "      <td>0</td>\n",
       "    </tr>\n",
       "    <tr>\n",
       "      <th>4</th>\n",
       "      <td>48945</td>\n",
       "      <td>Technology</td>\n",
       "      <td>region_26</td>\n",
       "      <td>Bachelor's</td>\n",
       "      <td>m</td>\n",
       "      <td>other</td>\n",
       "      <td>1</td>\n",
       "      <td>45</td>\n",
       "      <td>3.0</td>\n",
       "      <td>2</td>\n",
       "      <td>0</td>\n",
       "      <td>0</td>\n",
       "      <td>73</td>\n",
       "      <td>0</td>\n",
       "    </tr>\n",
       "    <tr>\n",
       "      <th>...</th>\n",
       "      <td>...</td>\n",
       "      <td>...</td>\n",
       "      <td>...</td>\n",
       "      <td>...</td>\n",
       "      <td>...</td>\n",
       "      <td>...</td>\n",
       "      <td>...</td>\n",
       "      <td>...</td>\n",
       "      <td>...</td>\n",
       "      <td>...</td>\n",
       "      <td>...</td>\n",
       "      <td>...</td>\n",
       "      <td>...</td>\n",
       "      <td>...</td>\n",
       "    </tr>\n",
       "    <tr>\n",
       "      <th>9995</th>\n",
       "      <td>14934</td>\n",
       "      <td>Procurement</td>\n",
       "      <td>region_13</td>\n",
       "      <td>Master's &amp; above</td>\n",
       "      <td>f</td>\n",
       "      <td>other</td>\n",
       "      <td>1</td>\n",
       "      <td>37</td>\n",
       "      <td>4.0</td>\n",
       "      <td>7</td>\n",
       "      <td>1</td>\n",
       "      <td>0</td>\n",
       "      <td>71</td>\n",
       "      <td>0</td>\n",
       "    </tr>\n",
       "    <tr>\n",
       "      <th>9996</th>\n",
       "      <td>22040</td>\n",
       "      <td>Sales &amp; Marketing</td>\n",
       "      <td>region_33</td>\n",
       "      <td>Master's &amp; above</td>\n",
       "      <td>m</td>\n",
       "      <td>sourcing</td>\n",
       "      <td>1</td>\n",
       "      <td>39</td>\n",
       "      <td>3.0</td>\n",
       "      <td>7</td>\n",
       "      <td>0</td>\n",
       "      <td>0</td>\n",
       "      <td>48</td>\n",
       "      <td>0</td>\n",
       "    </tr>\n",
       "    <tr>\n",
       "      <th>9997</th>\n",
       "      <td>14188</td>\n",
       "      <td>Finance</td>\n",
       "      <td>region_13</td>\n",
       "      <td>Master's &amp; above</td>\n",
       "      <td>f</td>\n",
       "      <td>sourcing</td>\n",
       "      <td>1</td>\n",
       "      <td>33</td>\n",
       "      <td>4.0</td>\n",
       "      <td>4</td>\n",
       "      <td>1</td>\n",
       "      <td>0</td>\n",
       "      <td>58</td>\n",
       "      <td>0</td>\n",
       "    </tr>\n",
       "    <tr>\n",
       "      <th>9998</th>\n",
       "      <td>73566</td>\n",
       "      <td>Operations</td>\n",
       "      <td>region_28</td>\n",
       "      <td>Master's &amp; above</td>\n",
       "      <td>m</td>\n",
       "      <td>other</td>\n",
       "      <td>1</td>\n",
       "      <td>32</td>\n",
       "      <td>4.0</td>\n",
       "      <td>4</td>\n",
       "      <td>1</td>\n",
       "      <td>0</td>\n",
       "      <td>57</td>\n",
       "      <td>1</td>\n",
       "    </tr>\n",
       "    <tr>\n",
       "      <th>9999</th>\n",
       "      <td>21372</td>\n",
       "      <td>Procurement</td>\n",
       "      <td>region_13</td>\n",
       "      <td>Bachelor's</td>\n",
       "      <td>f</td>\n",
       "      <td>sourcing</td>\n",
       "      <td>1</td>\n",
       "      <td>32</td>\n",
       "      <td>3.0</td>\n",
       "      <td>6</td>\n",
       "      <td>0</td>\n",
       "      <td>0</td>\n",
       "      <td>71</td>\n",
       "      <td>0</td>\n",
       "    </tr>\n",
       "  </tbody>\n",
       "</table>\n",
       "<p>10000 rows × 14 columns</p>\n",
       "</div>"
      ],
      "text/plain": [
       "      employee_id         department     region         education gender  \\\n",
       "0           65438  Sales & Marketing   region_7  Master's & above      f   \n",
       "1           65141         Operations  region_22        Bachelor's      m   \n",
       "2            7513  Sales & Marketing  region_19        Bachelor's      m   \n",
       "3            2542  Sales & Marketing  region_23        Bachelor's      m   \n",
       "4           48945         Technology  region_26        Bachelor's      m   \n",
       "...           ...                ...        ...               ...    ...   \n",
       "9995        14934        Procurement  region_13  Master's & above      f   \n",
       "9996        22040  Sales & Marketing  region_33  Master's & above      m   \n",
       "9997        14188            Finance  region_13  Master's & above      f   \n",
       "9998        73566         Operations  region_28  Master's & above      m   \n",
       "9999        21372        Procurement  region_13        Bachelor's      f   \n",
       "\n",
       "     recruitment_channel  no_of_trainings  age  previous_year_rating  \\\n",
       "0               sourcing                1   35                   5.0   \n",
       "1                  other                1   30                   5.0   \n",
       "2               sourcing                1   34                   3.0   \n",
       "3                  other                2   39                   1.0   \n",
       "4                  other                1   45                   3.0   \n",
       "...                  ...              ...  ...                   ...   \n",
       "9995               other                1   37                   4.0   \n",
       "9996            sourcing                1   39                   3.0   \n",
       "9997            sourcing                1   33                   4.0   \n",
       "9998               other                1   32                   4.0   \n",
       "9999            sourcing                1   32                   3.0   \n",
       "\n",
       "      length_of_service  KPIs_met >80%  awards_won?  avg_training_score  \\\n",
       "0                     8              1            0                  49   \n",
       "1                     4              0            0                  60   \n",
       "2                     7              0            0                  50   \n",
       "3                    10              0            0                  50   \n",
       "4                     2              0            0                  73   \n",
       "...                 ...            ...          ...                 ...   \n",
       "9995                  7              1            0                  71   \n",
       "9996                  7              0            0                  48   \n",
       "9997                  4              1            0                  58   \n",
       "9998                  4              1            0                  57   \n",
       "9999                  6              0            0                  71   \n",
       "\n",
       "      is_promoted  \n",
       "0               0  \n",
       "1               0  \n",
       "2               0  \n",
       "3               0  \n",
       "4               0  \n",
       "...           ...  \n",
       "9995            0  \n",
       "9996            0  \n",
       "9997            0  \n",
       "9998            1  \n",
       "9999            0  \n",
       "\n",
       "[10000 rows x 14 columns]"
      ]
     },
     "execution_count": 2,
     "metadata": {},
     "output_type": "execute_result"
    }
   ],
   "source": [
    "data_dir = '../../../datasets/'\n",
    "download_datasets(data_dir)\n",
    "dataset = pd.read_csv(data_dir + 'hr_promotion/train.csv')\n",
    "dataset = dataset[:10000]\n",
    "\n",
    "dataset"
   ]
  },
  {
   "attachments": {},
   "cell_type": "markdown",
   "metadata": {},
   "source": [
    "## Error Modules\n",
    "First, let's explore each error module individually:"
   ]
  },
  {
   "attachments": {},
   "cell_type": "markdown",
   "metadata": {},
   "source": [
    "### QuantitativeErrorModule"
   ]
  },
  {
   "cell_type": "code",
   "execution_count": 3,
   "metadata": {},
   "outputs": [
    {
     "data": {
      "text/plain": [
       "<raimitigations.datadiagnostics.active_detect.ActiveDetect at 0x7f3c0a91f430>"
      ]
     },
     "execution_count": 3,
     "metadata": {},
     "output_type": "execute_result"
    }
   ],
   "source": [
    "active_detector_1 = ActiveDetect(\n",
    "    df=dataset,\n",
    "    col_predict=None,\n",
    "    error_modules=[QuantitativeErrorModule()],\n",
    "    verbose=False,\n",
    ")\n",
    "active_detector_1.fit()"
   ]
  },
  {
   "attachments": {},
   "cell_type": "markdown",
   "metadata": {},
   "source": [
    "Take a look at the automatically assigned types for each column:"
   ]
  },
  {
   "cell_type": "code",
   "execution_count": 4,
   "metadata": {},
   "outputs": [
    {
     "data": {
      "text/plain": [
       "['numerical',\n",
       " 'categorical',\n",
       " 'categorical',\n",
       " 'categorical',\n",
       " 'categorical',\n",
       " 'categorical',\n",
       " 'numerical',\n",
       " 'numerical',\n",
       " 'numerical',\n",
       " 'numerical',\n",
       " 'numerical',\n",
       " 'numerical',\n",
       " 'numerical',\n",
       " 'numerical']"
      ]
     },
     "execution_count": 4,
     "metadata": {},
     "output_type": "execute_result"
    }
   ],
   "source": [
    "active_detector_1.types"
   ]
  },
  {
   "attachments": {},
   "cell_type": "markdown",
   "metadata": {},
   "source": [
    "`predict()` errors on the dataset. Here we are printing erroneous values of each column for post verification that the error matrix matches these values:"
   ]
  },
  {
   "cell_type": "code",
   "execution_count": 5,
   "metadata": {},
   "outputs": [
    {
     "name": "stdout",
     "output_type": "stream",
     "text": [
      "employee_id\n",
      "error_vals:  []\n",
      "no_of_trainings\n",
      "error_vals:  [4.0, 5.0, 6.0, 7.0, 8.0, 10.0]\n",
      "age\n",
      "error_vals:  []\n",
      "previous_year_rating\n",
      "error_vals:  []\n",
      "length_of_service\n",
      "error_vals:  [32.0, 33.0, 34.0, 21.0, 22.0, 23.0, 24.0, 25.0, 26.0, 27.0, 28.0, 29.0, 30.0, 31.0]\n",
      "KPIs_met >80%\n",
      "error_vals:  []\n",
      "awards_won?\n",
      "error_vals:  [1.0]\n",
      "avg_training_score\n",
      "error_vals:  []\n",
      "is_promoted\n",
      "error_vals:  []\n"
     ]
    },
    {
     "data": {
      "text/plain": [
       "array([[1., 1., 1., ..., 1., 1., 1.],\n",
       "       [1., 1., 1., ..., 1., 1., 1.],\n",
       "       [1., 1., 1., ..., 1., 1., 1.],\n",
       "       ...,\n",
       "       [1., 1., 1., ..., 1., 1., 1.],\n",
       "       [1., 1., 1., ..., 1., 1., 1.],\n",
       "       [1., 1., 1., ..., 1., 1., 1.]])"
      ]
     },
     "execution_count": 5,
     "metadata": {},
     "output_type": "execute_result"
    }
   ],
   "source": [
    "error_matrix = active_detector_1.predict(dataset)\n",
    "error_matrix"
   ]
  },
  {
   "attachments": {},
   "cell_type": "markdown",
   "metadata": {},
   "source": [
    "Verify that the erroneous values and their indices match between the dataset and the error matrix:"
   ]
  },
  {
   "cell_type": "code",
   "execution_count": 6,
   "metadata": {},
   "outputs": [
    {
     "data": {
      "text/plain": [
       "Int64Index([ 117,  119,  220,  312,  326,  399,  548,  601,  614,  622,\n",
       "            ...\n",
       "            9179, 9277, 9394, 9434, 9515, 9540, 9695, 9862, 9983, 9991],\n",
       "           dtype='int64', length=114)"
      ]
     },
     "execution_count": 6,
     "metadata": {},
     "output_type": "execute_result"
    }
   ],
   "source": [
    "dataset[dataset['no_of_trainings'].isin([4,5,6,7,8,10])].index"
   ]
  },
  {
   "cell_type": "code",
   "execution_count": 7,
   "metadata": {},
   "outputs": [
    {
     "data": {
      "text/plain": [
       "array([ 117,  119,  220,  312,  326,  399,  548,  601,  614,  622,  682,\n",
       "        778,  946,  972, 1095, 1297, 1532, 1552, 1629, 1884, 1988, 2276,\n",
       "       2388, 2447, 2534, 2555, 2689, 2881, 3188, 3365, 3477, 3550, 3582,\n",
       "       3587, 3604, 3620, 3719, 3844, 3846, 3911, 3948, 3979, 4099, 4154,\n",
       "       4192, 4227, 4401, 4423, 4505, 4575, 4900, 4916, 5021, 5062, 5185,\n",
       "       5193, 5294, 5371, 5429, 5523, 5573, 5663, 5775, 5801, 5883, 6146,\n",
       "       6207, 6265, 6291, 6316, 6394, 6469, 6495, 6538, 6552, 6601, 6736,\n",
       "       6749, 6860, 6953, 6989, 6999, 7018, 7126, 7191, 7285, 7374, 7520,\n",
       "       7659, 7719, 7847, 8058, 8153, 8261, 8393, 8535, 8587, 8754, 8771,\n",
       "       8810, 8812, 8901, 8925, 9059, 9179, 9277, 9394, 9434, 9515, 9540,\n",
       "       9695, 9862, 9983, 9991])"
      ]
     },
     "execution_count": 7,
     "metadata": {},
     "output_type": "execute_result"
    }
   ],
   "source": [
    "np.where(error_matrix[:, 6] == -1)[0]"
   ]
  },
  {
   "attachments": {},
   "cell_type": "markdown",
   "metadata": {},
   "source": [
    "We can also call the error matrix of each error module individually:"
   ]
  },
  {
   "cell_type": "code",
   "execution_count": 8,
   "metadata": {},
   "outputs": [
    {
     "data": {
      "text/plain": [
       "(10000, 14)"
      ]
     },
     "execution_count": 8,
     "metadata": {},
     "output_type": "execute_result"
    }
   ],
   "source": [
    "matrix = active_detector_1.get_error_module_matrix('QuantitativeErrorModule')\n",
    "matrix.shape"
   ]
  },
  {
   "attachments": {},
   "cell_type": "markdown",
   "metadata": {},
   "source": [
    "### PuncErrorModule"
   ]
  },
  {
   "cell_type": "code",
   "execution_count": 9,
   "metadata": {},
   "outputs": [
    {
     "data": {
      "text/plain": [
       "<raimitigations.datadiagnostics.active_detect.ActiveDetect at 0x7f3c0a704d30>"
      ]
     },
     "execution_count": 9,
     "metadata": {},
     "output_type": "execute_result"
    }
   ],
   "source": [
    "active_detector_2 = ActiveDetect(\n",
    "    df=dataset,\n",
    "    col_predict=None,\n",
    "    error_modules=[PuncErrorModule()],\n",
    "    verbose=False,\n",
    ")\n",
    "active_detector_2.fit()"
   ]
  },
  {
   "cell_type": "code",
   "execution_count": 10,
   "metadata": {},
   "outputs": [
    {
     "name": "stdout",
     "output_type": "stream",
     "text": [
      "department\n",
      "[]\n",
      "region\n",
      "[]\n",
      "education\n",
      "[]\n",
      "gender\n",
      "[]\n",
      "recruitment_channel\n",
      "[]\n"
     ]
    },
    {
     "data": {
      "text/plain": [
       "array([[1., 1., 1., ..., 1., 1., 1.],\n",
       "       [1., 1., 1., ..., 1., 1., 1.],\n",
       "       [1., 1., 1., ..., 1., 1., 1.],\n",
       "       ...,\n",
       "       [1., 1., 1., ..., 1., 1., 1.],\n",
       "       [1., 1., 1., ..., 1., 1., 1.],\n",
       "       [1., 1., 1., ..., 1., 1., 1.]])"
      ]
     },
     "execution_count": 10,
     "metadata": {},
     "output_type": "execute_result"
    }
   ],
   "source": [
    "active_detector_2.predict(dataset)"
   ]
  },
  {
   "attachments": {},
   "cell_type": "markdown",
   "metadata": {},
   "source": [
    "### SemanticErrorModule"
   ]
  },
  {
   "cell_type": "code",
   "execution_count": 11,
   "metadata": {},
   "outputs": [
    {
     "data": {
      "text/plain": [
       "<raimitigations.datadiagnostics.active_detect.ActiveDetect at 0x7f3c0a91f5b0>"
      ]
     },
     "execution_count": 11,
     "metadata": {},
     "output_type": "execute_result"
    }
   ],
   "source": [
    "active_detector_3 = ActiveDetect(\n",
    "    df=dataset,\n",
    "    col_predict=None,\n",
    "    error_modules=[SemanticErrorModule()],\n",
    "    verbose=False,\n",
    ")\n",
    "active_detector_3.fit()"
   ]
  },
  {
   "cell_type": "code",
   "execution_count": 12,
   "metadata": {},
   "outputs": [
    {
     "name": "stdout",
     "output_type": "stream",
     "text": [
      "department\n",
      "[]\n",
      "region\n",
      "[]\n",
      "education\n",
      "[]\n",
      "gender\n",
      "[]\n",
      "recruitment_channel\n",
      "[]\n"
     ]
    },
    {
     "data": {
      "text/plain": [
       "array([[1., 1., 1., ..., 1., 1., 1.],\n",
       "       [1., 1., 1., ..., 1., 1., 1.],\n",
       "       [1., 1., 1., ..., 1., 1., 1.],\n",
       "       ...,\n",
       "       [1., 1., 1., ..., 1., 1., 1.],\n",
       "       [1., 1., 1., ..., 1., 1., 1.],\n",
       "       [1., 1., 1., ..., 1., 1., 1.]])"
      ]
     },
     "execution_count": 12,
     "metadata": {},
     "output_type": "execute_result"
    }
   ],
   "source": [
    "active_detector_3.predict(dataset)"
   ]
  },
  {
   "attachments": {},
   "cell_type": "markdown",
   "metadata": {},
   "source": [
    "### DistributionErrorModule"
   ]
  },
  {
   "cell_type": "code",
   "execution_count": 13,
   "metadata": {},
   "outputs": [
    {
     "name": "stdout",
     "output_type": "stream",
     "text": [
      "employee_id\n",
      "[]\n",
      "department\n",
      "[]\n",
      "region\n",
      "['region_2']\n",
      "education\n",
      "[]\n",
      "gender\n",
      "[]\n",
      "recruitment_channel\n",
      "[]\n",
      "no_of_trainings\n",
      "[]\n",
      "age\n",
      "[]\n",
      "previous_year_rating\n",
      "[]\n",
      "length_of_service\n",
      "[]\n",
      "KPIs_met >80%\n",
      "[]\n",
      "awards_won?\n",
      "[]\n",
      "avg_training_score\n",
      "[]\n",
      "is_promoted\n",
      "[]\n"
     ]
    },
    {
     "data": {
      "text/plain": [
       "array([[1., 1., 1., ..., 1., 1., 1.],\n",
       "       [1., 1., 1., ..., 1., 1., 1.],\n",
       "       [1., 1., 1., ..., 1., 1., 1.],\n",
       "       ...,\n",
       "       [1., 1., 1., ..., 1., 1., 1.],\n",
       "       [1., 1., 1., ..., 1., 1., 1.],\n",
       "       [1., 1., 1., ..., 1., 1., 1.]])"
      ]
     },
     "execution_count": 13,
     "metadata": {},
     "output_type": "execute_result"
    }
   ],
   "source": [
    "active_detector_4 = ActiveDetect(\n",
    "    df=dataset,\n",
    "    col_predict=None,\n",
    "    error_modules=[DistributionErrorModule()],\n",
    "    verbose=False,\n",
    ")\n",
    "active_detector_4.fit()\n",
    "active_detector_4.predict(dataset)"
   ]
  },
  {
   "attachments": {},
   "cell_type": "markdown",
   "metadata": {},
   "source": [
    "### StringSimilarityErrorModule"
   ]
  },
  {
   "cell_type": "code",
   "execution_count": 14,
   "metadata": {},
   "outputs": [
    {
     "name": "stdout",
     "output_type": "stream",
     "text": [
      "department\n",
      "[]\n"
     ]
    },
    {
     "data": {
      "text/plain": [
       "array([[1., 1., 1., ..., 1., 1., 1.],\n",
       "       [1., 1., 1., ..., 1., 1., 1.],\n",
       "       [1., 1., 1., ..., 1., 1., 1.],\n",
       "       ...,\n",
       "       [1., 1., 1., ..., 1., 1., 1.],\n",
       "       [1., 1., 1., ..., 1., 1., 1.],\n",
       "       [1., 1., 1., ..., 1., 1., 1.]])"
      ]
     },
     "execution_count": 14,
     "metadata": {},
     "output_type": "execute_result"
    }
   ],
   "source": [
    "active_detector_5 = ActiveDetect(\n",
    "    df=dataset,\n",
    "    col_predict=None,\n",
    "    error_modules=[StringSimilarityErrorModule()],\n",
    "    verbose=False,\n",
    ")\n",
    "active_detector_5.fit()\n",
    "active_detector_5.types[1] = 'string'\n",
    "active_detector_5.predict(dataset)\n"
   ]
  },
  {
   "attachments": {},
   "cell_type": "markdown",
   "metadata": {},
   "source": [
    "### CharSimilarityErrorModule"
   ]
  },
  {
   "cell_type": "code",
   "execution_count": 15,
   "metadata": {},
   "outputs": [
    {
     "name": "stdout",
     "output_type": "stream",
     "text": [
      "department\n",
      "['HR']\n"
     ]
    },
    {
     "data": {
      "text/plain": [
       "array([[1., 1., 1., ..., 1., 1., 1.],\n",
       "       [1., 1., 1., ..., 1., 1., 1.],\n",
       "       [1., 1., 1., ..., 1., 1., 1.],\n",
       "       ...,\n",
       "       [1., 1., 1., ..., 1., 1., 1.],\n",
       "       [1., 1., 1., ..., 1., 1., 1.],\n",
       "       [1., 1., 1., ..., 1., 1., 1.]])"
      ]
     },
     "execution_count": 15,
     "metadata": {},
     "output_type": "execute_result"
    }
   ],
   "source": [
    "active_detector_6 = ActiveDetect(\n",
    "    df=dataset,\n",
    "    col_predict=None,\n",
    "    error_modules=[CharSimilarityErrorModule()],\n",
    "    verbose=False,\n",
    ")\n",
    "active_detector_6.fit()\n",
    "active_detector_6.types[1]='string'\n",
    "active_detector_6.predict(dataset)"
   ]
  },
  {
   "cell_type": "code",
   "execution_count": 17,
   "metadata": {},
   "outputs": [],
   "source": [
    "new_df = active_detector_6.transform(dataset)"
   ]
  },
  {
   "cell_type": "code",
   "execution_count": 19,
   "metadata": {},
   "outputs": [
    {
     "data": {
      "text/plain": [
       "array(['Sales & Marketing', 'Operations', 'Technology', 'Analytics',\n",
       "       'R&D', 'Procurement', 'Finance', 'HR', 'Legal'], dtype=object)"
      ]
     },
     "execution_count": 19,
     "metadata": {},
     "output_type": "execute_result"
    }
   ],
   "source": [
    "dataset['department'].unique()"
   ]
  },
  {
   "cell_type": "code",
   "execution_count": 18,
   "metadata": {},
   "outputs": [
    {
     "data": {
      "text/plain": [
       "array(['Sales & Marketing', 'Operations', 'Technology', 'Analytics',\n",
       "       'R&D', 'Procurement', 'Finance', nan, 'Legal'], dtype=object)"
      ]
     },
     "execution_count": 18,
     "metadata": {},
     "output_type": "execute_result"
    }
   ],
   "source": [
    "new_df['department'].unique()"
   ]
  }
 ],
 "metadata": {
  "kernelspec": {
   "display_name": "rai_310",
   "language": "python",
   "name": "python3"
  },
  "language_info": {
   "codemirror_mode": {
    "name": "ipython",
    "version": 3
   },
   "file_extension": ".py",
   "mimetype": "text/x-python",
   "name": "python",
   "nbconvert_exporter": "python",
   "pygments_lexer": "ipython3",
   "version": "3.10.9"
  },
  "orig_nbformat": 4,
  "vscode": {
   "interpreter": {
    "hash": "56a528960f538b60f1b30ab479464ff8ebb7955bb92639ad9a3974a26beb1f4f"
   }
  }
 },
 "nbformat": 4,
 "nbformat_minor": 2
}
