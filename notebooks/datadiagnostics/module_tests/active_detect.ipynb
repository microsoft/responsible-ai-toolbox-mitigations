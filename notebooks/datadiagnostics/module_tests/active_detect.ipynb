{
 "cells": [
  {
   "attachments": {},
   "cell_type": "markdown",
   "metadata": {},
   "source": [
    "# ActiveDetect Example\n",
    "\n",
    "In this example, we will explore how to predict errors within a dataset using multiple error modules available with `ActiveDetect` using a modified version of the HR promotion dataset.\n",
    "\n",
    "This subclass uses error detection modules presented in the Sanjay Krishnan et al.'s activedetect repo and paper: [BoostClean: Automated Error Detection and Repair for Machine Learning](https://arxiv.org/abs/1711.01299). "
   ]
  },
  {
   "cell_type": "code",
   "execution_count": 2,
   "metadata": {},
   "outputs": [],
   "source": [
    "import sys\n",
    "sys.path.append('../../../notebooks')\n",
    "\n",
    "import pandas as pd\n",
    "import numpy as np\n",
    "from raimitigations.datadiagnostics import *\n",
    "from download import download_datasets\n",
    "import random\n",
    "import string\n",
    "from itertools import compress"
   ]
  },
  {
   "attachments": {},
   "cell_type": "markdown",
   "metadata": {},
   "source": [
    "Load the data:"
   ]
  },
  {
   "cell_type": "code",
   "execution_count": 3,
   "metadata": {},
   "outputs": [
    {
     "data": {
      "text/html": [
       "<div>\n",
       "<style scoped>\n",
       "    .dataframe tbody tr th:only-of-type {\n",
       "        vertical-align: middle;\n",
       "    }\n",
       "\n",
       "    .dataframe tbody tr th {\n",
       "        vertical-align: top;\n",
       "    }\n",
       "\n",
       "    .dataframe thead th {\n",
       "        text-align: right;\n",
       "    }\n",
       "</style>\n",
       "<table border=\"1\" class=\"dataframe\">\n",
       "  <thead>\n",
       "    <tr style=\"text-align: right;\">\n",
       "      <th></th>\n",
       "      <th>department</th>\n",
       "      <th>region</th>\n",
       "      <th>education</th>\n",
       "      <th>gender</th>\n",
       "      <th>recruitment_channel</th>\n",
       "      <th>no_of_trainings</th>\n",
       "      <th>age</th>\n",
       "      <th>previous_year_rating</th>\n",
       "      <th>length_of_service</th>\n",
       "      <th>KPIs_met &gt;80%</th>\n",
       "      <th>awards_won?</th>\n",
       "      <th>avg_training_score</th>\n",
       "      <th>is_promoted</th>\n",
       "    </tr>\n",
       "  </thead>\n",
       "  <tbody>\n",
       "    <tr>\n",
       "      <th>0</th>\n",
       "      <td>Sales &amp; Marketing</td>\n",
       "      <td>region_7</td>\n",
       "      <td>Master's &amp; above</td>\n",
       "      <td>f</td>\n",
       "      <td>sourcing</td>\n",
       "      <td>1</td>\n",
       "      <td>35</td>\n",
       "      <td>5.0</td>\n",
       "      <td>8</td>\n",
       "      <td>1</td>\n",
       "      <td>0</td>\n",
       "      <td>49</td>\n",
       "      <td>0</td>\n",
       "    </tr>\n",
       "    <tr>\n",
       "      <th>1</th>\n",
       "      <td>Operations</td>\n",
       "      <td>region_22</td>\n",
       "      <td>Bachelor's</td>\n",
       "      <td>m</td>\n",
       "      <td>other</td>\n",
       "      <td>1</td>\n",
       "      <td>30</td>\n",
       "      <td>5.0</td>\n",
       "      <td>4</td>\n",
       "      <td>0</td>\n",
       "      <td>0</td>\n",
       "      <td>60</td>\n",
       "      <td>0</td>\n",
       "    </tr>\n",
       "    <tr>\n",
       "      <th>2</th>\n",
       "      <td>Sales &amp; Marketing</td>\n",
       "      <td>region_19</td>\n",
       "      <td>Bachelor's</td>\n",
       "      <td>m</td>\n",
       "      <td>sourcing</td>\n",
       "      <td>1</td>\n",
       "      <td>34</td>\n",
       "      <td>3.0</td>\n",
       "      <td>7</td>\n",
       "      <td>0</td>\n",
       "      <td>0</td>\n",
       "      <td>50</td>\n",
       "      <td>0</td>\n",
       "    </tr>\n",
       "    <tr>\n",
       "      <th>3</th>\n",
       "      <td>Sales &amp; Marketing</td>\n",
       "      <td>region_23</td>\n",
       "      <td>Bachelor's</td>\n",
       "      <td>m</td>\n",
       "      <td>other</td>\n",
       "      <td>2</td>\n",
       "      <td>39</td>\n",
       "      <td>1.0</td>\n",
       "      <td>10</td>\n",
       "      <td>0</td>\n",
       "      <td>0</td>\n",
       "      <td>50</td>\n",
       "      <td>0</td>\n",
       "    </tr>\n",
       "    <tr>\n",
       "      <th>4</th>\n",
       "      <td>Technology</td>\n",
       "      <td>region_26</td>\n",
       "      <td>Bachelor's</td>\n",
       "      <td>m</td>\n",
       "      <td>other</td>\n",
       "      <td>1</td>\n",
       "      <td>45</td>\n",
       "      <td>3.0</td>\n",
       "      <td>2</td>\n",
       "      <td>0</td>\n",
       "      <td>0</td>\n",
       "      <td>73</td>\n",
       "      <td>0</td>\n",
       "    </tr>\n",
       "    <tr>\n",
       "      <th>...</th>\n",
       "      <td>...</td>\n",
       "      <td>...</td>\n",
       "      <td>...</td>\n",
       "      <td>...</td>\n",
       "      <td>...</td>\n",
       "      <td>...</td>\n",
       "      <td>...</td>\n",
       "      <td>...</td>\n",
       "      <td>...</td>\n",
       "      <td>...</td>\n",
       "      <td>...</td>\n",
       "      <td>...</td>\n",
       "      <td>...</td>\n",
       "    </tr>\n",
       "    <tr>\n",
       "      <th>9995</th>\n",
       "      <td>Procurement</td>\n",
       "      <td>region_13</td>\n",
       "      <td>Master's &amp; above</td>\n",
       "      <td>f</td>\n",
       "      <td>other</td>\n",
       "      <td>1</td>\n",
       "      <td>37</td>\n",
       "      <td>4.0</td>\n",
       "      <td>7</td>\n",
       "      <td>1</td>\n",
       "      <td>0</td>\n",
       "      <td>71</td>\n",
       "      <td>0</td>\n",
       "    </tr>\n",
       "    <tr>\n",
       "      <th>9996</th>\n",
       "      <td>Sales &amp; Marketing</td>\n",
       "      <td>region_33</td>\n",
       "      <td>Master's &amp; above</td>\n",
       "      <td>m</td>\n",
       "      <td>sourcing</td>\n",
       "      <td>1</td>\n",
       "      <td>39</td>\n",
       "      <td>3.0</td>\n",
       "      <td>7</td>\n",
       "      <td>0</td>\n",
       "      <td>0</td>\n",
       "      <td>48</td>\n",
       "      <td>0</td>\n",
       "    </tr>\n",
       "    <tr>\n",
       "      <th>9997</th>\n",
       "      <td>Finance</td>\n",
       "      <td>region_13</td>\n",
       "      <td>Master's &amp; above</td>\n",
       "      <td>f</td>\n",
       "      <td>sourcing</td>\n",
       "      <td>1</td>\n",
       "      <td>33</td>\n",
       "      <td>4.0</td>\n",
       "      <td>4</td>\n",
       "      <td>1</td>\n",
       "      <td>0</td>\n",
       "      <td>58</td>\n",
       "      <td>0</td>\n",
       "    </tr>\n",
       "    <tr>\n",
       "      <th>9998</th>\n",
       "      <td>Operations</td>\n",
       "      <td>region_28</td>\n",
       "      <td>Master's &amp; above</td>\n",
       "      <td>m</td>\n",
       "      <td>other</td>\n",
       "      <td>1</td>\n",
       "      <td>32</td>\n",
       "      <td>4.0</td>\n",
       "      <td>4</td>\n",
       "      <td>1</td>\n",
       "      <td>0</td>\n",
       "      <td>57</td>\n",
       "      <td>1</td>\n",
       "    </tr>\n",
       "    <tr>\n",
       "      <th>9999</th>\n",
       "      <td>Procurement</td>\n",
       "      <td>region_13</td>\n",
       "      <td>Bachelor's</td>\n",
       "      <td>f</td>\n",
       "      <td>sourcing</td>\n",
       "      <td>1</td>\n",
       "      <td>32</td>\n",
       "      <td>3.0</td>\n",
       "      <td>6</td>\n",
       "      <td>0</td>\n",
       "      <td>0</td>\n",
       "      <td>71</td>\n",
       "      <td>0</td>\n",
       "    </tr>\n",
       "  </tbody>\n",
       "</table>\n",
       "<p>10000 rows × 13 columns</p>\n",
       "</div>"
      ],
      "text/plain": [
       "             department     region         education gender  \\\n",
       "0     Sales & Marketing   region_7  Master's & above      f   \n",
       "1            Operations  region_22        Bachelor's      m   \n",
       "2     Sales & Marketing  region_19        Bachelor's      m   \n",
       "3     Sales & Marketing  region_23        Bachelor's      m   \n",
       "4            Technology  region_26        Bachelor's      m   \n",
       "...                 ...        ...               ...    ...   \n",
       "9995        Procurement  region_13  Master's & above      f   \n",
       "9996  Sales & Marketing  region_33  Master's & above      m   \n",
       "9997            Finance  region_13  Master's & above      f   \n",
       "9998         Operations  region_28  Master's & above      m   \n",
       "9999        Procurement  region_13        Bachelor's      f   \n",
       "\n",
       "     recruitment_channel  no_of_trainings  age  previous_year_rating  \\\n",
       "0               sourcing                1   35                   5.0   \n",
       "1                  other                1   30                   5.0   \n",
       "2               sourcing                1   34                   3.0   \n",
       "3                  other                2   39                   1.0   \n",
       "4                  other                1   45                   3.0   \n",
       "...                  ...              ...  ...                   ...   \n",
       "9995               other                1   37                   4.0   \n",
       "9996            sourcing                1   39                   3.0   \n",
       "9997            sourcing                1   33                   4.0   \n",
       "9998               other                1   32                   4.0   \n",
       "9999            sourcing                1   32                   3.0   \n",
       "\n",
       "      length_of_service  KPIs_met >80%  awards_won?  avg_training_score  \\\n",
       "0                     8              1            0                  49   \n",
       "1                     4              0            0                  60   \n",
       "2                     7              0            0                  50   \n",
       "3                    10              0            0                  50   \n",
       "4                     2              0            0                  73   \n",
       "...                 ...            ...          ...                 ...   \n",
       "9995                  7              1            0                  71   \n",
       "9996                  7              0            0                  48   \n",
       "9997                  4              1            0                  58   \n",
       "9998                  4              1            0                  57   \n",
       "9999                  6              0            0                  71   \n",
       "\n",
       "      is_promoted  \n",
       "0               0  \n",
       "1               0  \n",
       "2               0  \n",
       "3               0  \n",
       "4               0  \n",
       "...           ...  \n",
       "9995            0  \n",
       "9996            0  \n",
       "9997            0  \n",
       "9998            1  \n",
       "9999            0  \n",
       "\n",
       "[10000 rows x 13 columns]"
      ]
     },
     "execution_count": 3,
     "metadata": {},
     "output_type": "execute_result"
    }
   ],
   "source": [
    "data_dir = '../../../datasets/'\n",
    "download_datasets(data_dir)\n",
    "dataset = pd.read_csv(data_dir + 'hr_promotion/train.csv')\n",
    "dataset = dataset[:10000].drop('employee_id', axis=1)\n",
    "\n",
    "dataset"
   ]
  },
  {
   "attachments": {},
   "cell_type": "markdown",
   "metadata": {},
   "source": [
    "#### Dataset Edit\n",
    "Datasets tend to naturally have errors in the data and this dataset is no different. However, in addition to existing errors, for the sake of this tutorial, we will add some synthetic errors to help highlight functionalities offered by `ActiveDetect`."
   ]
  },
  {
   "cell_type": "code",
   "execution_count": 4,
   "metadata": {},
   "outputs": [],
   "source": [
    "def get_random_indices(df: pd.DataFrame, size: int) -> list:\n",
    "    indices = df.index.to_list()\n",
    "    return random.sample(indices, size)"
   ]
  },
  {
   "attachments": {},
   "cell_type": "markdown",
   "metadata": {},
   "source": [
    "Add quantitative errors to `\"avg_training_score\"` column:"
   ]
  },
  {
   "cell_type": "code",
   "execution_count": 5,
   "metadata": {},
   "outputs": [],
   "source": [
    "rand_indices = get_random_indices(dataset, 6)\n",
    "dataset.loc[rand_indices, \"avg_training_score\"] = dataset.loc[rand_indices, \"avg_training_score\"] * 1000"
   ]
  },
  {
   "attachments": {},
   "cell_type": "markdown",
   "metadata": {},
   "source": [
    "Add punctuation errors to `\"gender\"` column:"
   ]
  },
  {
   "cell_type": "code",
   "execution_count": 6,
   "metadata": {},
   "outputs": [],
   "source": [
    "rand_indices = get_random_indices(dataset, 5)\n",
    "dataset.loc[rand_indices, \"gender\"] = ['','.',',','  ','. ']"
   ]
  },
  {
   "attachments": {},
   "cell_type": "markdown",
   "metadata": {},
   "source": [
    "Add semantic errors to `\"education\"` column:"
   ]
  },
  {
   "cell_type": "code",
   "execution_count": 7,
   "metadata": {},
   "outputs": [],
   "source": [
    "rand_indices = get_random_indices(dataset, 2)\n",
    "dataset.loc[rand_indices, \"education\"] = [\"not an education status 1\", \"not an education status 2\"]"
   ]
  },
  {
   "attachments": {},
   "cell_type": "markdown",
   "metadata": {},
   "source": [
    "Add distribution errors to `\"region\"` column:"
   ]
  },
  {
   "cell_type": "code",
   "execution_count": 8,
   "metadata": {},
   "outputs": [
    {
     "data": {
      "text/plain": [
       "region_2     2231\n",
       "region_22    1183\n",
       "region_7      886\n",
       "region_15     509\n",
       "region_13     488\n",
       "region_26     427\n",
       "region_31     342\n",
       "region_4      320\n",
       "region_27     311\n",
       "region_16     286\n",
       "region_28     236\n",
       "region_11     216\n",
       "region_23     214\n",
       "region_29     189\n",
       "region_32     184\n",
       "region_19     158\n",
       "region_14     155\n",
       "region_17     151\n",
       "region_20     144\n",
       "region_5      139\n",
       "region_25     134\n",
       "region_6      134\n",
       "region_1      124\n",
       "region_30     117\n",
       "region_8      115\n",
       "region_10     113\n",
       "region_24      84\n",
       "region_12      82\n",
       "region_9       78\n",
       "region_21      65\n",
       "region_3       64\n",
       "region_34      58\n",
       "region_33      56\n",
       "region_18       7\n",
       "Name: region, dtype: int64"
      ]
     },
     "execution_count": 8,
     "metadata": {},
     "output_type": "execute_result"
    }
   ],
   "source": [
    "dataset[\"region\"].value_counts()"
   ]
  },
  {
   "cell_type": "code",
   "execution_count": 9,
   "metadata": {},
   "outputs": [],
   "source": [
    "rand_indices = get_random_indices(dataset, 5000)\n",
    "dataset.loc[rand_indices, \"region\"] = \"region_x\""
   ]
  },
  {
   "attachments": {},
   "cell_type": "markdown",
   "metadata": {},
   "source": [
    "Add a synthetic string column `\"X\"` (including synthetic errors) to evaluate string and character similarity errors:"
   ]
  },
  {
   "cell_type": "code",
   "execution_count": 10,
   "metadata": {},
   "outputs": [],
   "source": [
    "random.seed(100)\n",
    "dataset[\"X\"] = \"\"\n",
    "dataset[\"X\"] = [''.join(random.choice(string.ascii_lowercase) for i in range(5)) for i in range(dataset.shape[0])]\n",
    "rand_indices = get_random_indices(dataset, 2)\n",
    "dataset.loc[rand_indices, \"X\"] = [str(random.randint(0, 1000)), \"?????****?????\"]"
   ]
  },
  {
   "attachments": {},
   "cell_type": "markdown",
   "metadata": {},
   "source": [
    "## Error Modules\n",
    "`ActiveDetect` calls on different error modules to predict errors in the data. It automatically detects what type of data each column has (numerical, categorical, string) and calls applicable error modules.\n",
    "\n",
    "It uses a `.fit()`, `.predict()` and `.transform()` interface. It uses a `col_predict` parameter to specify the columns to be included in error prediction, if `None`, all columns will be evaluated for errors. It also uses a `mode` string parameter that can take the values:\n",
    "- `\"column\"`: prediction will be applied to each column. An error matrix of the same shape as the data will be returned by `predict`.\n",
    "- `\"row\"`: prediction will be applied over each row as a whole. A list of erroneous row indices will be returned by `predict`.\n",
    "\n",
    "Given the default setting, `mode`=`\"column\"`, `.predict()` returns a matrix of the same shape as the input data indicating if an element is erroneous: -1, non-erroneous: +1 or np.nan for columns not included in `col_predict`. The matrix returned by this function is the union of all error matrices returned by all modules passed to `error_modules`. If you'd like to get the error matrix of a single module post calling `.predict()`, you can do so by calling `.get_error_module_matrix(<error module name>)`.\n",
    "\n",
    "We can use the following function to print out erroneous values returned by the error matrix:"
   ]
  },
  {
   "cell_type": "code",
   "execution_count": 11,
   "metadata": {},
   "outputs": [],
   "source": [
    "def print_erroneous_values_per_column(df, error_matrix):\n",
    "    for i,col in enumerate(df):\n",
    "        mask = np.where(error_matrix == -1, True, False)\n",
    "        errors = set(compress(list(df[col]),mask[:,i]))\n",
    "        if errors:\n",
    "            print(\"Column: \", col)\n",
    "            print(list(errors))"
   ]
  },
  {
   "cell_type": "code",
   "execution_count": 12,
   "metadata": {},
   "outputs": [],
   "source": [
    "def check_dataframe_matrix(dataframe, matrix, indices):\n",
    "    for index, _ in dataframe.iterrows():\n",
    "        if index in indices:\n",
    "            if -1 in matrix[index, :]:\n",
    "                continue\n",
    "            else:\n",
    "                print(f\"Error: Row {index} in the matrix does not contain -1.\")\n",
    "                return\n",
    "    print('all good.')"
   ]
  },
  {
   "attachments": {},
   "cell_type": "markdown",
   "metadata": {},
   "source": [
    "Now, although we can use `ActiveDetect` to call multiple modules at once, let's first explore each available module individually. We'll look at both `mode`s for each module:"
   ]
  },
  {
   "attachments": {},
   "cell_type": "markdown",
   "metadata": {},
   "source": [
    "### QuantitativeErrorModule\n",
    "This module detects both quantitative parsing failures and abnormal values in a `numerical` column using standard deviation. It takes the following parameters.\n",
    "- `thresh`: a standard deviation count threshold to determine how many stds can a non-erroneous value be beyond the values' mean. This parameter defaults at 3.5."
   ]
  },
  {
   "cell_type": "code",
   "execution_count": 13,
   "metadata": {},
   "outputs": [
    {
     "name": "stdout",
     "output_type": "stream",
     "text": [
      "Column:  no_of_trainings\n",
      "[4, 5, 6, 7, 8, 10]\n",
      "Column:  length_of_service\n",
      "[32, 33, 34, 21, 22, 23, 24, 25, 26, 27, 28, 29, 30, 31]\n",
      "Column:  awards_won?\n",
      "[1]\n",
      "Column:  avg_training_score\n",
      "[64000, 84000, 49000, 69000, 82000, 58000]\n"
     ]
    }
   ],
   "source": [
    "## mode = \"column\"\n",
    "active_detector_1 = ActiveDetect(\n",
    "    df=dataset,\n",
    "    col_predict=None,\n",
    "    mode=\"column\",\n",
    "    error_modules=[QuantitativeErrorModule()],\n",
    "    verbose=False,\n",
    ")\n",
    "active_detector_1.fit()\n",
    "error_matrix = active_detector_1.predict(dataset)\n",
    "print_erroneous_values_per_column(dataset, error_matrix)"
   ]
  },
  {
   "cell_type": "code",
   "execution_count": 14,
   "metadata": {},
   "outputs": [
    {
     "data": {
      "text/plain": [
       "471"
      ]
     },
     "execution_count": 14,
     "metadata": {},
     "output_type": "execute_result"
    }
   ],
   "source": [
    "## mode = \"row\"\n",
    "active_detector_1 = ActiveDetect(\n",
    "    df=dataset,\n",
    "    col_predict=None,\n",
    "    mode=\"row\",\n",
    "    error_modules=[QuantitativeErrorModule()],\n",
    "    verbose=False,\n",
    ")\n",
    "active_detector_1.fit()\n",
    "indices = active_detector_1.predict(dataset)\n",
    "len(indices)"
   ]
  },
  {
   "cell_type": "code",
   "execution_count": 15,
   "metadata": {},
   "outputs": [
    {
     "name": "stdout",
     "output_type": "stream",
     "text": [
      "all good.\n"
     ]
    }
   ],
   "source": [
    "check_dataframe_matrix(dataset, error_matrix, indices)"
   ]
  },
  {
   "attachments": {},
   "cell_type": "markdown",
   "metadata": {},
   "source": [
    "### PuncErrorModule\n",
    "This module detects attributes that are only punctuation, whitespace, etc in `categorical` and `string` columns. It takes no parameters."
   ]
  },
  {
   "cell_type": "code",
   "execution_count": 16,
   "metadata": {},
   "outputs": [
    {
     "name": "stdout",
     "output_type": "stream",
     "text": [
      "Column:  gender\n",
      "['', '.', ',', '  ', '. ']\n",
      "Column:  X\n",
      "['?????****?????']\n"
     ]
    }
   ],
   "source": [
    "## mode = \"column\"\n",
    "active_detector_2 = ActiveDetect(\n",
    "    df=dataset,\n",
    "    col_predict=None,\n",
    "    error_modules=[PuncErrorModule()],\n",
    "    verbose=False,\n",
    ")\n",
    "active_detector_2.fit()\n",
    "error_matrix = active_detector_2.predict(dataset)\n",
    "print_erroneous_values_per_column(dataset, error_matrix)"
   ]
  },
  {
   "cell_type": "code",
   "execution_count": 17,
   "metadata": {},
   "outputs": [
    {
     "data": {
      "text/plain": [
       "6"
      ]
     },
     "execution_count": 17,
     "metadata": {},
     "output_type": "execute_result"
    }
   ],
   "source": [
    "## mode = \"row\"\n",
    "active_detector_2 = ActiveDetect(\n",
    "    df=dataset,\n",
    "    col_predict=None,\n",
    "    mode=\"row\",\n",
    "    error_modules=[PuncErrorModule()],\n",
    "    verbose=False,\n",
    ")\n",
    "active_detector_2.fit()\n",
    "indices = active_detector_2.predict(dataset)\n",
    "len(indices)"
   ]
  },
  {
   "cell_type": "code",
   "execution_count": 18,
   "metadata": {},
   "outputs": [
    {
     "name": "stdout",
     "output_type": "stream",
     "text": [
      "all good.\n"
     ]
    }
   ],
   "source": [
    "check_dataframe_matrix(dataset, error_matrix, indices)"
   ]
  },
  {
   "attachments": {},
   "cell_type": "markdown",
   "metadata": {},
   "source": [
    "### SemanticErrorModule\n",
    "This module detects values that do not belong in a `categorical` column, it does so by using Word2Vec architecture. It takes the following parameters:\n",
    "\n",
    "- `thresh`: a float specifying the similarity score threshold to determine when a value doesn't belong to the set. This parameter defaults at 3.5;\n",
    "- `fail_thresh`: an int representing the fraction of tokens not found in the corpus before short-circuiting. This parameter defaults at 5;"
   ]
  },
  {
   "cell_type": "code",
   "execution_count": 19,
   "metadata": {},
   "outputs": [
    {
     "name": "stdout",
     "output_type": "stream",
     "text": [
      "Column:  department\n",
      "['R&D', 'Procurement']\n",
      "Column:  education\n",
      "['not an education status 1', 'not an education status 2']\n",
      "Column:  gender\n",
      "['', '.', ',', '  ', '. ']\n"
     ]
    }
   ],
   "source": [
    "## mode = \"column\"\n",
    "active_detector_3 = ActiveDetect(\n",
    "    df=dataset,\n",
    "    col_predict=None,\n",
    "    error_modules=[SemanticErrorModule(thresh=1.5, fail_thresh=2)],\n",
    "    verbose=False,\n",
    ")\n",
    "active_detector_3.fit()\n",
    "error_matrix = active_detector_3.predict(dataset)\n",
    "print_erroneous_values_per_column(dataset, error_matrix)"
   ]
  },
  {
   "cell_type": "code",
   "execution_count": 20,
   "metadata": {},
   "outputs": [
    {
     "data": {
      "text/plain": [
       "1502"
      ]
     },
     "execution_count": 20,
     "metadata": {},
     "output_type": "execute_result"
    }
   ],
   "source": [
    "## mode = \"row\"\n",
    "active_detector_3 = ActiveDetect(\n",
    "    df=dataset,\n",
    "    col_predict=None,\n",
    "    mode=\"row\",\n",
    "    error_modules=[SemanticErrorModule(thresh=1.5, fail_thresh=2)],\n",
    "    verbose=False,\n",
    ")\n",
    "active_detector_3.fit()\n",
    "indices = active_detector_3.predict(dataset)\n",
    "len(indices)"
   ]
  },
  {
   "cell_type": "code",
   "execution_count": 21,
   "metadata": {},
   "outputs": [
    {
     "name": "stdout",
     "output_type": "stream",
     "text": [
      "all good.\n"
     ]
    }
   ],
   "source": [
    "check_dataframe_matrix(dataset, error_matrix, indices)"
   ]
  },
  {
   "attachments": {},
   "cell_type": "markdown",
   "metadata": {},
   "source": [
    "### DistributionErrorModule\n",
    "This module detects values that appear more or less frequently than typical in the dataset using standard deviation. It applies to all data types and takes the following parameters:\n",
    "- `thresh`: a standard deviation count threshold to determine how many stds can the distribution count of a non-erroneous value be beyond the distribution mean. This parameter defaults at 3.5;\n",
    "- `fail_thresh`: minimum number of unique values for a successful run of the module. This parameter defaults at 2;"
   ]
  },
  {
   "cell_type": "code",
   "execution_count": 22,
   "metadata": {},
   "outputs": [
    {
     "name": "stdout",
     "output_type": "stream",
     "text": [
      "Column:  region\n",
      "['region_x']\n",
      "Column:  no_of_trainings\n",
      "[1]\n",
      "Column:  avg_training_score\n",
      "[49, 50]\n"
     ]
    }
   ],
   "source": [
    "## mode = \"column\"\n",
    "active_detector_4 = ActiveDetect(\n",
    "    df=dataset,\n",
    "    col_predict=None,\n",
    "    error_modules=[DistributionErrorModule(thresh=2.5, fail_thresh=2)],\n",
    "    verbose=False,\n",
    ")\n",
    "active_detector_4.fit()\n",
    "error_matrix = active_detector_4.predict(dataset)\n",
    "print_erroneous_values_per_column(dataset, error_matrix)"
   ]
  },
  {
   "cell_type": "code",
   "execution_count": 23,
   "metadata": {},
   "outputs": [
    {
     "data": {
      "text/plain": [
       "9166"
      ]
     },
     "execution_count": 23,
     "metadata": {},
     "output_type": "execute_result"
    }
   ],
   "source": [
    "## mode = \"row\"\n",
    "active_detector_4 = ActiveDetect(\n",
    "    df=dataset,\n",
    "    col_predict=None,\n",
    "    mode=\"row\",\n",
    "    error_modules=[DistributionErrorModule(thresh=2.5, fail_thresh=2)],\n",
    "    verbose=False,\n",
    ")\n",
    "active_detector_4.fit()\n",
    "indices = active_detector_4.predict(dataset)\n",
    "len(indices)"
   ]
  },
  {
   "cell_type": "code",
   "execution_count": 24,
   "metadata": {},
   "outputs": [
    {
     "name": "stdout",
     "output_type": "stream",
     "text": [
      "all good.\n"
     ]
    }
   ],
   "source": [
    "check_dataframe_matrix(dataset, error_matrix, indices)"
   ]
  },
  {
   "attachments": {},
   "cell_type": "markdown",
   "metadata": {},
   "source": [
    "### StringSimilarityErrorModule\n",
    "This module detects values that do not belong in a `string` column. It fine-tunes Word2Vec on the given set of data and compares the score of likelihood of input values within the set using standard deviation to predict possibly erroneous values. It takes the following parameters:\n",
    "- `thresh`: a standard deviation count threshold to determine how many stds can a non-erroneous string's likelihood score be beyond the dataset mean. This parameter defaults at 3.5;"
   ]
  },
  {
   "cell_type": "code",
   "execution_count": 25,
   "metadata": {},
   "outputs": [
    {
     "name": "stdout",
     "output_type": "stream",
     "text": [
      "Column:  X\n",
      "['gomjs', 'cmsig', 'ugqgq']\n"
     ]
    }
   ],
   "source": [
    "## mode = \"column\"\n",
    "active_detector_5 = ActiveDetect(\n",
    "    df=dataset,\n",
    "    col_predict=['X'],\n",
    "    error_modules=[StringSimilarityErrorModule(thresh=1.5)],\n",
    "    verbose=False,\n",
    ")\n",
    "active_detector_5.fit()\n",
    "error_matrix = active_detector_5.predict(dataset)\n",
    "print_erroneous_values_per_column(dataset, error_matrix)"
   ]
  },
  {
   "cell_type": "code",
   "execution_count": 26,
   "metadata": {},
   "outputs": [
    {
     "data": {
      "text/plain": [
       "6"
      ]
     },
     "execution_count": 26,
     "metadata": {},
     "output_type": "execute_result"
    }
   ],
   "source": [
    "## mode = \"row\"\n",
    "active_detector_5 = ActiveDetect(\n",
    "    df=dataset,\n",
    "    col_predict=['X'],\n",
    "    mode=\"row\",\n",
    "    error_modules=[StringSimilarityErrorModule(thresh=1.5)],\n",
    "    verbose=False,\n",
    ")\n",
    "active_detector_5.fit()\n",
    "indices = active_detector_5.predict(dataset)\n",
    "len(indices)"
   ]
  },
  {
   "cell_type": "code",
   "execution_count": 27,
   "metadata": {},
   "outputs": [
    {
     "name": "stdout",
     "output_type": "stream",
     "text": [
      "all good.\n"
     ]
    }
   ],
   "source": [
    "check_dataframe_matrix(dataset, error_matrix, indices)"
   ]
  },
  {
   "attachments": {},
   "cell_type": "markdown",
   "metadata": {},
   "source": [
    "### CharSimilarityErrorModule\n",
    "This module detects values that do not belong in a `string` column. It fine-tunes Word2Vec on the given set of data on the character-level and compares the score of likelihood of input values within the set using standard deviation to predict possibly erroneous values. It takes the following parameters:\n",
    "- `thresh`: a standard deviation count threshold to determine how many stds can a non-erroneous string's likelihood score be beyond the dataset's mean. This parameter defaults at 3.5;"
   ]
  },
  {
   "cell_type": "code",
   "execution_count": 28,
   "metadata": {},
   "outputs": [
    {
     "name": "stdout",
     "output_type": "stream",
     "text": [
      "Column:  X\n",
      "['?????****?????', '900']\n"
     ]
    }
   ],
   "source": [
    "## mode = \"column\"\n",
    "active_detector_6 = ActiveDetect(\n",
    "    df=dataset,\n",
    "    col_predict=None,\n",
    "    error_modules=[CharSimilarityErrorModule(thresh=5)],\n",
    "    verbose=False,\n",
    ")\n",
    "active_detector_6.fit()\n",
    "error_matrix = active_detector_6.predict(dataset)\n",
    "print_erroneous_values_per_column(dataset, error_matrix)"
   ]
  },
  {
   "cell_type": "code",
   "execution_count": 29,
   "metadata": {},
   "outputs": [
    {
     "data": {
      "text/plain": [
       "2"
      ]
     },
     "execution_count": 29,
     "metadata": {},
     "output_type": "execute_result"
    }
   ],
   "source": [
    "## mode = \"row\"\n",
    "active_detector_6 = ActiveDetect(\n",
    "    df=dataset,\n",
    "    col_predict=None,\n",
    "    mode=\"row\",\n",
    "    error_modules=[CharSimilarityErrorModule(thresh=5)],\n",
    "    verbose=False,\n",
    ")\n",
    "active_detector_6.fit()\n",
    "indices = active_detector_6.predict(dataset)\n",
    "len(indices)"
   ]
  },
  {
   "cell_type": "code",
   "execution_count": 30,
   "metadata": {},
   "outputs": [
    {
     "name": "stdout",
     "output_type": "stream",
     "text": [
      "all good.\n"
     ]
    }
   ],
   "source": [
    "check_dataframe_matrix(dataset, error_matrix, indices)"
   ]
  },
  {
   "attachments": {},
   "cell_type": "markdown",
   "metadata": {},
   "source": [
    "## Calling multiple error modules\n",
    "Next, let's use `ActiveDetect` to call multiple error modules at once. We can also use the `json_log_path` parameter to save our prediction results to a json log file. This parameter defaults to None, where no log file is saved. Given `mode`=\"column\", the log file will include:\n",
    "- \"object_config\": contains set attributes of the concrete class;\n",
    "- It maps every column containing errors to a list of its erroneous values."
   ]
  },
  {
   "cell_type": "code",
   "execution_count": 31,
   "metadata": {},
   "outputs": [
    {
     "name": "stdout",
     "output_type": "stream",
     "text": [
      "Column:  department\n",
      "['R&D', 'Procurement']\n",
      "Column:  region\n",
      "['region_x']\n",
      "Column:  education\n",
      "['not an education status 1', 'not an education status 2']\n",
      "Column:  gender\n",
      "['', '.', ',', '  ', '. ']\n",
      "Column:  no_of_trainings\n",
      "[1, 4, 5, 6, 7, 8, 10]\n",
      "Column:  length_of_service\n",
      "[32, 33, 34, 21, 22, 23, 24, 25, 26, 27, 28, 29, 30, 31]\n",
      "Column:  awards_won?\n",
      "[1]\n",
      "Column:  avg_training_score\n",
      "[64000, 84000, 49000, 69000, 58000, 49, 50, 82000]\n"
     ]
    }
   ],
   "source": [
    "## mode = \"column\"\n",
    "active_detector_7 = ActiveDetect(\n",
    "    df=dataset,\n",
    "    col_predict=None,\n",
    "    error_modules=[QuantitativeErrorModule(), DistributionErrorModule(thresh=2.5, fail_thresh=2), SemanticErrorModule(thresh=1.5, fail_thresh=2)],\n",
    "    json_log_path=\"../logs/log_7.json\",\n",
    "    verbose=False,\n",
    ")\n",
    "active_detector_7.fit()\n",
    "error_matrix = active_detector_7.predict(dataset)\n",
    "print_erroneous_values_per_column(dataset, error_matrix)"
   ]
  },
  {
   "cell_type": "code",
   "execution_count": 32,
   "metadata": {},
   "outputs": [
    {
     "data": {
      "text/plain": [
       "array([[ 1.,  1.,  1., ..., -1.,  1.,  1.],\n",
       "       [ 1.,  1.,  1., ...,  1.,  1.,  1.],\n",
       "       [ 1.,  1.,  1., ..., -1.,  1.,  1.],\n",
       "       ...,\n",
       "       [ 1., -1.,  1., ...,  1.,  1.,  1.],\n",
       "       [ 1., -1.,  1., ...,  1.,  1.,  1.],\n",
       "       [-1., -1.,  1., ...,  1.,  1.,  1.]])"
      ]
     },
     "execution_count": 32,
     "metadata": {},
     "output_type": "execute_result"
    }
   ],
   "source": [
    "error_matrix"
   ]
  },
  {
   "attachments": {},
   "cell_type": "markdown",
   "metadata": {},
   "source": [
    "If you'd like to isolate the error matrix of a single module:"
   ]
  },
  {
   "cell_type": "code",
   "execution_count": 33,
   "metadata": {},
   "outputs": [
    {
     "data": {
      "text/plain": [
       "array([[1, 1, 1, ..., 1, 1, 1],\n",
       "       [1, 1, 1, ..., 1, 1, 1],\n",
       "       [1, 1, 1, ..., 1, 1, 1],\n",
       "       ...,\n",
       "       [1, 1, 1, ..., 1, 1, 1],\n",
       "       [1, 1, 1, ..., 1, 1, 1],\n",
       "       [1, 1, 1, ..., 1, 1, 1]])"
      ]
     },
     "execution_count": 33,
     "metadata": {},
     "output_type": "execute_result"
    }
   ],
   "source": [
    "active_detector_7.get_error_module_matrix('QuantitativeErrorModule')"
   ]
  },
  {
   "attachments": {},
   "cell_type": "markdown",
   "metadata": {},
   "source": [
    "Finally, we can call the `.transform()` function to transform the data, using `mode`=`\"column\"`, we have the 2 following options:\n",
    "1. Remove erroneous values from the data:"
   ]
  },
  {
   "cell_type": "code",
   "execution_count": 34,
   "metadata": {},
   "outputs": [
    {
     "data": {
      "text/html": [
       "<div>\n",
       "<style scoped>\n",
       "    .dataframe tbody tr th:only-of-type {\n",
       "        vertical-align: middle;\n",
       "    }\n",
       "\n",
       "    .dataframe tbody tr th {\n",
       "        vertical-align: top;\n",
       "    }\n",
       "\n",
       "    .dataframe thead th {\n",
       "        text-align: right;\n",
       "    }\n",
       "</style>\n",
       "<table border=\"1\" class=\"dataframe\">\n",
       "  <thead>\n",
       "    <tr style=\"text-align: right;\">\n",
       "      <th></th>\n",
       "      <th>department</th>\n",
       "      <th>region</th>\n",
       "      <th>education</th>\n",
       "      <th>gender</th>\n",
       "      <th>recruitment_channel</th>\n",
       "      <th>no_of_trainings</th>\n",
       "      <th>age</th>\n",
       "      <th>previous_year_rating</th>\n",
       "      <th>length_of_service</th>\n",
       "      <th>KPIs_met &gt;80%</th>\n",
       "      <th>awards_won?</th>\n",
       "      <th>avg_training_score</th>\n",
       "      <th>is_promoted</th>\n",
       "      <th>X</th>\n",
       "    </tr>\n",
       "  </thead>\n",
       "  <tbody>\n",
       "    <tr>\n",
       "      <th>0</th>\n",
       "      <td>Sales &amp; Marketing</td>\n",
       "      <td>region_7</td>\n",
       "      <td>Master's &amp; above</td>\n",
       "      <td>f</td>\n",
       "      <td>sourcing</td>\n",
       "      <td>NaN</td>\n",
       "      <td>35</td>\n",
       "      <td>5.0</td>\n",
       "      <td>8.0</td>\n",
       "      <td>1</td>\n",
       "      <td>0.0</td>\n",
       "      <td>NaN</td>\n",
       "      <td>0</td>\n",
       "      <td>eooyf</td>\n",
       "    </tr>\n",
       "    <tr>\n",
       "      <th>1</th>\n",
       "      <td>Operations</td>\n",
       "      <td>region_22</td>\n",
       "      <td>Bachelor's</td>\n",
       "      <td>m</td>\n",
       "      <td>other</td>\n",
       "      <td>NaN</td>\n",
       "      <td>30</td>\n",
       "      <td>5.0</td>\n",
       "      <td>4.0</td>\n",
       "      <td>0</td>\n",
       "      <td>0.0</td>\n",
       "      <td>60.0</td>\n",
       "      <td>0</td>\n",
       "      <td>wmxln</td>\n",
       "    </tr>\n",
       "    <tr>\n",
       "      <th>2</th>\n",
       "      <td>Sales &amp; Marketing</td>\n",
       "      <td>region_19</td>\n",
       "      <td>Bachelor's</td>\n",
       "      <td>m</td>\n",
       "      <td>sourcing</td>\n",
       "      <td>NaN</td>\n",
       "      <td>34</td>\n",
       "      <td>3.0</td>\n",
       "      <td>7.0</td>\n",
       "      <td>0</td>\n",
       "      <td>0.0</td>\n",
       "      <td>NaN</td>\n",
       "      <td>0</td>\n",
       "      <td>qzdrd</td>\n",
       "    </tr>\n",
       "    <tr>\n",
       "      <th>3</th>\n",
       "      <td>Sales &amp; Marketing</td>\n",
       "      <td>region_23</td>\n",
       "      <td>Bachelor's</td>\n",
       "      <td>m</td>\n",
       "      <td>other</td>\n",
       "      <td>2.0</td>\n",
       "      <td>39</td>\n",
       "      <td>1.0</td>\n",
       "      <td>10.0</td>\n",
       "      <td>0</td>\n",
       "      <td>0.0</td>\n",
       "      <td>NaN</td>\n",
       "      <td>0</td>\n",
       "      <td>cxoib</td>\n",
       "    </tr>\n",
       "    <tr>\n",
       "      <th>4</th>\n",
       "      <td>Technology</td>\n",
       "      <td>NaN</td>\n",
       "      <td>Bachelor's</td>\n",
       "      <td>m</td>\n",
       "      <td>other</td>\n",
       "      <td>NaN</td>\n",
       "      <td>45</td>\n",
       "      <td>3.0</td>\n",
       "      <td>2.0</td>\n",
       "      <td>0</td>\n",
       "      <td>0.0</td>\n",
       "      <td>73.0</td>\n",
       "      <td>0</td>\n",
       "      <td>vugkh</td>\n",
       "    </tr>\n",
       "    <tr>\n",
       "      <th>...</th>\n",
       "      <td>...</td>\n",
       "      <td>...</td>\n",
       "      <td>...</td>\n",
       "      <td>...</td>\n",
       "      <td>...</td>\n",
       "      <td>...</td>\n",
       "      <td>...</td>\n",
       "      <td>...</td>\n",
       "      <td>...</td>\n",
       "      <td>...</td>\n",
       "      <td>...</td>\n",
       "      <td>...</td>\n",
       "      <td>...</td>\n",
       "      <td>...</td>\n",
       "    </tr>\n",
       "    <tr>\n",
       "      <th>9995</th>\n",
       "      <td>NaN</td>\n",
       "      <td>NaN</td>\n",
       "      <td>Master's &amp; above</td>\n",
       "      <td>f</td>\n",
       "      <td>other</td>\n",
       "      <td>NaN</td>\n",
       "      <td>37</td>\n",
       "      <td>4.0</td>\n",
       "      <td>7.0</td>\n",
       "      <td>1</td>\n",
       "      <td>0.0</td>\n",
       "      <td>71.0</td>\n",
       "      <td>0</td>\n",
       "      <td>kjtsp</td>\n",
       "    </tr>\n",
       "    <tr>\n",
       "      <th>9996</th>\n",
       "      <td>Sales &amp; Marketing</td>\n",
       "      <td>NaN</td>\n",
       "      <td>Master's &amp; above</td>\n",
       "      <td>m</td>\n",
       "      <td>sourcing</td>\n",
       "      <td>NaN</td>\n",
       "      <td>39</td>\n",
       "      <td>3.0</td>\n",
       "      <td>7.0</td>\n",
       "      <td>0</td>\n",
       "      <td>0.0</td>\n",
       "      <td>48.0</td>\n",
       "      <td>0</td>\n",
       "      <td>xtgaz</td>\n",
       "    </tr>\n",
       "    <tr>\n",
       "      <th>9997</th>\n",
       "      <td>Finance</td>\n",
       "      <td>NaN</td>\n",
       "      <td>Master's &amp; above</td>\n",
       "      <td>f</td>\n",
       "      <td>sourcing</td>\n",
       "      <td>NaN</td>\n",
       "      <td>33</td>\n",
       "      <td>4.0</td>\n",
       "      <td>4.0</td>\n",
       "      <td>1</td>\n",
       "      <td>0.0</td>\n",
       "      <td>58.0</td>\n",
       "      <td>0</td>\n",
       "      <td>uycfb</td>\n",
       "    </tr>\n",
       "    <tr>\n",
       "      <th>9998</th>\n",
       "      <td>Operations</td>\n",
       "      <td>NaN</td>\n",
       "      <td>Master's &amp; above</td>\n",
       "      <td>m</td>\n",
       "      <td>other</td>\n",
       "      <td>NaN</td>\n",
       "      <td>32</td>\n",
       "      <td>4.0</td>\n",
       "      <td>4.0</td>\n",
       "      <td>1</td>\n",
       "      <td>0.0</td>\n",
       "      <td>57.0</td>\n",
       "      <td>1</td>\n",
       "      <td>vgdui</td>\n",
       "    </tr>\n",
       "    <tr>\n",
       "      <th>9999</th>\n",
       "      <td>NaN</td>\n",
       "      <td>NaN</td>\n",
       "      <td>Bachelor's</td>\n",
       "      <td>f</td>\n",
       "      <td>sourcing</td>\n",
       "      <td>NaN</td>\n",
       "      <td>32</td>\n",
       "      <td>3.0</td>\n",
       "      <td>6.0</td>\n",
       "      <td>0</td>\n",
       "      <td>0.0</td>\n",
       "      <td>71.0</td>\n",
       "      <td>0</td>\n",
       "      <td>chtlx</td>\n",
       "    </tr>\n",
       "  </tbody>\n",
       "</table>\n",
       "<p>10000 rows × 14 columns</p>\n",
       "</div>"
      ],
      "text/plain": [
       "             department     region         education gender  \\\n",
       "0     Sales & Marketing   region_7  Master's & above      f   \n",
       "1            Operations  region_22        Bachelor's      m   \n",
       "2     Sales & Marketing  region_19        Bachelor's      m   \n",
       "3     Sales & Marketing  region_23        Bachelor's      m   \n",
       "4            Technology        NaN        Bachelor's      m   \n",
       "...                 ...        ...               ...    ...   \n",
       "9995                NaN        NaN  Master's & above      f   \n",
       "9996  Sales & Marketing        NaN  Master's & above      m   \n",
       "9997            Finance        NaN  Master's & above      f   \n",
       "9998         Operations        NaN  Master's & above      m   \n",
       "9999                NaN        NaN        Bachelor's      f   \n",
       "\n",
       "     recruitment_channel  no_of_trainings  age  previous_year_rating  \\\n",
       "0               sourcing              NaN   35                   5.0   \n",
       "1                  other              NaN   30                   5.0   \n",
       "2               sourcing              NaN   34                   3.0   \n",
       "3                  other              2.0   39                   1.0   \n",
       "4                  other              NaN   45                   3.0   \n",
       "...                  ...              ...  ...                   ...   \n",
       "9995               other              NaN   37                   4.0   \n",
       "9996            sourcing              NaN   39                   3.0   \n",
       "9997            sourcing              NaN   33                   4.0   \n",
       "9998               other              NaN   32                   4.0   \n",
       "9999            sourcing              NaN   32                   3.0   \n",
       "\n",
       "      length_of_service  KPIs_met >80%  awards_won?  avg_training_score  \\\n",
       "0                   8.0              1          0.0                 NaN   \n",
       "1                   4.0              0          0.0                60.0   \n",
       "2                   7.0              0          0.0                 NaN   \n",
       "3                  10.0              0          0.0                 NaN   \n",
       "4                   2.0              0          0.0                73.0   \n",
       "...                 ...            ...          ...                 ...   \n",
       "9995                7.0              1          0.0                71.0   \n",
       "9996                7.0              0          0.0                48.0   \n",
       "9997                4.0              1          0.0                58.0   \n",
       "9998                4.0              1          0.0                57.0   \n",
       "9999                6.0              0          0.0                71.0   \n",
       "\n",
       "      is_promoted      X  \n",
       "0               0  eooyf  \n",
       "1               0  wmxln  \n",
       "2               0  qzdrd  \n",
       "3               0  cxoib  \n",
       "4               0  vugkh  \n",
       "...           ...    ...  \n",
       "9995            0  kjtsp  \n",
       "9996            0  xtgaz  \n",
       "9997            0  uycfb  \n",
       "9998            1  vgdui  \n",
       "9999            0  chtlx  \n",
       "\n",
       "[10000 rows x 14 columns]"
      ]
     },
     "execution_count": 34,
     "metadata": {},
     "output_type": "execute_result"
    }
   ],
   "source": [
    "active_detector_7.transform(dataset)"
   ]
  },
  {
   "attachments": {},
   "cell_type": "markdown",
   "metadata": {},
   "source": [
    "2. Or, we can pass an imputer to impute these values post removal. Here we are using the `IterativeDataImputer` offered by this library:"
   ]
  },
  {
   "cell_type": "code",
   "execution_count": 35,
   "metadata": {},
   "outputs": [
    {
     "name": "stderr",
     "output_type": "stream",
     "text": [
      "/home/maabdin/anaconda3/envs/rai_310/lib/python3.10/site-packages/sklearn/impute/_iterative.py:785: ConvergenceWarning: [IterativeImputer] Early stopping criterion not reached.\n",
      "  warnings.warn(\n"
     ]
    },
    {
     "data": {
      "text/html": [
       "<div>\n",
       "<style scoped>\n",
       "    .dataframe tbody tr th:only-of-type {\n",
       "        vertical-align: middle;\n",
       "    }\n",
       "\n",
       "    .dataframe tbody tr th {\n",
       "        vertical-align: top;\n",
       "    }\n",
       "\n",
       "    .dataframe thead th {\n",
       "        text-align: right;\n",
       "    }\n",
       "</style>\n",
       "<table border=\"1\" class=\"dataframe\">\n",
       "  <thead>\n",
       "    <tr style=\"text-align: right;\">\n",
       "      <th></th>\n",
       "      <th>department</th>\n",
       "      <th>region</th>\n",
       "      <th>education</th>\n",
       "      <th>gender</th>\n",
       "      <th>recruitment_channel</th>\n",
       "      <th>no_of_trainings</th>\n",
       "      <th>age</th>\n",
       "      <th>previous_year_rating</th>\n",
       "      <th>length_of_service</th>\n",
       "      <th>KPIs_met &gt;80%</th>\n",
       "      <th>awards_won?</th>\n",
       "      <th>avg_training_score</th>\n",
       "      <th>is_promoted</th>\n",
       "      <th>X</th>\n",
       "    </tr>\n",
       "  </thead>\n",
       "  <tbody>\n",
       "    <tr>\n",
       "      <th>0</th>\n",
       "      <td>Sales &amp; Marketing</td>\n",
       "      <td>region_7</td>\n",
       "      <td>Master's &amp; above</td>\n",
       "      <td>f</td>\n",
       "      <td>sourcing</td>\n",
       "      <td>2.27</td>\n",
       "      <td>35.0</td>\n",
       "      <td>5.0</td>\n",
       "      <td>8.0</td>\n",
       "      <td>1.0</td>\n",
       "      <td>0.0</td>\n",
       "      <td>48.11</td>\n",
       "      <td>0.0</td>\n",
       "      <td>eooyf</td>\n",
       "    </tr>\n",
       "    <tr>\n",
       "      <th>1</th>\n",
       "      <td>Operations</td>\n",
       "      <td>region_22</td>\n",
       "      <td>Bachelor's</td>\n",
       "      <td>m</td>\n",
       "      <td>other</td>\n",
       "      <td>2.17</td>\n",
       "      <td>30.0</td>\n",
       "      <td>5.0</td>\n",
       "      <td>4.0</td>\n",
       "      <td>0.0</td>\n",
       "      <td>0.0</td>\n",
       "      <td>60.00</td>\n",
       "      <td>0.0</td>\n",
       "      <td>wmxln</td>\n",
       "    </tr>\n",
       "    <tr>\n",
       "      <th>2</th>\n",
       "      <td>Sales &amp; Marketing</td>\n",
       "      <td>region_19</td>\n",
       "      <td>Bachelor's</td>\n",
       "      <td>m</td>\n",
       "      <td>sourcing</td>\n",
       "      <td>2.06</td>\n",
       "      <td>34.0</td>\n",
       "      <td>3.0</td>\n",
       "      <td>7.0</td>\n",
       "      <td>0.0</td>\n",
       "      <td>0.0</td>\n",
       "      <td>49.64</td>\n",
       "      <td>0.0</td>\n",
       "      <td>qzdrd</td>\n",
       "    </tr>\n",
       "    <tr>\n",
       "      <th>3</th>\n",
       "      <td>Sales &amp; Marketing</td>\n",
       "      <td>region_23</td>\n",
       "      <td>Bachelor's</td>\n",
       "      <td>m</td>\n",
       "      <td>other</td>\n",
       "      <td>2.00</td>\n",
       "      <td>39.0</td>\n",
       "      <td>1.0</td>\n",
       "      <td>10.0</td>\n",
       "      <td>0.0</td>\n",
       "      <td>0.0</td>\n",
       "      <td>49.04</td>\n",
       "      <td>0.0</td>\n",
       "      <td>cxoib</td>\n",
       "    </tr>\n",
       "    <tr>\n",
       "      <th>4</th>\n",
       "      <td>Technology</td>\n",
       "      <td>region_28</td>\n",
       "      <td>Bachelor's</td>\n",
       "      <td>m</td>\n",
       "      <td>other</td>\n",
       "      <td>2.21</td>\n",
       "      <td>45.0</td>\n",
       "      <td>3.0</td>\n",
       "      <td>2.0</td>\n",
       "      <td>0.0</td>\n",
       "      <td>0.0</td>\n",
       "      <td>73.00</td>\n",
       "      <td>0.0</td>\n",
       "      <td>vugkh</td>\n",
       "    </tr>\n",
       "    <tr>\n",
       "      <th>...</th>\n",
       "      <td>...</td>\n",
       "      <td>...</td>\n",
       "      <td>...</td>\n",
       "      <td>...</td>\n",
       "      <td>...</td>\n",
       "      <td>...</td>\n",
       "      <td>...</td>\n",
       "      <td>...</td>\n",
       "      <td>...</td>\n",
       "      <td>...</td>\n",
       "      <td>...</td>\n",
       "      <td>...</td>\n",
       "      <td>...</td>\n",
       "      <td>...</td>\n",
       "    </tr>\n",
       "    <tr>\n",
       "      <th>9995</th>\n",
       "      <td>Sales &amp; Marketing</td>\n",
       "      <td>region_26</td>\n",
       "      <td>Master's &amp; above</td>\n",
       "      <td>f</td>\n",
       "      <td>other</td>\n",
       "      <td>2.36</td>\n",
       "      <td>37.0</td>\n",
       "      <td>4.0</td>\n",
       "      <td>7.0</td>\n",
       "      <td>1.0</td>\n",
       "      <td>0.0</td>\n",
       "      <td>71.00</td>\n",
       "      <td>0.0</td>\n",
       "      <td>kjtsp</td>\n",
       "    </tr>\n",
       "    <tr>\n",
       "      <th>9996</th>\n",
       "      <td>Sales &amp; Marketing</td>\n",
       "      <td>region_21</td>\n",
       "      <td>Master's &amp; above</td>\n",
       "      <td>m</td>\n",
       "      <td>sourcing</td>\n",
       "      <td>2.11</td>\n",
       "      <td>39.0</td>\n",
       "      <td>3.0</td>\n",
       "      <td>7.0</td>\n",
       "      <td>0.0</td>\n",
       "      <td>0.0</td>\n",
       "      <td>48.00</td>\n",
       "      <td>0.0</td>\n",
       "      <td>xtgaz</td>\n",
       "    </tr>\n",
       "    <tr>\n",
       "      <th>9997</th>\n",
       "      <td>Finance</td>\n",
       "      <td>region_21</td>\n",
       "      <td>Master's &amp; above</td>\n",
       "      <td>f</td>\n",
       "      <td>sourcing</td>\n",
       "      <td>2.17</td>\n",
       "      <td>33.0</td>\n",
       "      <td>4.0</td>\n",
       "      <td>4.0</td>\n",
       "      <td>1.0</td>\n",
       "      <td>0.0</td>\n",
       "      <td>58.00</td>\n",
       "      <td>0.0</td>\n",
       "      <td>uycfb</td>\n",
       "    </tr>\n",
       "    <tr>\n",
       "      <th>9998</th>\n",
       "      <td>Operations</td>\n",
       "      <td>region_28</td>\n",
       "      <td>Master's &amp; above</td>\n",
       "      <td>m</td>\n",
       "      <td>other</td>\n",
       "      <td>2.46</td>\n",
       "      <td>32.0</td>\n",
       "      <td>4.0</td>\n",
       "      <td>4.0</td>\n",
       "      <td>1.0</td>\n",
       "      <td>0.0</td>\n",
       "      <td>57.00</td>\n",
       "      <td>1.0</td>\n",
       "      <td>vgdui</td>\n",
       "    </tr>\n",
       "    <tr>\n",
       "      <th>9999</th>\n",
       "      <td>Operations</td>\n",
       "      <td>region_24</td>\n",
       "      <td>Bachelor's</td>\n",
       "      <td>f</td>\n",
       "      <td>sourcing</td>\n",
       "      <td>2.29</td>\n",
       "      <td>32.0</td>\n",
       "      <td>3.0</td>\n",
       "      <td>6.0</td>\n",
       "      <td>0.0</td>\n",
       "      <td>0.0</td>\n",
       "      <td>71.00</td>\n",
       "      <td>0.0</td>\n",
       "      <td>chtlx</td>\n",
       "    </tr>\n",
       "  </tbody>\n",
       "</table>\n",
       "<p>10000 rows × 14 columns</p>\n",
       "</div>"
      ],
      "text/plain": [
       "             department     region         education gender  \\\n",
       "0     Sales & Marketing   region_7  Master's & above      f   \n",
       "1            Operations  region_22        Bachelor's      m   \n",
       "2     Sales & Marketing  region_19        Bachelor's      m   \n",
       "3     Sales & Marketing  region_23        Bachelor's      m   \n",
       "4            Technology  region_28        Bachelor's      m   \n",
       "...                 ...        ...               ...    ...   \n",
       "9995  Sales & Marketing  region_26  Master's & above      f   \n",
       "9996  Sales & Marketing  region_21  Master's & above      m   \n",
       "9997            Finance  region_21  Master's & above      f   \n",
       "9998         Operations  region_28  Master's & above      m   \n",
       "9999         Operations  region_24        Bachelor's      f   \n",
       "\n",
       "     recruitment_channel  no_of_trainings   age  previous_year_rating  \\\n",
       "0               sourcing             2.27  35.0                   5.0   \n",
       "1                  other             2.17  30.0                   5.0   \n",
       "2               sourcing             2.06  34.0                   3.0   \n",
       "3                  other             2.00  39.0                   1.0   \n",
       "4                  other             2.21  45.0                   3.0   \n",
       "...                  ...              ...   ...                   ...   \n",
       "9995               other             2.36  37.0                   4.0   \n",
       "9996            sourcing             2.11  39.0                   3.0   \n",
       "9997            sourcing             2.17  33.0                   4.0   \n",
       "9998               other             2.46  32.0                   4.0   \n",
       "9999            sourcing             2.29  32.0                   3.0   \n",
       "\n",
       "      length_of_service  KPIs_met >80%  awards_won?  avg_training_score  \\\n",
       "0                   8.0            1.0          0.0               48.11   \n",
       "1                   4.0            0.0          0.0               60.00   \n",
       "2                   7.0            0.0          0.0               49.64   \n",
       "3                  10.0            0.0          0.0               49.04   \n",
       "4                   2.0            0.0          0.0               73.00   \n",
       "...                 ...            ...          ...                 ...   \n",
       "9995                7.0            1.0          0.0               71.00   \n",
       "9996                7.0            0.0          0.0               48.00   \n",
       "9997                4.0            1.0          0.0               58.00   \n",
       "9998                4.0            1.0          0.0               57.00   \n",
       "9999                6.0            0.0          0.0               71.00   \n",
       "\n",
       "      is_promoted      X  \n",
       "0             0.0  eooyf  \n",
       "1             0.0  wmxln  \n",
       "2             0.0  qzdrd  \n",
       "3             0.0  cxoib  \n",
       "4             0.0  vugkh  \n",
       "...           ...    ...  \n",
       "9995          0.0  kjtsp  \n",
       "9996          0.0  xtgaz  \n",
       "9997          0.0  uycfb  \n",
       "9998          1.0  vgdui  \n",
       "9999          0.0  chtlx  \n",
       "\n",
       "[10000 rows x 14 columns]"
      ]
     },
     "execution_count": 35,
     "metadata": {},
     "output_type": "execute_result"
    }
   ],
   "source": [
    "from raimitigations.dataprocessing import IterativeDataImputer\n",
    "from sklearn.ensemble import RandomForestRegressor\n",
    "imputer = IterativeDataImputer(\n",
    "    df=dataset,\n",
    "    col_impute=None,\n",
    "    enable_encoder=True,\n",
    "    iterative_params={\n",
    "        'estimator': RandomForestRegressor(),\n",
    "        'missing_values': np.nan,\n",
    "        'sample_posterior': False,\n",
    "        'max_iter': 3,\n",
    "        'tol': 1e-3,\n",
    "        'n_nearest_features': None,\n",
    "        'initial_strategy': 'mean',\n",
    "        'imputation_order': 'ascending',\n",
    "        'skip_complete': False,\n",
    "        'min_value': -np.inf,\n",
    "        'max_value': np.inf,\n",
    "        'random_state': 100},\n",
    "    verbose=False\n",
    ")\n",
    "\n",
    "active_detector_7.transform(dataset, imputer = imputer)"
   ]
  },
  {
   "attachments": {},
   "cell_type": "markdown",
   "metadata": {},
   "source": [
    "Now using `mode`=`\"row\"`:\n",
    "\n",
    "Let's save our results to a log file as well, given this `mode` choice, the log file will include:\n",
    "- \"object_config\": contains set attributes of the concrete class;\n",
    "- \"erroneous_rows\": containing a list of erroneous row indices."
   ]
  },
  {
   "cell_type": "code",
   "execution_count": 38,
   "metadata": {},
   "outputs": [
    {
     "data": {
      "text/plain": [
       "1889"
      ]
     },
     "execution_count": 38,
     "metadata": {},
     "output_type": "execute_result"
    }
   ],
   "source": [
    "## mode = \"row\"\n",
    "active_detector_8 = ActiveDetect(\n",
    "    df=dataset,\n",
    "    col_predict=None,\n",
    "    mode=\"row\",\n",
    "    error_modules=[QuantitativeErrorModule(), PuncErrorModule(), SemanticErrorModule(thresh=1.5, fail_thresh=2)],\n",
    "    json_log_path=\"../logs/log_8.json\",\n",
    "    verbose=False,\n",
    ")\n",
    "active_detector_8.fit()\n",
    "indices = active_detector_8.predict(dataset)\n",
    "len(indices)"
   ]
  },
  {
   "attachments": {},
   "cell_type": "markdown",
   "metadata": {},
   "source": [
    "Again, we can call the `.transform()` function to transform the data, using `mode`=`\"row\"`, the `transform` method removes erroneous rows from the dataset. "
   ]
  },
  {
   "cell_type": "code",
   "execution_count": 39,
   "metadata": {},
   "outputs": [
    {
     "data": {
      "text/html": [
       "<div>\n",
       "<style scoped>\n",
       "    .dataframe tbody tr th:only-of-type {\n",
       "        vertical-align: middle;\n",
       "    }\n",
       "\n",
       "    .dataframe tbody tr th {\n",
       "        vertical-align: top;\n",
       "    }\n",
       "\n",
       "    .dataframe thead th {\n",
       "        text-align: right;\n",
       "    }\n",
       "</style>\n",
       "<table border=\"1\" class=\"dataframe\">\n",
       "  <thead>\n",
       "    <tr style=\"text-align: right;\">\n",
       "      <th></th>\n",
       "      <th>department</th>\n",
       "      <th>region</th>\n",
       "      <th>education</th>\n",
       "      <th>gender</th>\n",
       "      <th>recruitment_channel</th>\n",
       "      <th>no_of_trainings</th>\n",
       "      <th>age</th>\n",
       "      <th>previous_year_rating</th>\n",
       "      <th>length_of_service</th>\n",
       "      <th>KPIs_met &gt;80%</th>\n",
       "      <th>awards_won?</th>\n",
       "      <th>avg_training_score</th>\n",
       "      <th>is_promoted</th>\n",
       "      <th>X</th>\n",
       "    </tr>\n",
       "  </thead>\n",
       "  <tbody>\n",
       "    <tr>\n",
       "      <th>0</th>\n",
       "      <td>Sales &amp; Marketing</td>\n",
       "      <td>region_7</td>\n",
       "      <td>Master's &amp; above</td>\n",
       "      <td>f</td>\n",
       "      <td>sourcing</td>\n",
       "      <td>1</td>\n",
       "      <td>35</td>\n",
       "      <td>5.0</td>\n",
       "      <td>8</td>\n",
       "      <td>1</td>\n",
       "      <td>0</td>\n",
       "      <td>49</td>\n",
       "      <td>0</td>\n",
       "      <td>eooyf</td>\n",
       "    </tr>\n",
       "    <tr>\n",
       "      <th>1</th>\n",
       "      <td>Operations</td>\n",
       "      <td>region_22</td>\n",
       "      <td>Bachelor's</td>\n",
       "      <td>m</td>\n",
       "      <td>other</td>\n",
       "      <td>1</td>\n",
       "      <td>30</td>\n",
       "      <td>5.0</td>\n",
       "      <td>4</td>\n",
       "      <td>0</td>\n",
       "      <td>0</td>\n",
       "      <td>60</td>\n",
       "      <td>0</td>\n",
       "      <td>wmxln</td>\n",
       "    </tr>\n",
       "    <tr>\n",
       "      <th>2</th>\n",
       "      <td>Sales &amp; Marketing</td>\n",
       "      <td>region_19</td>\n",
       "      <td>Bachelor's</td>\n",
       "      <td>m</td>\n",
       "      <td>sourcing</td>\n",
       "      <td>1</td>\n",
       "      <td>34</td>\n",
       "      <td>3.0</td>\n",
       "      <td>7</td>\n",
       "      <td>0</td>\n",
       "      <td>0</td>\n",
       "      <td>50</td>\n",
       "      <td>0</td>\n",
       "      <td>qzdrd</td>\n",
       "    </tr>\n",
       "    <tr>\n",
       "      <th>3</th>\n",
       "      <td>Sales &amp; Marketing</td>\n",
       "      <td>region_23</td>\n",
       "      <td>Bachelor's</td>\n",
       "      <td>m</td>\n",
       "      <td>other</td>\n",
       "      <td>2</td>\n",
       "      <td>39</td>\n",
       "      <td>1.0</td>\n",
       "      <td>10</td>\n",
       "      <td>0</td>\n",
       "      <td>0</td>\n",
       "      <td>50</td>\n",
       "      <td>0</td>\n",
       "      <td>cxoib</td>\n",
       "    </tr>\n",
       "    <tr>\n",
       "      <th>4</th>\n",
       "      <td>Technology</td>\n",
       "      <td>region_x</td>\n",
       "      <td>Bachelor's</td>\n",
       "      <td>m</td>\n",
       "      <td>other</td>\n",
       "      <td>1</td>\n",
       "      <td>45</td>\n",
       "      <td>3.0</td>\n",
       "      <td>2</td>\n",
       "      <td>0</td>\n",
       "      <td>0</td>\n",
       "      <td>73</td>\n",
       "      <td>0</td>\n",
       "      <td>vugkh</td>\n",
       "    </tr>\n",
       "    <tr>\n",
       "      <th>...</th>\n",
       "      <td>...</td>\n",
       "      <td>...</td>\n",
       "      <td>...</td>\n",
       "      <td>...</td>\n",
       "      <td>...</td>\n",
       "      <td>...</td>\n",
       "      <td>...</td>\n",
       "      <td>...</td>\n",
       "      <td>...</td>\n",
       "      <td>...</td>\n",
       "      <td>...</td>\n",
       "      <td>...</td>\n",
       "      <td>...</td>\n",
       "      <td>...</td>\n",
       "    </tr>\n",
       "    <tr>\n",
       "      <th>8106</th>\n",
       "      <td>Operations</td>\n",
       "      <td>region_8</td>\n",
       "      <td>Bachelor's</td>\n",
       "      <td>f</td>\n",
       "      <td>sourcing</td>\n",
       "      <td>1</td>\n",
       "      <td>26</td>\n",
       "      <td>5.0</td>\n",
       "      <td>3</td>\n",
       "      <td>1</td>\n",
       "      <td>0</td>\n",
       "      <td>60</td>\n",
       "      <td>0</td>\n",
       "      <td>nwszn</td>\n",
       "    </tr>\n",
       "    <tr>\n",
       "      <th>8107</th>\n",
       "      <td>Operations</td>\n",
       "      <td>region_x</td>\n",
       "      <td>Bachelor's</td>\n",
       "      <td>f</td>\n",
       "      <td>sourcing</td>\n",
       "      <td>1</td>\n",
       "      <td>39</td>\n",
       "      <td>2.0</td>\n",
       "      <td>11</td>\n",
       "      <td>0</td>\n",
       "      <td>0</td>\n",
       "      <td>61</td>\n",
       "      <td>0</td>\n",
       "      <td>gbwrw</td>\n",
       "    </tr>\n",
       "    <tr>\n",
       "      <th>8108</th>\n",
       "      <td>Sales &amp; Marketing</td>\n",
       "      <td>region_x</td>\n",
       "      <td>Master's &amp; above</td>\n",
       "      <td>m</td>\n",
       "      <td>sourcing</td>\n",
       "      <td>1</td>\n",
       "      <td>39</td>\n",
       "      <td>3.0</td>\n",
       "      <td>7</td>\n",
       "      <td>0</td>\n",
       "      <td>0</td>\n",
       "      <td>48</td>\n",
       "      <td>0</td>\n",
       "      <td>xtgaz</td>\n",
       "    </tr>\n",
       "    <tr>\n",
       "      <th>8109</th>\n",
       "      <td>Finance</td>\n",
       "      <td>region_x</td>\n",
       "      <td>Master's &amp; above</td>\n",
       "      <td>f</td>\n",
       "      <td>sourcing</td>\n",
       "      <td>1</td>\n",
       "      <td>33</td>\n",
       "      <td>4.0</td>\n",
       "      <td>4</td>\n",
       "      <td>1</td>\n",
       "      <td>0</td>\n",
       "      <td>58</td>\n",
       "      <td>0</td>\n",
       "      <td>uycfb</td>\n",
       "    </tr>\n",
       "    <tr>\n",
       "      <th>8110</th>\n",
       "      <td>Operations</td>\n",
       "      <td>region_x</td>\n",
       "      <td>Master's &amp; above</td>\n",
       "      <td>m</td>\n",
       "      <td>other</td>\n",
       "      <td>1</td>\n",
       "      <td>32</td>\n",
       "      <td>4.0</td>\n",
       "      <td>4</td>\n",
       "      <td>1</td>\n",
       "      <td>0</td>\n",
       "      <td>57</td>\n",
       "      <td>1</td>\n",
       "      <td>vgdui</td>\n",
       "    </tr>\n",
       "  </tbody>\n",
       "</table>\n",
       "<p>8111 rows × 14 columns</p>\n",
       "</div>"
      ],
      "text/plain": [
       "             department     region         education gender  \\\n",
       "0     Sales & Marketing   region_7  Master's & above      f   \n",
       "1            Operations  region_22        Bachelor's      m   \n",
       "2     Sales & Marketing  region_19        Bachelor's      m   \n",
       "3     Sales & Marketing  region_23        Bachelor's      m   \n",
       "4            Technology   region_x        Bachelor's      m   \n",
       "...                 ...        ...               ...    ...   \n",
       "8106         Operations   region_8        Bachelor's      f   \n",
       "8107         Operations   region_x        Bachelor's      f   \n",
       "8108  Sales & Marketing   region_x  Master's & above      m   \n",
       "8109            Finance   region_x  Master's & above      f   \n",
       "8110         Operations   region_x  Master's & above      m   \n",
       "\n",
       "     recruitment_channel  no_of_trainings  age  previous_year_rating  \\\n",
       "0               sourcing                1   35                   5.0   \n",
       "1                  other                1   30                   5.0   \n",
       "2               sourcing                1   34                   3.0   \n",
       "3                  other                2   39                   1.0   \n",
       "4                  other                1   45                   3.0   \n",
       "...                  ...              ...  ...                   ...   \n",
       "8106            sourcing                1   26                   5.0   \n",
       "8107            sourcing                1   39                   2.0   \n",
       "8108            sourcing                1   39                   3.0   \n",
       "8109            sourcing                1   33                   4.0   \n",
       "8110               other                1   32                   4.0   \n",
       "\n",
       "      length_of_service  KPIs_met >80%  awards_won?  avg_training_score  \\\n",
       "0                     8              1            0                  49   \n",
       "1                     4              0            0                  60   \n",
       "2                     7              0            0                  50   \n",
       "3                    10              0            0                  50   \n",
       "4                     2              0            0                  73   \n",
       "...                 ...            ...          ...                 ...   \n",
       "8106                  3              1            0                  60   \n",
       "8107                 11              0            0                  61   \n",
       "8108                  7              0            0                  48   \n",
       "8109                  4              1            0                  58   \n",
       "8110                  4              1            0                  57   \n",
       "\n",
       "      is_promoted      X  \n",
       "0               0  eooyf  \n",
       "1               0  wmxln  \n",
       "2               0  qzdrd  \n",
       "3               0  cxoib  \n",
       "4               0  vugkh  \n",
       "...           ...    ...  \n",
       "8106            0  nwszn  \n",
       "8107            0  gbwrw  \n",
       "8108            0  xtgaz  \n",
       "8109            0  uycfb  \n",
       "8110            1  vgdui  \n",
       "\n",
       "[8111 rows x 14 columns]"
      ]
     },
     "execution_count": 39,
     "metadata": {},
     "output_type": "execute_result"
    }
   ],
   "source": [
    "active_detector_8.transform(dataset)"
   ]
  }
 ],
 "metadata": {
  "kernelspec": {
   "display_name": "rai_310",
   "language": "python",
   "name": "python3"
  },
  "language_info": {
   "codemirror_mode": {
    "name": "ipython",
    "version": 3
   },
   "file_extension": ".py",
   "mimetype": "text/x-python",
   "name": "python",
   "nbconvert_exporter": "python",
   "pygments_lexer": "ipython3",
   "version": "3.10.9"
  },
  "orig_nbformat": 4,
  "vscode": {
   "interpreter": {
    "hash": "56a528960f538b60f1b30ab479464ff8ebb7955bb92639ad9a3974a26beb1f4f"
   }
  }
 },
 "nbformat": 4,
 "nbformat_minor": 2
}
