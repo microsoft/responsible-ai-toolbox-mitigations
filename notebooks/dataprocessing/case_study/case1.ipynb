{
 "cells": [
  {
   "cell_type": "code",
   "execution_count": 20,
   "metadata": {},
   "outputs": [],
   "source": [
    "import pandas as pd\n",
    "import numpy as np\n",
    "import uci_dataset as database\n",
    "import torch\n",
    "\n",
    "import raimitigations.dataprocessing as dp\n",
    "from raimitigations.utils import split_data, train_model_plot_results"
   ]
  },
  {
   "cell_type": "markdown",
   "metadata": {},
   "source": [
    "# Case Study 1\n",
    "\n",
    "This notebook shows an example of how to use the **dataprocessing** library. Here, we show how to use this library to explore and transform a dataset with the goal to improve a model's accuracy. Here, we will work with the breast cancer dataset. The dataset is automatically fetched by using the **uci_dataset** library.\n",
    "\n",
    "## Fixing a seed\n",
    "\n",
    "To avoid randomness in the following experiments, we'll fix the seeds to guarantee that the results obtained are the same each time we run this notebook. Feel free to comment the next cell or test different seeds to see how this affects the results."
   ]
  },
  {
   "cell_type": "code",
   "execution_count": 21,
   "metadata": {},
   "outputs": [
    {
     "data": {
      "text/plain": [
       "<torch._C.Generator at 0x7f25279f79f0>"
      ]
     },
     "execution_count": 21,
     "metadata": {},
     "output_type": "execute_result"
    }
   ],
   "source": [
    "import random\n",
    "SEED = 45\n",
    "np.random.seed(SEED)\n",
    "random.seed(SEED)\n",
    "torch.manual_seed(SEED)"
   ]
  },
  {
   "cell_type": "markdown",
   "metadata": {},
   "source": [
    "## 1 - Understanding the Data"
   ]
  },
  {
   "cell_type": "code",
   "execution_count": 22,
   "metadata": {},
   "outputs": [
    {
     "data": {
      "text/html": [
       "<div>\n",
       "<style scoped>\n",
       "    .dataframe tbody tr th:only-of-type {\n",
       "        vertical-align: middle;\n",
       "    }\n",
       "\n",
       "    .dataframe tbody tr th {\n",
       "        vertical-align: top;\n",
       "    }\n",
       "\n",
       "    .dataframe thead th {\n",
       "        text-align: right;\n",
       "    }\n",
       "</style>\n",
       "<table border=\"1\" class=\"dataframe\">\n",
       "  <thead>\n",
       "    <tr style=\"text-align: right;\">\n",
       "      <th></th>\n",
       "      <th>Class</th>\n",
       "      <th>age</th>\n",
       "      <th>menopause</th>\n",
       "      <th>tumor-size</th>\n",
       "      <th>inv-nodes</th>\n",
       "      <th>node-caps</th>\n",
       "      <th>deg-malig</th>\n",
       "      <th>breast</th>\n",
       "      <th>breast-quad</th>\n",
       "      <th>irradiat</th>\n",
       "    </tr>\n",
       "  </thead>\n",
       "  <tbody>\n",
       "    <tr>\n",
       "      <th>0</th>\n",
       "      <td>no-recurrence-events</td>\n",
       "      <td>30-39</td>\n",
       "      <td>premeno</td>\n",
       "      <td>30-34</td>\n",
       "      <td>0-2</td>\n",
       "      <td>no</td>\n",
       "      <td>3</td>\n",
       "      <td>left</td>\n",
       "      <td>left_low</td>\n",
       "      <td>no</td>\n",
       "    </tr>\n",
       "    <tr>\n",
       "      <th>1</th>\n",
       "      <td>no-recurrence-events</td>\n",
       "      <td>40-49</td>\n",
       "      <td>premeno</td>\n",
       "      <td>20-24</td>\n",
       "      <td>0-2</td>\n",
       "      <td>no</td>\n",
       "      <td>2</td>\n",
       "      <td>right</td>\n",
       "      <td>right_up</td>\n",
       "      <td>no</td>\n",
       "    </tr>\n",
       "    <tr>\n",
       "      <th>2</th>\n",
       "      <td>no-recurrence-events</td>\n",
       "      <td>40-49</td>\n",
       "      <td>premeno</td>\n",
       "      <td>20-24</td>\n",
       "      <td>0-2</td>\n",
       "      <td>no</td>\n",
       "      <td>2</td>\n",
       "      <td>left</td>\n",
       "      <td>left_low</td>\n",
       "      <td>no</td>\n",
       "    </tr>\n",
       "    <tr>\n",
       "      <th>3</th>\n",
       "      <td>no-recurrence-events</td>\n",
       "      <td>60-69</td>\n",
       "      <td>ge40</td>\n",
       "      <td>15-19</td>\n",
       "      <td>0-2</td>\n",
       "      <td>no</td>\n",
       "      <td>2</td>\n",
       "      <td>right</td>\n",
       "      <td>left_up</td>\n",
       "      <td>no</td>\n",
       "    </tr>\n",
       "    <tr>\n",
       "      <th>4</th>\n",
       "      <td>no-recurrence-events</td>\n",
       "      <td>40-49</td>\n",
       "      <td>premeno</td>\n",
       "      <td>0-4</td>\n",
       "      <td>0-2</td>\n",
       "      <td>no</td>\n",
       "      <td>2</td>\n",
       "      <td>right</td>\n",
       "      <td>right_low</td>\n",
       "      <td>no</td>\n",
       "    </tr>\n",
       "    <tr>\n",
       "      <th>...</th>\n",
       "      <td>...</td>\n",
       "      <td>...</td>\n",
       "      <td>...</td>\n",
       "      <td>...</td>\n",
       "      <td>...</td>\n",
       "      <td>...</td>\n",
       "      <td>...</td>\n",
       "      <td>...</td>\n",
       "      <td>...</td>\n",
       "      <td>...</td>\n",
       "    </tr>\n",
       "    <tr>\n",
       "      <th>281</th>\n",
       "      <td>recurrence-events</td>\n",
       "      <td>30-39</td>\n",
       "      <td>premeno</td>\n",
       "      <td>30-34</td>\n",
       "      <td>0-2</td>\n",
       "      <td>no</td>\n",
       "      <td>2</td>\n",
       "      <td>left</td>\n",
       "      <td>left_up</td>\n",
       "      <td>no</td>\n",
       "    </tr>\n",
       "    <tr>\n",
       "      <th>282</th>\n",
       "      <td>recurrence-events</td>\n",
       "      <td>30-39</td>\n",
       "      <td>premeno</td>\n",
       "      <td>20-24</td>\n",
       "      <td>0-2</td>\n",
       "      <td>no</td>\n",
       "      <td>3</td>\n",
       "      <td>left</td>\n",
       "      <td>left_up</td>\n",
       "      <td>yes</td>\n",
       "    </tr>\n",
       "    <tr>\n",
       "      <th>283</th>\n",
       "      <td>recurrence-events</td>\n",
       "      <td>60-69</td>\n",
       "      <td>ge40</td>\n",
       "      <td>20-24</td>\n",
       "      <td>0-2</td>\n",
       "      <td>no</td>\n",
       "      <td>1</td>\n",
       "      <td>right</td>\n",
       "      <td>left_up</td>\n",
       "      <td>no</td>\n",
       "    </tr>\n",
       "    <tr>\n",
       "      <th>284</th>\n",
       "      <td>recurrence-events</td>\n",
       "      <td>40-49</td>\n",
       "      <td>ge40</td>\n",
       "      <td>30-34</td>\n",
       "      <td>3-5</td>\n",
       "      <td>no</td>\n",
       "      <td>3</td>\n",
       "      <td>left</td>\n",
       "      <td>left_low</td>\n",
       "      <td>no</td>\n",
       "    </tr>\n",
       "    <tr>\n",
       "      <th>285</th>\n",
       "      <td>recurrence-events</td>\n",
       "      <td>50-59</td>\n",
       "      <td>ge40</td>\n",
       "      <td>30-34</td>\n",
       "      <td>3-5</td>\n",
       "      <td>no</td>\n",
       "      <td>3</td>\n",
       "      <td>left</td>\n",
       "      <td>left_low</td>\n",
       "      <td>no</td>\n",
       "    </tr>\n",
       "  </tbody>\n",
       "</table>\n",
       "<p>286 rows × 10 columns</p>\n",
       "</div>"
      ],
      "text/plain": [
       "                    Class    age menopause tumor-size inv-nodes node-caps  \\\n",
       "0    no-recurrence-events  30-39   premeno      30-34       0-2        no   \n",
       "1    no-recurrence-events  40-49   premeno      20-24       0-2        no   \n",
       "2    no-recurrence-events  40-49   premeno      20-24       0-2        no   \n",
       "3    no-recurrence-events  60-69      ge40      15-19       0-2        no   \n",
       "4    no-recurrence-events  40-49   premeno        0-4       0-2        no   \n",
       "..                    ...    ...       ...        ...       ...       ...   \n",
       "281     recurrence-events  30-39   premeno      30-34       0-2        no   \n",
       "282     recurrence-events  30-39   premeno      20-24       0-2        no   \n",
       "283     recurrence-events  60-69      ge40      20-24       0-2        no   \n",
       "284     recurrence-events  40-49      ge40      30-34       3-5        no   \n",
       "285     recurrence-events  50-59      ge40      30-34       3-5        no   \n",
       "\n",
       "     deg-malig breast breast-quad irradiat  \n",
       "0            3   left    left_low       no  \n",
       "1            2  right    right_up       no  \n",
       "2            2   left    left_low       no  \n",
       "3            2  right     left_up       no  \n",
       "4            2  right   right_low       no  \n",
       "..         ...    ...         ...      ...  \n",
       "281          2   left     left_up       no  \n",
       "282          3   left     left_up      yes  \n",
       "283          1  right     left_up       no  \n",
       "284          3   left    left_low       no  \n",
       "285          3   left    left_low       no  \n",
       "\n",
       "[286 rows x 10 columns]"
      ]
     },
     "execution_count": 22,
     "metadata": {},
     "output_type": "execute_result"
    }
   ],
   "source": [
    "df = database.load_breast_cancer()\n",
    "label_col = \"Class\"\n",
    "df"
   ]
  },
  {
   "cell_type": "code",
   "execution_count": 23,
   "metadata": {},
   "outputs": [
    {
     "name": "stdout",
     "output_type": "stream",
     "text": [
      "<class 'pandas.core.frame.DataFrame'>\n",
      "RangeIndex: 286 entries, 0 to 285\n",
      "Data columns (total 10 columns):\n",
      " #   Column       Non-Null Count  Dtype \n",
      "---  ------       --------------  ----- \n",
      " 0   Class        286 non-null    object\n",
      " 1   age          286 non-null    object\n",
      " 2   menopause    286 non-null    object\n",
      " 3   tumor-size   286 non-null    object\n",
      " 4   inv-nodes    286 non-null    object\n",
      " 5   node-caps    278 non-null    object\n",
      " 6   deg-malig    286 non-null    int64 \n",
      " 7   breast       286 non-null    object\n",
      " 8   breast-quad  285 non-null    object\n",
      " 9   irradiat     286 non-null    object\n",
      "dtypes: int64(1), object(9)\n",
      "memory usage: 22.5+ KB\n"
     ]
    }
   ],
   "source": [
    "df.info()"
   ]
  },
  {
   "cell_type": "markdown",
   "metadata": {},
   "source": [
    "There are several categorical data in this dataset. Actually, only one feature is numeric, while the remaining columns are all categorical. Therefore, we should take a closer look at each column in order to determine which encoding method should be used to each one. From the summary of the dataset, presented two cells up, we notice that many of the categorical classes doesn't present any order. For these, we should use One-Hot encoding. However, some of these columns present some order among their categories. For example, the **age** column presents a hierarchical information. Let's take a look a these ordered categorical data:"
   ]
  },
  {
   "cell_type": "code",
   "execution_count": 24,
   "metadata": {},
   "outputs": [
    {
     "name": "stdout",
     "output_type": "stream",
     "text": [
      "age unique values = ['30-39' '40-49' '60-69' '50-59' '70-79' '20-29']\n",
      "tumor-size unique values = ['30-34' '20-24' '15-19' '0-4' '25-29' '50-54' '10-14' '40-44' '35-39'\n",
      " '5-9' '45-49']\n",
      "inv-nodes unique values = ['0-2' '6-8' '9-11' '3-5' '15-17' '12-14' '24-26']\n"
     ]
    }
   ],
   "source": [
    "print(f\"age unique values = {df['age'].unique()}\")\n",
    "print(f\"tumor-size unique values = {df['tumor-size'].unique()}\")\n",
    "print(f\"inv-nodes unique values = {df['inv-nodes'].unique()}\")"
   ]
  },
  {
   "cell_type": "markdown",
   "metadata": {},
   "source": [
    "After a few cells, we will use this information when encoding our data.\n",
    "\n",
    "Before modifying the dataset, let's analyze the correlations within its columns. To do that, let's use the **CorrelatedFeatures** class, which computes the correlation between numerical x numerical, categorical x numerical, and categorical x categorical data. Please refer to the notebook in **notebooks/module_tests/feat_sel_corr_tutorial.ipynb** for an in depth analysis of this class. In a nutshell: this class will compute the correlation between all pairs of variables (or we can look only to a specific set of variables if needed) and remove one variable for each pair of correlated variables. This class uses a fit method to compute the correlations and a transform method to effectively remove the correlated variables. For now, we are only interested in analysing the correlations between the columns. We will save the results found by this class in the files specified by *json_summary*, *json_corr*, and *json_uncorr*, respectively. "
   ]
  },
  {
   "cell_type": "code",
   "execution_count": 25,
   "metadata": {},
   "outputs": [
    {
     "name": "stdout",
     "output_type": "stream",
     "text": [
      "No correlations detected. Nothing to be done here.\n"
     ]
    },
    {
     "data": {
      "text/plain": [
       "<raimitigations.dataprocessing.feat_selection.correlated_features.CorrelatedFeatures at 0x7f259488ba00>"
      ]
     },
     "execution_count": 25,
     "metadata": {},
     "output_type": "execute_result"
    }
   ],
   "source": [
    "cor_feat = dp.CorrelatedFeatures(\n",
    "\t\t\t\t\tmethod_num_num=[\"spearman\", \"pearson\", \"kendall\"],\t\t\t\t# Used for Numerical x Numerical correlations\n",
    "\t\t\t\t\tnum_corr_th=0.9,\t\t\t\t\t\t\t\t\t\t\t\t# Used for Numerical x Numerical correlations\n",
    "\t\t\t\t\tnum_pvalue_th=0.05,\t\t\t\t\t\t\t\t\t\t\t\t# Used for Numerical x Numerical correlations\n",
    "\t\t\t\t\tmethod_num_cat=\"model\",\t\t\t\t\t\t\t\t\t\t\t# Used for Numerical x Categorical correlations\n",
    "\t\t\t\t\tmodel_metrics=[\"f1\", \"auc\"],\t\t\t\t\t\t\t\t\t# Used for Numerical x Categorical correlations\n",
    "\t\t\t\t\tmetric_th=0.9,\t\t\t\t\t\t\t\t\t\t\t\t\t# Used for Numerical x Categorical correlations\n",
    "\t\t\t\t\tcat_corr_th=0.9,\t\t\t\t\t\t\t\t\t\t\t\t# Used for Categorical x Categorical correlations\n",
    "\t\t\t\t\tcat_pvalue_th=0.01,\t\t\t\t\t\t\t\t\t\t\t\t# Used for Categorical x Categorical correlations\n",
    "\t\t\t\t\tjson_summary=\"./corr_json/c1_summary.json\",\n",
    "\t\t\t\t\tjson_corr=\"./corr_json/c1_corr.json\",\n",
    "\t\t\t\t\tjson_uncorr=\"./corr_json/c1_uncorr.json\"\n",
    "\t\t\t\t)\n",
    "cor_feat.fit(df=df, label_col=label_col)"
   ]
  },
  {
   "cell_type": "markdown",
   "metadata": {},
   "source": [
    "Remember to look through the JSON files generated in the previous cell."
   ]
  },
  {
   "cell_type": "markdown",
   "metadata": {},
   "source": [
    "## 2 - Basic Pre-Processing\n",
    "\n",
    "### Encode Categorical Variables\n",
    "\n",
    "The next step is crucial for preparing our dataset so it can be used by a model. As previously mentioned, we will encode the data using two encoding methods: ordinal encoding for categorical columns with ordered categories, and one-hot encoding for unordered categorical data. The columns \"age\", \"tumor-size\", \"inv-nodes\", and \"Class\" will all be encoded using ordinal encoding. For the \"age\", \"tumor-size\", and \"inv-nodes\" columns, we provide a list with the ordered categories, which shows the encoder how it should order the encoding numbers (lower values will be associated to the initial categories, while higher encoding values will be associated to the final categories). After creating the encoder object from the **EncoderOrdinal** class, we call its fit method while passing the dataset **df** to it. We then call the transform method, which returns a new copy of the dataset with the categorical columns specified encoded using ordinal encoding. We then proceed to perform the one-hot encoding by instantiating an object of class **EncoderOHE** and then calling its fit and transform methods."
   ]
  },
  {
   "cell_type": "code",
   "execution_count": 26,
   "metadata": {},
   "outputs": [
    {
     "name": "stdout",
     "output_type": "stream",
     "text": [
      "No columns specified for encoding. These columns have been automatically identfied as the following:\n",
      "['menopause', 'node-caps', 'breast', 'breast-quad', 'irradiat']\n"
     ]
    },
    {
     "data": {
      "text/html": [
       "<div>\n",
       "<style scoped>\n",
       "    .dataframe tbody tr th:only-of-type {\n",
       "        vertical-align: middle;\n",
       "    }\n",
       "\n",
       "    .dataframe tbody tr th {\n",
       "        vertical-align: top;\n",
       "    }\n",
       "\n",
       "    .dataframe thead th {\n",
       "        text-align: right;\n",
       "    }\n",
       "</style>\n",
       "<table border=\"1\" class=\"dataframe\">\n",
       "  <thead>\n",
       "    <tr style=\"text-align: right;\">\n",
       "      <th></th>\n",
       "      <th>Class</th>\n",
       "      <th>age</th>\n",
       "      <th>tumor-size</th>\n",
       "      <th>inv-nodes</th>\n",
       "      <th>deg-malig</th>\n",
       "      <th>menopause_lt40</th>\n",
       "      <th>menopause_premeno</th>\n",
       "      <th>node-caps_yes</th>\n",
       "      <th>node-caps_nan</th>\n",
       "      <th>breast_right</th>\n",
       "      <th>breast-quad_left_low</th>\n",
       "      <th>breast-quad_left_up</th>\n",
       "      <th>breast-quad_right_low</th>\n",
       "      <th>breast-quad_right_up</th>\n",
       "      <th>breast-quad_nan</th>\n",
       "      <th>irradiat_yes</th>\n",
       "    </tr>\n",
       "  </thead>\n",
       "  <tbody>\n",
       "    <tr>\n",
       "      <th>0</th>\n",
       "      <td>0</td>\n",
       "      <td>1</td>\n",
       "      <td>5</td>\n",
       "      <td>0</td>\n",
       "      <td>3</td>\n",
       "      <td>0</td>\n",
       "      <td>1</td>\n",
       "      <td>0</td>\n",
       "      <td>0</td>\n",
       "      <td>0</td>\n",
       "      <td>1</td>\n",
       "      <td>0</td>\n",
       "      <td>0</td>\n",
       "      <td>0</td>\n",
       "      <td>0</td>\n",
       "      <td>0</td>\n",
       "    </tr>\n",
       "    <tr>\n",
       "      <th>1</th>\n",
       "      <td>0</td>\n",
       "      <td>2</td>\n",
       "      <td>3</td>\n",
       "      <td>0</td>\n",
       "      <td>2</td>\n",
       "      <td>0</td>\n",
       "      <td>1</td>\n",
       "      <td>0</td>\n",
       "      <td>0</td>\n",
       "      <td>1</td>\n",
       "      <td>0</td>\n",
       "      <td>0</td>\n",
       "      <td>0</td>\n",
       "      <td>1</td>\n",
       "      <td>0</td>\n",
       "      <td>0</td>\n",
       "    </tr>\n",
       "    <tr>\n",
       "      <th>2</th>\n",
       "      <td>0</td>\n",
       "      <td>2</td>\n",
       "      <td>3</td>\n",
       "      <td>0</td>\n",
       "      <td>2</td>\n",
       "      <td>0</td>\n",
       "      <td>1</td>\n",
       "      <td>0</td>\n",
       "      <td>0</td>\n",
       "      <td>0</td>\n",
       "      <td>1</td>\n",
       "      <td>0</td>\n",
       "      <td>0</td>\n",
       "      <td>0</td>\n",
       "      <td>0</td>\n",
       "      <td>0</td>\n",
       "    </tr>\n",
       "    <tr>\n",
       "      <th>3</th>\n",
       "      <td>0</td>\n",
       "      <td>4</td>\n",
       "      <td>2</td>\n",
       "      <td>0</td>\n",
       "      <td>2</td>\n",
       "      <td>0</td>\n",
       "      <td>0</td>\n",
       "      <td>0</td>\n",
       "      <td>0</td>\n",
       "      <td>1</td>\n",
       "      <td>0</td>\n",
       "      <td>1</td>\n",
       "      <td>0</td>\n",
       "      <td>0</td>\n",
       "      <td>0</td>\n",
       "      <td>0</td>\n",
       "    </tr>\n",
       "    <tr>\n",
       "      <th>4</th>\n",
       "      <td>0</td>\n",
       "      <td>2</td>\n",
       "      <td>0</td>\n",
       "      <td>0</td>\n",
       "      <td>2</td>\n",
       "      <td>0</td>\n",
       "      <td>1</td>\n",
       "      <td>0</td>\n",
       "      <td>0</td>\n",
       "      <td>1</td>\n",
       "      <td>0</td>\n",
       "      <td>0</td>\n",
       "      <td>1</td>\n",
       "      <td>0</td>\n",
       "      <td>0</td>\n",
       "      <td>0</td>\n",
       "    </tr>\n",
       "    <tr>\n",
       "      <th>...</th>\n",
       "      <td>...</td>\n",
       "      <td>...</td>\n",
       "      <td>...</td>\n",
       "      <td>...</td>\n",
       "      <td>...</td>\n",
       "      <td>...</td>\n",
       "      <td>...</td>\n",
       "      <td>...</td>\n",
       "      <td>...</td>\n",
       "      <td>...</td>\n",
       "      <td>...</td>\n",
       "      <td>...</td>\n",
       "      <td>...</td>\n",
       "      <td>...</td>\n",
       "      <td>...</td>\n",
       "      <td>...</td>\n",
       "    </tr>\n",
       "    <tr>\n",
       "      <th>281</th>\n",
       "      <td>1</td>\n",
       "      <td>1</td>\n",
       "      <td>5</td>\n",
       "      <td>0</td>\n",
       "      <td>2</td>\n",
       "      <td>0</td>\n",
       "      <td>1</td>\n",
       "      <td>0</td>\n",
       "      <td>0</td>\n",
       "      <td>0</td>\n",
       "      <td>0</td>\n",
       "      <td>1</td>\n",
       "      <td>0</td>\n",
       "      <td>0</td>\n",
       "      <td>0</td>\n",
       "      <td>0</td>\n",
       "    </tr>\n",
       "    <tr>\n",
       "      <th>282</th>\n",
       "      <td>1</td>\n",
       "      <td>1</td>\n",
       "      <td>3</td>\n",
       "      <td>0</td>\n",
       "      <td>3</td>\n",
       "      <td>0</td>\n",
       "      <td>1</td>\n",
       "      <td>0</td>\n",
       "      <td>0</td>\n",
       "      <td>0</td>\n",
       "      <td>0</td>\n",
       "      <td>1</td>\n",
       "      <td>0</td>\n",
       "      <td>0</td>\n",
       "      <td>0</td>\n",
       "      <td>1</td>\n",
       "    </tr>\n",
       "    <tr>\n",
       "      <th>283</th>\n",
       "      <td>1</td>\n",
       "      <td>4</td>\n",
       "      <td>3</td>\n",
       "      <td>0</td>\n",
       "      <td>1</td>\n",
       "      <td>0</td>\n",
       "      <td>0</td>\n",
       "      <td>0</td>\n",
       "      <td>0</td>\n",
       "      <td>1</td>\n",
       "      <td>0</td>\n",
       "      <td>1</td>\n",
       "      <td>0</td>\n",
       "      <td>0</td>\n",
       "      <td>0</td>\n",
       "      <td>0</td>\n",
       "    </tr>\n",
       "    <tr>\n",
       "      <th>284</th>\n",
       "      <td>1</td>\n",
       "      <td>2</td>\n",
       "      <td>5</td>\n",
       "      <td>4</td>\n",
       "      <td>3</td>\n",
       "      <td>0</td>\n",
       "      <td>0</td>\n",
       "      <td>0</td>\n",
       "      <td>0</td>\n",
       "      <td>0</td>\n",
       "      <td>1</td>\n",
       "      <td>0</td>\n",
       "      <td>0</td>\n",
       "      <td>0</td>\n",
       "      <td>0</td>\n",
       "      <td>0</td>\n",
       "    </tr>\n",
       "    <tr>\n",
       "      <th>285</th>\n",
       "      <td>1</td>\n",
       "      <td>3</td>\n",
       "      <td>5</td>\n",
       "      <td>4</td>\n",
       "      <td>3</td>\n",
       "      <td>0</td>\n",
       "      <td>0</td>\n",
       "      <td>0</td>\n",
       "      <td>0</td>\n",
       "      <td>0</td>\n",
       "      <td>1</td>\n",
       "      <td>0</td>\n",
       "      <td>0</td>\n",
       "      <td>0</td>\n",
       "      <td>0</td>\n",
       "      <td>0</td>\n",
       "    </tr>\n",
       "  </tbody>\n",
       "</table>\n",
       "<p>286 rows × 16 columns</p>\n",
       "</div>"
      ],
      "text/plain": [
       "     Class  age  tumor-size  inv-nodes  deg-malig  menopause_lt40  \\\n",
       "0        0    1           5          0          3               0   \n",
       "1        0    2           3          0          2               0   \n",
       "2        0    2           3          0          2               0   \n",
       "3        0    4           2          0          2               0   \n",
       "4        0    2           0          0          2               0   \n",
       "..     ...  ...         ...        ...        ...             ...   \n",
       "281      1    1           5          0          2               0   \n",
       "282      1    1           3          0          3               0   \n",
       "283      1    4           3          0          1               0   \n",
       "284      1    2           5          4          3               0   \n",
       "285      1    3           5          4          3               0   \n",
       "\n",
       "     menopause_premeno  node-caps_yes  node-caps_nan  breast_right  \\\n",
       "0                    1              0              0             0   \n",
       "1                    1              0              0             1   \n",
       "2                    1              0              0             0   \n",
       "3                    0              0              0             1   \n",
       "4                    1              0              0             1   \n",
       "..                 ...            ...            ...           ...   \n",
       "281                  1              0              0             0   \n",
       "282                  1              0              0             0   \n",
       "283                  0              0              0             1   \n",
       "284                  0              0              0             0   \n",
       "285                  0              0              0             0   \n",
       "\n",
       "     breast-quad_left_low  breast-quad_left_up  breast-quad_right_low  \\\n",
       "0                       1                    0                      0   \n",
       "1                       0                    0                      0   \n",
       "2                       1                    0                      0   \n",
       "3                       0                    1                      0   \n",
       "4                       0                    0                      1   \n",
       "..                    ...                  ...                    ...   \n",
       "281                     0                    1                      0   \n",
       "282                     0                    1                      0   \n",
       "283                     0                    1                      0   \n",
       "284                     1                    0                      0   \n",
       "285                     1                    0                      0   \n",
       "\n",
       "     breast-quad_right_up  breast-quad_nan  irradiat_yes  \n",
       "0                       0                0             0  \n",
       "1                       1                0             0  \n",
       "2                       0                0             0  \n",
       "3                       0                0             0  \n",
       "4                       0                0             0  \n",
       "..                    ...              ...           ...  \n",
       "281                     0                0             0  \n",
       "282                     0                0             1  \n",
       "283                     0                0             0  \n",
       "284                     0                0             0  \n",
       "285                     0                0             0  \n",
       "\n",
       "[286 rows x 16 columns]"
      ]
     },
     "execution_count": 26,
     "metadata": {},
     "output_type": "execute_result"
    }
   ],
   "source": [
    "# Set the order that the ordinal encoder should use\n",
    "age_order = df['age'].unique()\n",
    "age_order.sort()\n",
    "tumor_size_order = df['tumor-size'].unique()\n",
    "tumor_size_order.sort()\n",
    "inv_nodes_order = df['inv-nodes'].unique()\n",
    "inv_nodes_order.sort()\n",
    "\n",
    "# Encode 'tumor-size', 'Class', and 'inv-nodes' using ordinal encoding\n",
    "enc_ord = dp.EncoderOrdinal(col_encode=[\"age\", \"tumor-size\", \"inv-nodes\", \"Class\"],\n",
    "\t\t\t\t\t\t\tcategories={\"age\":age_order,\n",
    "\t\t\t\t\t\t\t\t\t\t\"tumor-size\":tumor_size_order, \n",
    "\t\t\t\t\t\t\t\t\t\t\"inv-nodes\":inv_nodes_order}\n",
    "\t\t\t\t\t\t)\n",
    "enc_ord.fit(df)\n",
    "proc_df = enc_ord.transform(df)\n",
    "\n",
    "# Encode the remaining categorical columns using One-Hot Encoding\n",
    "enc_ohe = dp.EncoderOHE()\n",
    "enc_ohe.fit(proc_df)\n",
    "proc_df = enc_ohe.transform(proc_df)\n",
    "proc_df"
   ]
  },
  {
   "cell_type": "markdown",
   "metadata": {},
   "source": [
    "We can now check that our dataset has only numerical columns in it."
   ]
  },
  {
   "cell_type": "code",
   "execution_count": 27,
   "metadata": {},
   "outputs": [
    {
     "name": "stdout",
     "output_type": "stream",
     "text": [
      "<class 'pandas.core.frame.DataFrame'>\n",
      "RangeIndex: 286 entries, 0 to 285\n",
      "Data columns (total 16 columns):\n",
      " #   Column                 Non-Null Count  Dtype\n",
      "---  ------                 --------------  -----\n",
      " 0   Class                  286 non-null    int64\n",
      " 1   age                    286 non-null    int64\n",
      " 2   tumor-size             286 non-null    int64\n",
      " 3   inv-nodes              286 non-null    int64\n",
      " 4   deg-malig              286 non-null    int64\n",
      " 5   menopause_lt40         286 non-null    int32\n",
      " 6   menopause_premeno      286 non-null    int32\n",
      " 7   node-caps_yes          286 non-null    int32\n",
      " 8   node-caps_nan          286 non-null    int32\n",
      " 9   breast_right           286 non-null    int32\n",
      " 10  breast-quad_left_low   286 non-null    int32\n",
      " 11  breast-quad_left_up    286 non-null    int32\n",
      " 12  breast-quad_right_low  286 non-null    int32\n",
      " 13  breast-quad_right_up   286 non-null    int32\n",
      " 14  breast-quad_nan        286 non-null    int32\n",
      " 15  irradiat_yes           286 non-null    int32\n",
      "dtypes: int32(11), int64(5)\n",
      "memory usage: 23.6 KB\n"
     ]
    }
   ],
   "source": [
    "proc_df.info()"
   ]
  },
  {
   "cell_type": "markdown",
   "metadata": {},
   "source": [
    "### Impute Missing Data and Split Dataset"
   ]
  },
  {
   "cell_type": "markdown",
   "metadata": {},
   "source": [
    "The next step consists on doing the following:\n",
    "\n",
    "* split the dataset into train and test sets;\n",
    "* impute any missing data (if any)."
   ]
  },
  {
   "cell_type": "code",
   "execution_count": 28,
   "metadata": {},
   "outputs": [
    {
     "name": "stdout",
     "output_type": "stream",
     "text": [
      "No columns specified for imputation. These columns have been automatically identified:\n",
      "[]\n"
     ]
    },
    {
     "data": {
      "text/html": [
       "<div>\n",
       "<style scoped>\n",
       "    .dataframe tbody tr th:only-of-type {\n",
       "        vertical-align: middle;\n",
       "    }\n",
       "\n",
       "    .dataframe tbody tr th {\n",
       "        vertical-align: top;\n",
       "    }\n",
       "\n",
       "    .dataframe thead th {\n",
       "        text-align: right;\n",
       "    }\n",
       "</style>\n",
       "<table border=\"1\" class=\"dataframe\">\n",
       "  <thead>\n",
       "    <tr style=\"text-align: right;\">\n",
       "      <th></th>\n",
       "      <th>age</th>\n",
       "      <th>tumor-size</th>\n",
       "      <th>inv-nodes</th>\n",
       "      <th>deg-malig</th>\n",
       "      <th>menopause_lt40</th>\n",
       "      <th>menopause_premeno</th>\n",
       "      <th>node-caps_yes</th>\n",
       "      <th>node-caps_nan</th>\n",
       "      <th>breast_right</th>\n",
       "      <th>breast-quad_left_low</th>\n",
       "      <th>breast-quad_left_up</th>\n",
       "      <th>breast-quad_right_low</th>\n",
       "      <th>breast-quad_right_up</th>\n",
       "      <th>breast-quad_nan</th>\n",
       "      <th>irradiat_yes</th>\n",
       "    </tr>\n",
       "  </thead>\n",
       "  <tbody>\n",
       "    <tr>\n",
       "      <th>165</th>\n",
       "      <td>2</td>\n",
       "      <td>3</td>\n",
       "      <td>4</td>\n",
       "      <td>2</td>\n",
       "      <td>0</td>\n",
       "      <td>1</td>\n",
       "      <td>0</td>\n",
       "      <td>0</td>\n",
       "      <td>1</td>\n",
       "      <td>0</td>\n",
       "      <td>1</td>\n",
       "      <td>0</td>\n",
       "      <td>0</td>\n",
       "      <td>0</td>\n",
       "      <td>0</td>\n",
       "    </tr>\n",
       "    <tr>\n",
       "      <th>79</th>\n",
       "      <td>2</td>\n",
       "      <td>4</td>\n",
       "      <td>0</td>\n",
       "      <td>2</td>\n",
       "      <td>0</td>\n",
       "      <td>1</td>\n",
       "      <td>0</td>\n",
       "      <td>0</td>\n",
       "      <td>1</td>\n",
       "      <td>0</td>\n",
       "      <td>0</td>\n",
       "      <td>0</td>\n",
       "      <td>0</td>\n",
       "      <td>0</td>\n",
       "      <td>0</td>\n",
       "    </tr>\n",
       "    <tr>\n",
       "      <th>278</th>\n",
       "      <td>3</td>\n",
       "      <td>6</td>\n",
       "      <td>2</td>\n",
       "      <td>3</td>\n",
       "      <td>0</td>\n",
       "      <td>1</td>\n",
       "      <td>1</td>\n",
       "      <td>0</td>\n",
       "      <td>1</td>\n",
       "      <td>0</td>\n",
       "      <td>0</td>\n",
       "      <td>0</td>\n",
       "      <td>1</td>\n",
       "      <td>0</td>\n",
       "      <td>0</td>\n",
       "    </tr>\n",
       "    <tr>\n",
       "      <th>247</th>\n",
       "      <td>3</td>\n",
       "      <td>5</td>\n",
       "      <td>6</td>\n",
       "      <td>3</td>\n",
       "      <td>0</td>\n",
       "      <td>0</td>\n",
       "      <td>1</td>\n",
       "      <td>0</td>\n",
       "      <td>0</td>\n",
       "      <td>0</td>\n",
       "      <td>0</td>\n",
       "      <td>1</td>\n",
       "      <td>0</td>\n",
       "      <td>0</td>\n",
       "      <td>1</td>\n",
       "    </tr>\n",
       "    <tr>\n",
       "      <th>248</th>\n",
       "      <td>4</td>\n",
       "      <td>6</td>\n",
       "      <td>5</td>\n",
       "      <td>3</td>\n",
       "      <td>0</td>\n",
       "      <td>0</td>\n",
       "      <td>1</td>\n",
       "      <td>0</td>\n",
       "      <td>0</td>\n",
       "      <td>1</td>\n",
       "      <td>0</td>\n",
       "      <td>0</td>\n",
       "      <td>0</td>\n",
       "      <td>0</td>\n",
       "      <td>0</td>\n",
       "    </tr>\n",
       "    <tr>\n",
       "      <th>...</th>\n",
       "      <td>...</td>\n",
       "      <td>...</td>\n",
       "      <td>...</td>\n",
       "      <td>...</td>\n",
       "      <td>...</td>\n",
       "      <td>...</td>\n",
       "      <td>...</td>\n",
       "      <td>...</td>\n",
       "      <td>...</td>\n",
       "      <td>...</td>\n",
       "      <td>...</td>\n",
       "      <td>...</td>\n",
       "      <td>...</td>\n",
       "      <td>...</td>\n",
       "      <td>...</td>\n",
       "    </tr>\n",
       "    <tr>\n",
       "      <th>217</th>\n",
       "      <td>2</td>\n",
       "      <td>2</td>\n",
       "      <td>0</td>\n",
       "      <td>2</td>\n",
       "      <td>0</td>\n",
       "      <td>1</td>\n",
       "      <td>0</td>\n",
       "      <td>0</td>\n",
       "      <td>0</td>\n",
       "      <td>0</td>\n",
       "      <td>1</td>\n",
       "      <td>0</td>\n",
       "      <td>0</td>\n",
       "      <td>0</td>\n",
       "      <td>0</td>\n",
       "    </tr>\n",
       "    <tr>\n",
       "      <th>135</th>\n",
       "      <td>1</td>\n",
       "      <td>3</td>\n",
       "      <td>4</td>\n",
       "      <td>2</td>\n",
       "      <td>0</td>\n",
       "      <td>1</td>\n",
       "      <td>0</td>\n",
       "      <td>0</td>\n",
       "      <td>1</td>\n",
       "      <td>0</td>\n",
       "      <td>0</td>\n",
       "      <td>0</td>\n",
       "      <td>0</td>\n",
       "      <td>0</td>\n",
       "      <td>0</td>\n",
       "    </tr>\n",
       "    <tr>\n",
       "      <th>258</th>\n",
       "      <td>3</td>\n",
       "      <td>5</td>\n",
       "      <td>5</td>\n",
       "      <td>2</td>\n",
       "      <td>0</td>\n",
       "      <td>0</td>\n",
       "      <td>1</td>\n",
       "      <td>0</td>\n",
       "      <td>0</td>\n",
       "      <td>0</td>\n",
       "      <td>0</td>\n",
       "      <td>1</td>\n",
       "      <td>0</td>\n",
       "      <td>0</td>\n",
       "      <td>1</td>\n",
       "    </tr>\n",
       "    <tr>\n",
       "      <th>78</th>\n",
       "      <td>3</td>\n",
       "      <td>4</td>\n",
       "      <td>0</td>\n",
       "      <td>2</td>\n",
       "      <td>0</td>\n",
       "      <td>1</td>\n",
       "      <td>0</td>\n",
       "      <td>0</td>\n",
       "      <td>0</td>\n",
       "      <td>1</td>\n",
       "      <td>0</td>\n",
       "      <td>0</td>\n",
       "      <td>0</td>\n",
       "      <td>0</td>\n",
       "      <td>0</td>\n",
       "    </tr>\n",
       "    <tr>\n",
       "      <th>164</th>\n",
       "      <td>4</td>\n",
       "      <td>4</td>\n",
       "      <td>4</td>\n",
       "      <td>1</td>\n",
       "      <td>0</td>\n",
       "      <td>0</td>\n",
       "      <td>0</td>\n",
       "      <td>1</td>\n",
       "      <td>1</td>\n",
       "      <td>1</td>\n",
       "      <td>0</td>\n",
       "      <td>0</td>\n",
       "      <td>0</td>\n",
       "      <td>0</td>\n",
       "      <td>1</td>\n",
       "    </tr>\n",
       "  </tbody>\n",
       "</table>\n",
       "<p>214 rows × 15 columns</p>\n",
       "</div>"
      ],
      "text/plain": [
       "     age  tumor-size  inv-nodes  deg-malig  menopause_lt40  menopause_premeno  \\\n",
       "165    2           3          4          2               0                  1   \n",
       "79     2           4          0          2               0                  1   \n",
       "278    3           6          2          3               0                  1   \n",
       "247    3           5          6          3               0                  0   \n",
       "248    4           6          5          3               0                  0   \n",
       "..   ...         ...        ...        ...             ...                ...   \n",
       "217    2           2          0          2               0                  1   \n",
       "135    1           3          4          2               0                  1   \n",
       "258    3           5          5          2               0                  0   \n",
       "78     3           4          0          2               0                  1   \n",
       "164    4           4          4          1               0                  0   \n",
       "\n",
       "     node-caps_yes  node-caps_nan  breast_right  breast-quad_left_low  \\\n",
       "165              0              0             1                     0   \n",
       "79               0              0             1                     0   \n",
       "278              1              0             1                     0   \n",
       "247              1              0             0                     0   \n",
       "248              1              0             0                     1   \n",
       "..             ...            ...           ...                   ...   \n",
       "217              0              0             0                     0   \n",
       "135              0              0             1                     0   \n",
       "258              1              0             0                     0   \n",
       "78               0              0             0                     1   \n",
       "164              0              1             1                     1   \n",
       "\n",
       "     breast-quad_left_up  breast-quad_right_low  breast-quad_right_up  \\\n",
       "165                    1                      0                     0   \n",
       "79                     0                      0                     0   \n",
       "278                    0                      0                     1   \n",
       "247                    0                      1                     0   \n",
       "248                    0                      0                     0   \n",
       "..                   ...                    ...                   ...   \n",
       "217                    1                      0                     0   \n",
       "135                    0                      0                     0   \n",
       "258                    0                      1                     0   \n",
       "78                     0                      0                     0   \n",
       "164                    0                      0                     0   \n",
       "\n",
       "     breast-quad_nan  irradiat_yes  \n",
       "165                0             0  \n",
       "79                 0             0  \n",
       "278                0             0  \n",
       "247                0             1  \n",
       "248                0             0  \n",
       "..               ...           ...  \n",
       "217                0             0  \n",
       "135                0             0  \n",
       "258                0             1  \n",
       "78                 0             0  \n",
       "164                0             1  \n",
       "\n",
       "[214 rows x 15 columns]"
      ]
     },
     "execution_count": 28,
     "metadata": {},
     "output_type": "execute_result"
    }
   ],
   "source": [
    "train_x, test_x, train_y, test_y = split_data(proc_df, label_col, test_size=0.25)\n",
    "\n",
    "imputer = dp.BasicImputer()\n",
    "imputer.fit(train_x)\n",
    "train_x = imputer.transform(train_x)\n",
    "test_x = imputer.transform(test_x)\n",
    "train_x"
   ]
  },
  {
   "cell_type": "markdown",
   "metadata": {},
   "source": [
    "As we can see, the dataset didn't have any missing values. Therefore, the BasicImputer didn't do anything.\n",
    "\n",
    "## 3 - Baseline Models\n",
    "\n",
    "In the following cells, we train different models and plot their results over the test set. These models will be considered our baseline models. We will test 2 models as our baseline: XGBoost and K-Nearest Neighbors (KNN)."
   ]
  },
  {
   "cell_type": "code",
   "execution_count": 29,
   "metadata": {},
   "outputs": [
    {
     "name": "stdout",
     "output_type": "stream",
     "text": [
      "\n",
      "TEST SET:\n",
      "\n",
      "[[26 25]\n",
      " [ 4 17]]\n"
     ]
    },
    {
     "data": {
      "image/png": "[encoded data removed]",
      "text/plain": [
       "<Figure size 640x480 with 2 Axes>"
      ]
     },
     "metadata": {},
     "output_type": "display_data"
    },
    {
     "name": "stdout",
     "output_type": "stream",
     "text": [
      "ROC AUC: 0.704014939309057\n",
      "Precision: 0.6357142857142857\n",
      "Recall: 0.6596638655462185\n",
      "F1: 0.5908289241622575\n",
      "Accuracy: 0.5972222222222222\n",
      "Optimal Threshold (ROC curve): 0.2437402755022049\n",
      "Optimal Threshold (Precision x Recall curve): 0.2437402755022049\n",
      "Threshold used: 0.2437402755022049\n"
     ]
    }
   ],
   "source": [
    "model = train_model_plot_results(train_x, train_y, test_x, test_y, model=\"xgb\", train_result=False, plot_pr=False)"
   ]
  },
  {
   "cell_type": "code",
   "execution_count": 30,
   "metadata": {},
   "outputs": [
    {
     "name": "stdout",
     "output_type": "stream",
     "text": [
      "\n",
      "TEST SET:\n",
      "\n",
      "[[19 32]\n",
      " [ 4 17]]\n"
     ]
    },
    {
     "data": {
      "image/png": "[encoded data removed]",
      "text/plain": [
       "<Figure size 640x480 with 2 Axes>"
      ]
     },
     "metadata": {},
     "output_type": "display_data"
    },
    {
     "name": "stdout",
     "output_type": "stream",
     "text": [
      "ROC AUC: 0.6087768440709618\n",
      "Precision: 0.5865128660159716\n",
      "Recall: 0.5910364145658263\n",
      "F1: 0.49961389961389957\n",
      "Accuracy: 0.5\n",
      "Optimal Threshold (ROC curve): 0.2\n",
      "Optimal Threshold (Precision x Recall curve): 0.2\n",
      "Threshold used: 0.2\n"
     ]
    }
   ],
   "source": [
    "model = train_model_plot_results(train_x, train_y, test_x, test_y, model=\"knn\", train_result=False, plot_pr=False)"
   ]
  },
  {
   "cell_type": "markdown",
   "metadata": {},
   "source": [
    "## 4 - Feature Selection\n",
    "\n",
    "From this point on, we will try to improve (even if slightly) the results of the baseline models. But before jumping into these improvements, an important note: there is some randomness involved in the training process we showed so far due to two factors:\n",
    "\n",
    "* the train and test split;\n",
    "* the model's training process might involve some randomness.\n",
    "\n",
    "Therefore, if you re-run this notebook with different `SEED` values, you most probably will get different results. Given the small size of the dataset being used here, the split between train and test sets can be crucial for getting good results. This means that some seed values might have results considerably better than others. Keep that in mind when looking through these results and testing different seeds (try commenting the cell where we fix the random seeds to check how the results vary). To really test the efficiency of the preprocessing steps shown here, we could run the split and train steps several times and record the mean (and standard deviation) of the results (auc, f1, etc.). This would give us a more powerful result. We encourage the interested user to check the notebook called **notebooks/case_study/case1_stat.ipynb**, which is a notebook where we perform the test previously described.\n",
    "\n",
    "Now, let's get back to our more simple experiments. Since we are using the same train and test split used by the baseline models, then we are good to go. Our first preprocessing (not considering the encoding part and the imputations, since those are mandatory to run the baseline models) is feature selection. Here, we will try the feature selection using the CatBoost model by using the **CatBoostSelection** class. Remember that we must pass the training set to the fit method, and then call the transform method over the training and test sets. This way we don't use any information of the test set for this step, avoiding data contamination."
   ]
  },
  {
   "cell_type": "code",
   "execution_count": 31,
   "metadata": {},
   "outputs": [
    {
     "name": "stderr",
     "output_type": "stream",
     "text": [
      "/home/matheus/miniconda3/envs/rai/lib/python3.9/site-packages/catboost/core.py:1222: FutureWarning: iteritems is deprecated and will be removed in a future version. Use .items instead.\n",
      "  self._init_pool(data, label, cat_features, text_features, embedding_features, pairs, weight,\n"
     ]
    }
   ],
   "source": [
    "feat_sel = dp.CatBoostSelection(steps=5, verbose=False)\n",
    "feat_sel.fit(X=train_x, y=train_y)\n",
    "train_x_sel = feat_sel.transform(train_x)\n",
    "test_x_sel = feat_sel.transform(test_x)"
   ]
  },
  {
   "cell_type": "markdown",
   "metadata": {},
   "source": [
    "Let's print the selected features:"
   ]
  },
  {
   "cell_type": "code",
   "execution_count": 32,
   "metadata": {},
   "outputs": [
    {
     "data": {
      "text/plain": [
       "['tumor-size',\n",
       " 'inv-nodes',\n",
       " 'deg-malig',\n",
       " 'menopause_lt40',\n",
       " 'node-caps_nan',\n",
       " 'breast-quad_right_up',\n",
       " 'breast-quad_nan']"
      ]
     },
     "execution_count": 32,
     "metadata": {},
     "output_type": "execute_result"
    }
   ],
   "source": [
    "feat_sel.get_selected_features()"
   ]
  },
  {
   "cell_type": "markdown",
   "metadata": {},
   "source": [
    "Now, let's re-train the KNN model and see how the feature selection preprocessing step affects the results:"
   ]
  },
  {
   "cell_type": "code",
   "execution_count": 33,
   "metadata": {},
   "outputs": [
    {
     "name": "stdout",
     "output_type": "stream",
     "text": [
      "\n",
      "TEST SET:\n",
      "\n",
      "[[45  6]\n",
      " [14  7]]\n"
     ]
    },
    {
     "data": {
      "image/png": "[encoded data removed]",
      "text/plain": [
       "<Figure size 640x480 with 2 Axes>"
      ]
     },
     "metadata": {},
     "output_type": "display_data"
    },
    {
     "name": "stdout",
     "output_type": "stream",
     "text": [
      "ROC AUC: 0.6321195144724556\n",
      "Precision: 0.6505867014341591\n",
      "Recall: 0.6078431372549019\n",
      "F1: 0.6149732620320855\n",
      "Accuracy: 0.7222222222222222\n",
      "Optimal Threshold (ROC curve): 0.6\n",
      "Optimal Threshold (Precision x Recall curve): 0.2\n",
      "Threshold used: 0.6\n"
     ]
    }
   ],
   "source": [
    "model = train_model_plot_results(train_x_sel, train_y, test_x_sel, test_y, model=\"knn\", train_result=False, plot_pr=False)"
   ]
  },
  {
   "cell_type": "markdown",
   "metadata": {},
   "source": [
    "Looking at the confusion matrix and comparing it to the baseline KNN model, we can see that the True Positives and True Negatives are now flipped. However, we did get an improvement on the other metrics. Therefore, using feature selection managed to improve the results while using less data (we are now using only 7 columns instead of 9).\n",
    "\n",
    "## 5 - Synthetic Data\n",
    "\n",
    "The next preprocessing step we will test is creating synthetic data. We will start by using SMOTE and its variations.\n",
    "\n",
    "### imblearn Library\n",
    "\n",
    "The imblearn library implements several variations of SMOTE, a over sampling strategy, as well as some under sampling mehtods, such as TOMEK Links. The class **Rebalance**, present in the **dataprocessing** library, encapsulates the imblearn library and automates certain processes. For example, we don't need to specify which version of SMOTE we want to use. We simply provide the dataset and specify the amount of new data we want, and the class **Rebalance** will do the rest: it will check the dataset and decide the best SMOTE variation to use, apply any under sampling method if requested, and run any preprocessing step if necessary (such as imputation). The user can also explicitly choose which SMOTE version they want by instantiating a SMOTE object (from imblearn) and passing it as a parameter to the **Rebalance** class. The same applies to the under sampling method.\n",
    "\n",
    "Here, we use the default options provided by the **Rebalance** class regarding the SMOTE method. We choose to not use any under sampling method and we also specify explicitly the number of instances we want for the different values in the Y column."
   ]
  },
  {
   "cell_type": "code",
   "execution_count": 34,
   "metadata": {},
   "outputs": [
    {
     "data": {
      "text/plain": [
       "0    150\n",
       "1     64\n",
       "Name: Class, dtype: int64"
      ]
     },
     "execution_count": 34,
     "metadata": {},
     "output_type": "execute_result"
    }
   ],
   "source": [
    "train_y.value_counts()"
   ]
  },
  {
   "cell_type": "markdown",
   "metadata": {},
   "source": [
    "Since we got an improved performance when using feature selection, we'll use our new dataset containing only the selected features in the following experiments. Note that these datasets are ``train_x`` and ``test_x``."
   ]
  },
  {
   "cell_type": "code",
   "execution_count": 35,
   "metadata": {},
   "outputs": [
    {
     "name": "stdout",
     "output_type": "stream",
     "text": [
      "No columns specified for imputation. These columns have been automatically identified:\n",
      "[]\n",
      "Running oversampling...\n",
      "...finished\n"
     ]
    },
    {
     "data": {
      "text/plain": [
       "0    150\n",
       "1     90\n",
       "Name: Class, dtype: int64"
      ]
     },
     "execution_count": 35,
     "metadata": {},
     "output_type": "execute_result"
    }
   ],
   "source": [
    "rebalance = dp.Rebalance(\n",
    "\t\t\t\tX=train_x_sel,\n",
    "\t\t\t\ty=train_y,\n",
    "\t\t\t\tstrategy_over={0:150, 1:90},\n",
    "\t\t\t\tover_sampler=True,\n",
    "\t\t\t\tunder_sampler=False\n",
    "\t\t\t)\n",
    "train_x_res, train_y_res = rebalance.fit_resample()\n",
    "train_y_res.value_counts()"
   ]
  },
  {
   "cell_type": "markdown",
   "metadata": {},
   "source": [
    "We can now retrain the KNN model using the new dataset with oversampling:"
   ]
  },
  {
   "cell_type": "code",
   "execution_count": 36,
   "metadata": {},
   "outputs": [
    {
     "name": "stdout",
     "output_type": "stream",
     "text": [
      "\n",
      "TEST SET:\n",
      "\n",
      "[[44  7]\n",
      " [12  9]]\n"
     ]
    },
    {
     "data": {
      "image/png": "[encoded data removed]",
      "text/plain": [
       "<Figure size 640x480 with 2 Axes>"
      ]
     },
     "metadata": {},
     "output_type": "display_data"
    },
    {
     "name": "stdout",
     "output_type": "stream",
     "text": [
      "ROC AUC: 0.645658263305322\n",
      "Precision: 0.6741071428571428\n",
      "Recall: 0.6456582633053222\n",
      "F1: 0.6544581965142713\n",
      "Accuracy: 0.7361111111111112\n",
      "Optimal Threshold (ROC curve): 0.6\n",
      "Optimal Threshold (Precision x Recall curve): 0.6\n",
      "Threshold used: 0.6\n"
     ]
    }
   ],
   "source": [
    "model = train_model_plot_results(train_x_res, train_y_res, test_x_sel, test_y, model=\"knn\", train_result=False, plot_pr=False)"
   ]
  },
  {
   "cell_type": "markdown",
   "metadata": {},
   "source": [
    "As we can see here, the oversampling managed to improve the results for the test set even further (compared to the feature selection step).\n",
    "\n",
    "### Creating Artificial Data using Deep Learning\n",
    "\n",
    "Instead of using SMOTE to do the over sampling, we can also use Generator models to create artificial data similar to the ones observed in the training dataset.\n",
    "\n",
    "#### CTGAN\n",
    "\n",
    "In the next cell, we use the **Synthesizer** class to create artificial data using the CTGAN model. Similarly to what we've done in the **Rebalance** experiment, we'll use the datasets produced by the feature selection step. We can also try training the CTGAN for more epochs and see how this affects the results."
   ]
  },
  {
   "cell_type": "code",
   "execution_count": 37,
   "metadata": {},
   "outputs": [
    {
     "name": "stderr",
     "output_type": "stream",
     "text": [
      "/home/matheus/miniconda3/envs/rai/lib/python3.9/site-packages/sklearn/mixture/_base.py:131: ConvergenceWarning: Number of distinct clusters (7) found smaller than n_clusters (10). Possibly due to duplicate points in X.\n",
      "  cluster.KMeans(\n",
      "/home/matheus/miniconda3/envs/rai/lib/python3.9/site-packages/sklearn/mixture/_base.py:131: ConvergenceWarning: Number of distinct clusters (3) found smaller than n_clusters (10). Possibly due to duplicate points in X.\n",
      "  cluster.KMeans(\n",
      "/home/matheus/miniconda3/envs/rai/lib/python3.9/site-packages/ctgan/data_transformer.py:111: SettingWithCopyWarning: \n",
      "A value is trying to be set on a copy of a slice from a DataFrame.\n",
      "Try using .loc[row_indexer,col_indexer] = value instead\n",
      "\n",
      "See the caveats in the documentation: https://pandas.pydata.org/pandas-docs/stable/user_guide/indexing.html#returning-a-view-versus-a-copy\n",
      "  data[column_name] = data[column_name].to_numpy().flatten()\n",
      "/home/matheus/miniconda3/envs/rai/lib/python3.9/site-packages/ctgan/data_transformer.py:111: SettingWithCopyWarning: \n",
      "A value is trying to be set on a copy of a slice from a DataFrame.\n",
      "Try using .loc[row_indexer,col_indexer] = value instead\n",
      "\n",
      "See the caveats in the documentation: https://pandas.pydata.org/pandas-docs/stable/user_guide/indexing.html#returning-a-view-versus-a-copy\n",
      "  data[column_name] = data[column_name].to_numpy().flatten()\n",
      "/home/matheus/miniconda3/envs/rai/lib/python3.9/site-packages/ctgan/data_transformer.py:111: SettingWithCopyWarning: \n",
      "A value is trying to be set on a copy of a slice from a DataFrame.\n",
      "Try using .loc[row_indexer,col_indexer] = value instead\n",
      "\n",
      "See the caveats in the documentation: https://pandas.pydata.org/pandas-docs/stable/user_guide/indexing.html#returning-a-view-versus-a-copy\n",
      "  data[column_name] = data[column_name].to_numpy().flatten()\n",
      "Sampling conditions:   0%|          | 0/20 [00:00<?, ?it/s]/home/matheus/miniconda3/envs/rai/lib/python3.9/site-packages/sdv/tabular/base.py:608: FutureWarning: In a future version of pandas, a length 1 tuple will be returned when iterating over a groupby with a grouper equal to a list of length 1. Don't supply a list with a single grouper to avoid this warning.\n",
      "  for group, dataframe in grouped_conditions:\n",
      "/home/matheus/miniconda3/envs/rai/lib/python3.9/site-packages/sdv/tabular/base.py:639: FutureWarning: In a future version of pandas, a length 1 tuple will be returned when iterating over a groupby with a grouper equal to a list of length 1. Don't supply a list with a single grouper to avoid this warning.\n",
      "  for transformed_group, transformed_dataframe in transformed_groups:\n",
      "/home/matheus/miniconda3/envs/rai/lib/python3.9/site-packages/ctgan/data_transformer.py:149: FutureWarning: In a future version, `df.iloc[:, i] = newvals` will attempt to set the values inplace instead of always setting a new array. To retain the old behavior, use either `df[df.columns[i]] = newvals` or, if columns are non-unique, `df.isetitem(i, newvals)`\n",
      "  data.iloc[:, 1] = np.argmax(column_data[:, 1:], axis=1)\n",
      "/home/matheus/miniconda3/envs/rai/lib/python3.9/site-packages/ctgan/data_transformer.py:149: FutureWarning: In a future version, `df.iloc[:, i] = newvals` will attempt to set the values inplace instead of always setting a new array. To retain the old behavior, use either `df[df.columns[i]] = newvals` or, if columns are non-unique, `df.isetitem(i, newvals)`\n",
      "  data.iloc[:, 1] = np.argmax(column_data[:, 1:], axis=1)\n",
      "/home/matheus/miniconda3/envs/rai/lib/python3.9/site-packages/ctgan/data_transformer.py:149: FutureWarning: In a future version, `df.iloc[:, i] = newvals` will attempt to set the values inplace instead of always setting a new array. To retain the old behavior, use either `df[df.columns[i]] = newvals` or, if columns are non-unique, `df.isetitem(i, newvals)`\n",
      "  data.iloc[:, 1] = np.argmax(column_data[:, 1:], axis=1)\n",
      "/home/matheus/miniconda3/envs/rai/lib/python3.9/site-packages/ctgan/data_transformer.py:149: FutureWarning: In a future version, `df.iloc[:, i] = newvals` will attempt to set the values inplace instead of always setting a new array. To retain the old behavior, use either `df[df.columns[i]] = newvals` or, if columns are non-unique, `df.isetitem(i, newvals)`\n",
      "  data.iloc[:, 1] = np.argmax(column_data[:, 1:], axis=1)\n",
      "/home/matheus/miniconda3/envs/rai/lib/python3.9/site-packages/ctgan/data_transformer.py:149: FutureWarning: In a future version, `df.iloc[:, i] = newvals` will attempt to set the values inplace instead of always setting a new array. To retain the old behavior, use either `df[df.columns[i]] = newvals` or, if columns are non-unique, `df.isetitem(i, newvals)`\n",
      "  data.iloc[:, 1] = np.argmax(column_data[:, 1:], axis=1)\n",
      "/home/matheus/miniconda3/envs/rai/lib/python3.9/site-packages/ctgan/data_transformer.py:149: FutureWarning: In a future version, `df.iloc[:, i] = newvals` will attempt to set the values inplace instead of always setting a new array. To retain the old behavior, use either `df[df.columns[i]] = newvals` or, if columns are non-unique, `df.isetitem(i, newvals)`\n",
      "  data.iloc[:, 1] = np.argmax(column_data[:, 1:], axis=1)\n",
      "/home/matheus/miniconda3/envs/rai/lib/python3.9/site-packages/ctgan/data_transformer.py:149: FutureWarning: In a future version, `df.iloc[:, i] = newvals` will attempt to set the values inplace instead of always setting a new array. To retain the old behavior, use either `df[df.columns[i]] = newvals` or, if columns are non-unique, `df.isetitem(i, newvals)`\n",
      "  data.iloc[:, 1] = np.argmax(column_data[:, 1:], axis=1)\n",
      "/home/matheus/miniconda3/envs/rai/lib/python3.9/site-packages/ctgan/data_transformer.py:149: FutureWarning: In a future version, `df.iloc[:, i] = newvals` will attempt to set the values inplace instead of always setting a new array. To retain the old behavior, use either `df[df.columns[i]] = newvals` or, if columns are non-unique, `df.isetitem(i, newvals)`\n",
      "  data.iloc[:, 1] = np.argmax(column_data[:, 1:], axis=1)\n",
      "/home/matheus/miniconda3/envs/rai/lib/python3.9/site-packages/ctgan/data_transformer.py:149: FutureWarning: In a future version, `df.iloc[:, i] = newvals` will attempt to set the values inplace instead of always setting a new array. To retain the old behavior, use either `df[df.columns[i]] = newvals` or, if columns are non-unique, `df.isetitem(i, newvals)`\n",
      "  data.iloc[:, 1] = np.argmax(column_data[:, 1:], axis=1)\n",
      "Sampling conditions: 100%|██████████| 20/20 [00:00<00:00, 215.10it/s]\n"
     ]
    },
    {
     "data": {
      "text/plain": [
       "0    150\n",
       "1     84\n",
       "Name: Class, dtype: int64"
      ]
     },
     "execution_count": 37,
     "metadata": {},
     "output_type": "execute_result"
    }
   ],
   "source": [
    "synth = dp.Synthesizer(\n",
    "\t\t\t\tX=train_x_sel,\n",
    "\t\t\t\ty=train_y,\n",
    "\t\t\t\tepochs=400,\n",
    "\t\t\t\tmodel=\"ctgan\",\n",
    "\t\t\t\tload_existing=False\n",
    "\t\t\t)\n",
    "synth.fit()\n",
    "conditions = {label_col:1}\n",
    "syn_train_x, syn_train_y = synth.transform(X=train_x_sel, y=train_y, n_samples=20, conditions=conditions)\n",
    "syn_train_y.value_counts()"
   ]
  },
  {
   "cell_type": "code",
   "execution_count": 38,
   "metadata": {},
   "outputs": [
    {
     "name": "stdout",
     "output_type": "stream",
     "text": [
      "\n",
      "TEST SET:\n",
      "\n",
      "[[38 13]\n",
      " [ 8 13]]\n"
     ]
    },
    {
     "data": {
      "image/png": "[encoded data removed]",
      "text/plain": [
       "<Figure size 640x480 with 2 Axes>"
      ]
     },
     "metadata": {},
     "output_type": "display_data"
    },
    {
     "name": "stdout",
     "output_type": "stream",
     "text": [
      "ROC AUC: 0.6862745098039216\n",
      "Precision: 0.6630434782608696\n",
      "Recall: 0.6820728291316527\n",
      "F1: 0.6683483220004387\n",
      "Accuracy: 0.7083333333333334\n",
      "Optimal Threshold (ROC curve): 0.4\n",
      "Optimal Threshold (Precision x Recall curve): 0.4\n",
      "Threshold used: 0.4\n"
     ]
    }
   ],
   "source": [
    "model = train_model_plot_results(syn_train_x, syn_train_y, test_x_sel, test_y, model=\"knn\", train_result=False, plot_pr=False)"
   ]
  },
  {
   "cell_type": "markdown",
   "metadata": {},
   "source": [
    "Comparing the results to the feature selection step, we notice that the results obtained here are worse for all metrics. Therefore, in this scenario, the CTGAN didn't manage to improve the performance as the **Rebalance** class.\n",
    "\n",
    "Once again, remember to test different seed values and see how the results will be different."
   ]
  }
 ],
 "metadata": {
  "kernelspec": {
   "display_name": "Python 3.9.13 ('rai')",
   "language": "python",
   "name": "python3"
  },
  "language_info": {
   "codemirror_mode": {
    "name": "ipython",
    "version": 3
   },
   "file_extension": ".py",
   "mimetype": "text/x-python",
   "name": "python",
   "nbconvert_exporter": "python",
   "pygments_lexer": "ipython3",
   "version": "3.9.13"
  },
  "vscode": {
   "interpreter": {
    "hash": "5c68a259911a7290c7470d40c51cc61736c595673df171bc58d19d3fff2f3bed"
   }
  }
 },
 "nbformat": 4,
 "nbformat_minor": 2
}
