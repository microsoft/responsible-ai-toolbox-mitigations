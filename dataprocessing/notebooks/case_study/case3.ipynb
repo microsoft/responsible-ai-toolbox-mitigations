{
 "cells": [
  {
   "cell_type": "code",
   "execution_count": 1,
   "metadata": {},
   "outputs": [],
   "source": [
    "import pandas as pd\n",
    "import numpy as np\n",
    "import uci_dataset as database\n",
    "\n",
    "import raimitigations.dataprocessing as dp"
   ]
  },
  {
   "cell_type": "markdown",
   "metadata": {},
   "source": [
    "# Case Study 3\n",
    "\n",
    "## 1 - Understanding the Data"
   ]
  },
  {
   "cell_type": "code",
   "execution_count": 2,
   "metadata": {},
   "outputs": [
    {
     "data": {
      "text/html": [
       "<div>\n",
       "<style scoped>\n",
       "    .dataframe tbody tr th:only-of-type {\n",
       "        vertical-align: middle;\n",
       "    }\n",
       "\n",
       "    .dataframe tbody tr th {\n",
       "        vertical-align: top;\n",
       "    }\n",
       "\n",
       "    .dataframe thead th {\n",
       "        text-align: right;\n",
       "    }\n",
       "</style>\n",
       "<table border=\"1\" class=\"dataframe\">\n",
       "  <thead>\n",
       "    <tr style=\"text-align: right;\">\n",
       "      <th></th>\n",
       "      <th>sick-euthyroid</th>\n",
       "      <th>age</th>\n",
       "      <th>sex</th>\n",
       "      <th>on_thyroxine</th>\n",
       "      <th>query_on_thyroxine</th>\n",
       "      <th>on_antithyroid_medication</th>\n",
       "      <th>thyroid_surgery</th>\n",
       "      <th>query_hypothyroid</th>\n",
       "      <th>query_hyperthyroid</th>\n",
       "      <th>pregnant</th>\n",
       "      <th>...</th>\n",
       "      <th>T3_measured</th>\n",
       "      <th>T3</th>\n",
       "      <th>TT4_measured</th>\n",
       "      <th>TT4</th>\n",
       "      <th>T4U_measured</th>\n",
       "      <th>T4U</th>\n",
       "      <th>FTI_measured</th>\n",
       "      <th>FTI</th>\n",
       "      <th>TBG_measured</th>\n",
       "      <th>TBG</th>\n",
       "    </tr>\n",
       "  </thead>\n",
       "  <tbody>\n",
       "    <tr>\n",
       "      <th>0</th>\n",
       "      <td>sick-euthyroid</td>\n",
       "      <td>72.0</td>\n",
       "      <td>M</td>\n",
       "      <td>f</td>\n",
       "      <td>f</td>\n",
       "      <td>f</td>\n",
       "      <td>f</td>\n",
       "      <td>f</td>\n",
       "      <td>f</td>\n",
       "      <td>f</td>\n",
       "      <td>...</td>\n",
       "      <td>y</td>\n",
       "      <td>1.0</td>\n",
       "      <td>y</td>\n",
       "      <td>83.0</td>\n",
       "      <td>y</td>\n",
       "      <td>0.95</td>\n",
       "      <td>y</td>\n",
       "      <td>87.0</td>\n",
       "      <td>n</td>\n",
       "      <td>NaN</td>\n",
       "    </tr>\n",
       "    <tr>\n",
       "      <th>1</th>\n",
       "      <td>sick-euthyroid</td>\n",
       "      <td>45.0</td>\n",
       "      <td>F</td>\n",
       "      <td>f</td>\n",
       "      <td>f</td>\n",
       "      <td>f</td>\n",
       "      <td>f</td>\n",
       "      <td>f</td>\n",
       "      <td>f</td>\n",
       "      <td>f</td>\n",
       "      <td>...</td>\n",
       "      <td>y</td>\n",
       "      <td>1.0</td>\n",
       "      <td>y</td>\n",
       "      <td>82.0</td>\n",
       "      <td>y</td>\n",
       "      <td>0.73</td>\n",
       "      <td>y</td>\n",
       "      <td>112.0</td>\n",
       "      <td>n</td>\n",
       "      <td>NaN</td>\n",
       "    </tr>\n",
       "    <tr>\n",
       "      <th>2</th>\n",
       "      <td>sick-euthyroid</td>\n",
       "      <td>64.0</td>\n",
       "      <td>F</td>\n",
       "      <td>f</td>\n",
       "      <td>f</td>\n",
       "      <td>f</td>\n",
       "      <td>f</td>\n",
       "      <td>f</td>\n",
       "      <td>f</td>\n",
       "      <td>f</td>\n",
       "      <td>...</td>\n",
       "      <td>y</td>\n",
       "      <td>1.0</td>\n",
       "      <td>y</td>\n",
       "      <td>101.0</td>\n",
       "      <td>y</td>\n",
       "      <td>0.82</td>\n",
       "      <td>y</td>\n",
       "      <td>123.0</td>\n",
       "      <td>n</td>\n",
       "      <td>NaN</td>\n",
       "    </tr>\n",
       "    <tr>\n",
       "      <th>3</th>\n",
       "      <td>sick-euthyroid</td>\n",
       "      <td>56.0</td>\n",
       "      <td>M</td>\n",
       "      <td>f</td>\n",
       "      <td>f</td>\n",
       "      <td>f</td>\n",
       "      <td>f</td>\n",
       "      <td>f</td>\n",
       "      <td>f</td>\n",
       "      <td>f</td>\n",
       "      <td>...</td>\n",
       "      <td>y</td>\n",
       "      <td>0.8</td>\n",
       "      <td>y</td>\n",
       "      <td>76.0</td>\n",
       "      <td>y</td>\n",
       "      <td>0.77</td>\n",
       "      <td>y</td>\n",
       "      <td>99.0</td>\n",
       "      <td>n</td>\n",
       "      <td>NaN</td>\n",
       "    </tr>\n",
       "    <tr>\n",
       "      <th>4</th>\n",
       "      <td>sick-euthyroid</td>\n",
       "      <td>78.0</td>\n",
       "      <td>F</td>\n",
       "      <td>t</td>\n",
       "      <td>f</td>\n",
       "      <td>f</td>\n",
       "      <td>f</td>\n",
       "      <td>t</td>\n",
       "      <td>f</td>\n",
       "      <td>f</td>\n",
       "      <td>...</td>\n",
       "      <td>y</td>\n",
       "      <td>0.3</td>\n",
       "      <td>y</td>\n",
       "      <td>87.0</td>\n",
       "      <td>y</td>\n",
       "      <td>0.95</td>\n",
       "      <td>y</td>\n",
       "      <td>91.0</td>\n",
       "      <td>n</td>\n",
       "      <td>NaN</td>\n",
       "    </tr>\n",
       "    <tr>\n",
       "      <th>...</th>\n",
       "      <td>...</td>\n",
       "      <td>...</td>\n",
       "      <td>...</td>\n",
       "      <td>...</td>\n",
       "      <td>...</td>\n",
       "      <td>...</td>\n",
       "      <td>...</td>\n",
       "      <td>...</td>\n",
       "      <td>...</td>\n",
       "      <td>...</td>\n",
       "      <td>...</td>\n",
       "      <td>...</td>\n",
       "      <td>...</td>\n",
       "      <td>...</td>\n",
       "      <td>...</td>\n",
       "      <td>...</td>\n",
       "      <td>...</td>\n",
       "      <td>...</td>\n",
       "      <td>...</td>\n",
       "      <td>...</td>\n",
       "      <td>...</td>\n",
       "    </tr>\n",
       "    <tr>\n",
       "      <th>3158</th>\n",
       "      <td>negative</td>\n",
       "      <td>40.0</td>\n",
       "      <td>F</td>\n",
       "      <td>f</td>\n",
       "      <td>f</td>\n",
       "      <td>f</td>\n",
       "      <td>f</td>\n",
       "      <td>f</td>\n",
       "      <td>f</td>\n",
       "      <td>f</td>\n",
       "      <td>...</td>\n",
       "      <td>y</td>\n",
       "      <td>1.2</td>\n",
       "      <td>y</td>\n",
       "      <td>76.0</td>\n",
       "      <td>y</td>\n",
       "      <td>0.90</td>\n",
       "      <td>y</td>\n",
       "      <td>84.0</td>\n",
       "      <td>n</td>\n",
       "      <td>NaN</td>\n",
       "    </tr>\n",
       "    <tr>\n",
       "      <th>3159</th>\n",
       "      <td>negative</td>\n",
       "      <td>69.0</td>\n",
       "      <td>F</td>\n",
       "      <td>f</td>\n",
       "      <td>f</td>\n",
       "      <td>f</td>\n",
       "      <td>f</td>\n",
       "      <td>f</td>\n",
       "      <td>f</td>\n",
       "      <td>f</td>\n",
       "      <td>...</td>\n",
       "      <td>y</td>\n",
       "      <td>1.8</td>\n",
       "      <td>y</td>\n",
       "      <td>126.0</td>\n",
       "      <td>y</td>\n",
       "      <td>1.02</td>\n",
       "      <td>y</td>\n",
       "      <td>124.0</td>\n",
       "      <td>n</td>\n",
       "      <td>NaN</td>\n",
       "    </tr>\n",
       "    <tr>\n",
       "      <th>3160</th>\n",
       "      <td>negative</td>\n",
       "      <td>58.0</td>\n",
       "      <td>F</td>\n",
       "      <td>f</td>\n",
       "      <td>f</td>\n",
       "      <td>f</td>\n",
       "      <td>f</td>\n",
       "      <td>f</td>\n",
       "      <td>f</td>\n",
       "      <td>f</td>\n",
       "      <td>...</td>\n",
       "      <td>y</td>\n",
       "      <td>1.7</td>\n",
       "      <td>y</td>\n",
       "      <td>86.0</td>\n",
       "      <td>y</td>\n",
       "      <td>0.91</td>\n",
       "      <td>y</td>\n",
       "      <td>95.0</td>\n",
       "      <td>n</td>\n",
       "      <td>NaN</td>\n",
       "    </tr>\n",
       "    <tr>\n",
       "      <th>3161</th>\n",
       "      <td>negative</td>\n",
       "      <td>29.0</td>\n",
       "      <td>F</td>\n",
       "      <td>f</td>\n",
       "      <td>f</td>\n",
       "      <td>f</td>\n",
       "      <td>f</td>\n",
       "      <td>f</td>\n",
       "      <td>f</td>\n",
       "      <td>f</td>\n",
       "      <td>...</td>\n",
       "      <td>y</td>\n",
       "      <td>1.8</td>\n",
       "      <td>y</td>\n",
       "      <td>99.0</td>\n",
       "      <td>y</td>\n",
       "      <td>1.01</td>\n",
       "      <td>y</td>\n",
       "      <td>98.0</td>\n",
       "      <td>n</td>\n",
       "      <td>NaN</td>\n",
       "    </tr>\n",
       "    <tr>\n",
       "      <th>3162</th>\n",
       "      <td>negative</td>\n",
       "      <td>56.0</td>\n",
       "      <td>F</td>\n",
       "      <td>t</td>\n",
       "      <td>f</td>\n",
       "      <td>f</td>\n",
       "      <td>f</td>\n",
       "      <td>f</td>\n",
       "      <td>f</td>\n",
       "      <td>f</td>\n",
       "      <td>...</td>\n",
       "      <td>y</td>\n",
       "      <td>1.8</td>\n",
       "      <td>y</td>\n",
       "      <td>139.0</td>\n",
       "      <td>y</td>\n",
       "      <td>0.97</td>\n",
       "      <td>y</td>\n",
       "      <td>143.0</td>\n",
       "      <td>n</td>\n",
       "      <td>NaN</td>\n",
       "    </tr>\n",
       "  </tbody>\n",
       "</table>\n",
       "<p>3163 rows × 26 columns</p>\n",
       "</div>"
      ],
      "text/plain": [
       "      sick-euthyroid   age sex on_thyroxine query_on_thyroxine  \\\n",
       "0     sick-euthyroid  72.0   M            f                  f   \n",
       "1     sick-euthyroid  45.0   F            f                  f   \n",
       "2     sick-euthyroid  64.0   F            f                  f   \n",
       "3     sick-euthyroid  56.0   M            f                  f   \n",
       "4     sick-euthyroid  78.0   F            t                  f   \n",
       "...              ...   ...  ..          ...                ...   \n",
       "3158        negative  40.0   F            f                  f   \n",
       "3159        negative  69.0   F            f                  f   \n",
       "3160        negative  58.0   F            f                  f   \n",
       "3161        negative  29.0   F            f                  f   \n",
       "3162        negative  56.0   F            t                  f   \n",
       "\n",
       "     on_antithyroid_medication thyroid_surgery query_hypothyroid  \\\n",
       "0                            f               f                 f   \n",
       "1                            f               f                 f   \n",
       "2                            f               f                 f   \n",
       "3                            f               f                 f   \n",
       "4                            f               f                 t   \n",
       "...                        ...             ...               ...   \n",
       "3158                         f               f                 f   \n",
       "3159                         f               f                 f   \n",
       "3160                         f               f                 f   \n",
       "3161                         f               f                 f   \n",
       "3162                         f               f                 f   \n",
       "\n",
       "     query_hyperthyroid pregnant  ... T3_measured   T3 TT4_measured    TT4  \\\n",
       "0                     f        f  ...           y  1.0            y   83.0   \n",
       "1                     f        f  ...           y  1.0            y   82.0   \n",
       "2                     f        f  ...           y  1.0            y  101.0   \n",
       "3                     f        f  ...           y  0.8            y   76.0   \n",
       "4                     f        f  ...           y  0.3            y   87.0   \n",
       "...                 ...      ...  ...         ...  ...          ...    ...   \n",
       "3158                  f        f  ...           y  1.2            y   76.0   \n",
       "3159                  f        f  ...           y  1.8            y  126.0   \n",
       "3160                  f        f  ...           y  1.7            y   86.0   \n",
       "3161                  f        f  ...           y  1.8            y   99.0   \n",
       "3162                  f        f  ...           y  1.8            y  139.0   \n",
       "\n",
       "     T4U_measured   T4U FTI_measured    FTI TBG_measured  TBG  \n",
       "0               y  0.95            y   87.0            n  NaN  \n",
       "1               y  0.73            y  112.0            n  NaN  \n",
       "2               y  0.82            y  123.0            n  NaN  \n",
       "3               y  0.77            y   99.0            n  NaN  \n",
       "4               y  0.95            y   91.0            n  NaN  \n",
       "...           ...   ...          ...    ...          ...  ...  \n",
       "3158            y  0.90            y   84.0            n  NaN  \n",
       "3159            y  1.02            y  124.0            n  NaN  \n",
       "3160            y  0.91            y   95.0            n  NaN  \n",
       "3161            y  1.01            y   98.0            n  NaN  \n",
       "3162            y  0.97            y  143.0            n  NaN  \n",
       "\n",
       "[3163 rows x 26 columns]"
      ]
     },
     "execution_count": 2,
     "metadata": {},
     "output_type": "execute_result"
    }
   ],
   "source": [
    "df = database.load_thyroid_disease()\n",
    "label_col = \"sick-euthyroid\"\n",
    "df"
   ]
  },
  {
   "cell_type": "code",
   "execution_count": 3,
   "metadata": {},
   "outputs": [],
   "source": [
    "df[label_col] = df[label_col].replace({\"sick-euthyroid\": 1, \"negative\": 0})"
   ]
  },
  {
   "cell_type": "code",
   "execution_count": 4,
   "metadata": {},
   "outputs": [
    {
     "name": "stdout",
     "output_type": "stream",
     "text": [
      "<class 'pandas.core.frame.DataFrame'>\n",
      "RangeIndex: 3163 entries, 0 to 3162\n",
      "Data columns (total 26 columns):\n",
      " #   Column                     Non-Null Count  Dtype  \n",
      "---  ------                     --------------  -----  \n",
      " 0   sick-euthyroid             3163 non-null   int64  \n",
      " 1   age                        2717 non-null   float64\n",
      " 2   sex                        3090 non-null   object \n",
      " 3   on_thyroxine               3163 non-null   object \n",
      " 4   query_on_thyroxine         3163 non-null   object \n",
      " 5   on_antithyroid_medication  3163 non-null   object \n",
      " 6   thyroid_surgery            3163 non-null   object \n",
      " 7   query_hypothyroid          3163 non-null   object \n",
      " 8   query_hyperthyroid         3163 non-null   object \n",
      " 9   pregnant                   3163 non-null   object \n",
      " 10  sick                       3163 non-null   object \n",
      " 11  tumor                      3163 non-null   object \n",
      " 12  lithium                    3163 non-null   object \n",
      " 13  goitre                     3163 non-null   object \n",
      " 14  TSH_measured               3163 non-null   object \n",
      " 15  TSH                        2695 non-null   float64\n",
      " 16  T3_measured                3163 non-null   object \n",
      " 17  T3                         2468 non-null   float64\n",
      " 18  TT4_measured               3163 non-null   object \n",
      " 19  TT4                        2914 non-null   float64\n",
      " 20  T4U_measured               3163 non-null   object \n",
      " 21  T4U                        2915 non-null   float64\n",
      " 22  FTI_measured               3163 non-null   object \n",
      " 23  FTI                        2916 non-null   float64\n",
      " 24  TBG_measured               3163 non-null   object \n",
      " 25  TBG                        260 non-null    float64\n",
      "dtypes: float64(7), int64(1), object(18)\n",
      "memory usage: 642.6+ KB\n"
     ]
    }
   ],
   "source": [
    "df.info()"
   ]
  },
  {
   "cell_type": "code",
   "execution_count": 5,
   "metadata": {},
   "outputs": [
    {
     "data": {
      "text/plain": [
       "f    3108\n",
       "t      55\n",
       "Name: query_on_thyroxine, dtype: int64"
      ]
     },
     "execution_count": 5,
     "metadata": {},
     "output_type": "execute_result"
    }
   ],
   "source": [
    "df['query_on_thyroxine'].value_counts()"
   ]
  },
  {
   "cell_type": "code",
   "execution_count": 6,
   "metadata": {},
   "outputs": [
    {
     "data": {
      "text/plain": [
       "array([3108,   55])"
      ]
     },
     "execution_count": 6,
     "metadata": {},
     "output_type": "execute_result"
    }
   ],
   "source": [
    "counts = df['query_on_thyroxine'].value_counts().values\n",
    "counts"
   ]
  },
  {
   "cell_type": "code",
   "execution_count": 7,
   "metadata": {},
   "outputs": [],
   "source": [
    "cor_feat = dp.CorrelatedFeatures(\n",
    "\t\t\t\t\tmethod_num_num=[\"spearman\", \"pearson\", \"kendall\"],\t\t\t\t# Used for Numerical x Numerical correlations\n",
    "\t\t\t\t\tnum_corr_th=0.9,\t\t\t\t\t\t\t\t\t\t\t\t# Used for Numerical x Numerical correlations\n",
    "\t\t\t\t\tnum_pvalue_th=0.05,\t\t\t\t\t\t\t\t\t\t\t\t# Used for Numerical x Numerical correlations\n",
    "\t\t\t\t\tmethod_num_cat=\"model\",\t\t\t\t\t\t\t\t\t\t\t# Used for Numerical x Categorical correlations\n",
    "\t\t\t\t\tmodel_metrics=[\"f1\", \"auc\"],\t\t\t\t\t\t\t\t\t# Used for Numerical x Categorical correlations\n",
    "\t\t\t\t\tmetric_th=0.9,\t\t\t\t\t\t\t\t\t\t\t\t\t# Used for Numerical x Categorical correlations\n",
    "\t\t\t\t\tcat_corr_th=0.9,\t\t\t\t\t\t\t\t\t\t\t\t# Used for Categorical x Categorical correlations\n",
    "\t\t\t\t\tcat_pvalue_th=0.01,\t\t\t\t\t\t\t\t\t\t\t\t# Used for Categorical x Categorical correlations\n",
    "\t\t\t\t\tjson_summary=\"./corr_json/c3_summary.json\",\n",
    "\t\t\t\t\tjson_corr=\"./corr_json/c3_corr.json\",\n",
    "\t\t\t\t\tjson_uncorr=\"./corr_json/c3_uncorr.json\"\n",
    "\t\t\t\t)\n",
    "cor_feat.fit(df=df, label_col=label_col)"
   ]
  },
  {
   "cell_type": "markdown",
   "metadata": {},
   "source": [
    "Remember to look through the JSON files generated in the previous cell"
   ]
  },
  {
   "cell_type": "markdown",
   "metadata": {},
   "source": [
    "## 2 - Basic Pre-Processing\n",
    "\n",
    "### Encode Categorical Variables"
   ]
  },
  {
   "cell_type": "code",
   "execution_count": 10,
   "metadata": {},
   "outputs": [
    {
     "name": "stdout",
     "output_type": "stream",
     "text": [
      "No columns specified for encoding. These columns have been automatically identfied as the following:\n",
      "['sex', 'on_thyroxine', 'query_on_thyroxine', 'on_antithyroid_medication', 'thyroid_surgery', 'query_hypothyroid', 'query_hyperthyroid', 'pregnant', 'sick', 'tumor', 'lithium', 'goitre', 'TSH_measured', 'T3_measured', 'TT4_measured', 'T4U_measured', 'FTI_measured', 'TBG_measured']\n"
     ]
    },
    {
     "data": {
      "text/html": [
       "<div>\n",
       "<style scoped>\n",
       "    .dataframe tbody tr th:only-of-type {\n",
       "        vertical-align: middle;\n",
       "    }\n",
       "\n",
       "    .dataframe tbody tr th {\n",
       "        vertical-align: top;\n",
       "    }\n",
       "\n",
       "    .dataframe thead th {\n",
       "        text-align: right;\n",
       "    }\n",
       "</style>\n",
       "<table border=\"1\" class=\"dataframe\">\n",
       "  <thead>\n",
       "    <tr style=\"text-align: right;\">\n",
       "      <th></th>\n",
       "      <th>sick-euthyroid</th>\n",
       "      <th>age</th>\n",
       "      <th>TSH</th>\n",
       "      <th>T3</th>\n",
       "      <th>TT4</th>\n",
       "      <th>T4U</th>\n",
       "      <th>FTI</th>\n",
       "      <th>TBG</th>\n",
       "      <th>sex_M</th>\n",
       "      <th>sex_nan</th>\n",
       "      <th>...</th>\n",
       "      <th>sick_t</th>\n",
       "      <th>tumor_t</th>\n",
       "      <th>lithium_t</th>\n",
       "      <th>goitre_t</th>\n",
       "      <th>TSH_measured_y</th>\n",
       "      <th>T3_measured_y</th>\n",
       "      <th>TT4_measured_y</th>\n",
       "      <th>T4U_measured_y</th>\n",
       "      <th>FTI_measured_y</th>\n",
       "      <th>TBG_measured_y</th>\n",
       "    </tr>\n",
       "  </thead>\n",
       "  <tbody>\n",
       "    <tr>\n",
       "      <th>0</th>\n",
       "      <td>1</td>\n",
       "      <td>72.0</td>\n",
       "      <td>NaN</td>\n",
       "      <td>1.0</td>\n",
       "      <td>83.0</td>\n",
       "      <td>0.95</td>\n",
       "      <td>87.0</td>\n",
       "      <td>NaN</td>\n",
       "      <td>1</td>\n",
       "      <td>0</td>\n",
       "      <td>...</td>\n",
       "      <td>0</td>\n",
       "      <td>0</td>\n",
       "      <td>0</td>\n",
       "      <td>0</td>\n",
       "      <td>0</td>\n",
       "      <td>1</td>\n",
       "      <td>1</td>\n",
       "      <td>1</td>\n",
       "      <td>1</td>\n",
       "      <td>0</td>\n",
       "    </tr>\n",
       "    <tr>\n",
       "      <th>1</th>\n",
       "      <td>1</td>\n",
       "      <td>45.0</td>\n",
       "      <td>1.90</td>\n",
       "      <td>1.0</td>\n",
       "      <td>82.0</td>\n",
       "      <td>0.73</td>\n",
       "      <td>112.0</td>\n",
       "      <td>NaN</td>\n",
       "      <td>0</td>\n",
       "      <td>0</td>\n",
       "      <td>...</td>\n",
       "      <td>0</td>\n",
       "      <td>0</td>\n",
       "      <td>0</td>\n",
       "      <td>0</td>\n",
       "      <td>1</td>\n",
       "      <td>1</td>\n",
       "      <td>1</td>\n",
       "      <td>1</td>\n",
       "      <td>1</td>\n",
       "      <td>0</td>\n",
       "    </tr>\n",
       "    <tr>\n",
       "      <th>2</th>\n",
       "      <td>1</td>\n",
       "      <td>64.0</td>\n",
       "      <td>0.09</td>\n",
       "      <td>1.0</td>\n",
       "      <td>101.0</td>\n",
       "      <td>0.82</td>\n",
       "      <td>123.0</td>\n",
       "      <td>NaN</td>\n",
       "      <td>0</td>\n",
       "      <td>0</td>\n",
       "      <td>...</td>\n",
       "      <td>1</td>\n",
       "      <td>0</td>\n",
       "      <td>0</td>\n",
       "      <td>0</td>\n",
       "      <td>1</td>\n",
       "      <td>1</td>\n",
       "      <td>1</td>\n",
       "      <td>1</td>\n",
       "      <td>1</td>\n",
       "      <td>0</td>\n",
       "    </tr>\n",
       "    <tr>\n",
       "      <th>3</th>\n",
       "      <td>1</td>\n",
       "      <td>56.0</td>\n",
       "      <td>0.00</td>\n",
       "      <td>0.8</td>\n",
       "      <td>76.0</td>\n",
       "      <td>0.77</td>\n",
       "      <td>99.0</td>\n",
       "      <td>NaN</td>\n",
       "      <td>1</td>\n",
       "      <td>0</td>\n",
       "      <td>...</td>\n",
       "      <td>0</td>\n",
       "      <td>0</td>\n",
       "      <td>0</td>\n",
       "      <td>0</td>\n",
       "      <td>1</td>\n",
       "      <td>1</td>\n",
       "      <td>1</td>\n",
       "      <td>1</td>\n",
       "      <td>1</td>\n",
       "      <td>0</td>\n",
       "    </tr>\n",
       "    <tr>\n",
       "      <th>4</th>\n",
       "      <td>1</td>\n",
       "      <td>78.0</td>\n",
       "      <td>2.60</td>\n",
       "      <td>0.3</td>\n",
       "      <td>87.0</td>\n",
       "      <td>0.95</td>\n",
       "      <td>91.0</td>\n",
       "      <td>NaN</td>\n",
       "      <td>0</td>\n",
       "      <td>0</td>\n",
       "      <td>...</td>\n",
       "      <td>0</td>\n",
       "      <td>0</td>\n",
       "      <td>0</td>\n",
       "      <td>0</td>\n",
       "      <td>1</td>\n",
       "      <td>1</td>\n",
       "      <td>1</td>\n",
       "      <td>1</td>\n",
       "      <td>1</td>\n",
       "      <td>0</td>\n",
       "    </tr>\n",
       "    <tr>\n",
       "      <th>...</th>\n",
       "      <td>...</td>\n",
       "      <td>...</td>\n",
       "      <td>...</td>\n",
       "      <td>...</td>\n",
       "      <td>...</td>\n",
       "      <td>...</td>\n",
       "      <td>...</td>\n",
       "      <td>...</td>\n",
       "      <td>...</td>\n",
       "      <td>...</td>\n",
       "      <td>...</td>\n",
       "      <td>...</td>\n",
       "      <td>...</td>\n",
       "      <td>...</td>\n",
       "      <td>...</td>\n",
       "      <td>...</td>\n",
       "      <td>...</td>\n",
       "      <td>...</td>\n",
       "      <td>...</td>\n",
       "      <td>...</td>\n",
       "      <td>...</td>\n",
       "    </tr>\n",
       "    <tr>\n",
       "      <th>3158</th>\n",
       "      <td>0</td>\n",
       "      <td>40.0</td>\n",
       "      <td>2.10</td>\n",
       "      <td>1.2</td>\n",
       "      <td>76.0</td>\n",
       "      <td>0.90</td>\n",
       "      <td>84.0</td>\n",
       "      <td>NaN</td>\n",
       "      <td>0</td>\n",
       "      <td>0</td>\n",
       "      <td>...</td>\n",
       "      <td>1</td>\n",
       "      <td>0</td>\n",
       "      <td>0</td>\n",
       "      <td>0</td>\n",
       "      <td>1</td>\n",
       "      <td>1</td>\n",
       "      <td>1</td>\n",
       "      <td>1</td>\n",
       "      <td>1</td>\n",
       "      <td>0</td>\n",
       "    </tr>\n",
       "    <tr>\n",
       "      <th>3159</th>\n",
       "      <td>0</td>\n",
       "      <td>69.0</td>\n",
       "      <td>2.60</td>\n",
       "      <td>1.8</td>\n",
       "      <td>126.0</td>\n",
       "      <td>1.02</td>\n",
       "      <td>124.0</td>\n",
       "      <td>NaN</td>\n",
       "      <td>0</td>\n",
       "      <td>0</td>\n",
       "      <td>...</td>\n",
       "      <td>0</td>\n",
       "      <td>0</td>\n",
       "      <td>0</td>\n",
       "      <td>0</td>\n",
       "      <td>1</td>\n",
       "      <td>1</td>\n",
       "      <td>1</td>\n",
       "      <td>1</td>\n",
       "      <td>1</td>\n",
       "      <td>0</td>\n",
       "    </tr>\n",
       "    <tr>\n",
       "      <th>3160</th>\n",
       "      <td>0</td>\n",
       "      <td>58.0</td>\n",
       "      <td>5.80</td>\n",
       "      <td>1.7</td>\n",
       "      <td>86.0</td>\n",
       "      <td>0.91</td>\n",
       "      <td>95.0</td>\n",
       "      <td>NaN</td>\n",
       "      <td>0</td>\n",
       "      <td>0</td>\n",
       "      <td>...</td>\n",
       "      <td>0</td>\n",
       "      <td>0</td>\n",
       "      <td>0</td>\n",
       "      <td>0</td>\n",
       "      <td>1</td>\n",
       "      <td>1</td>\n",
       "      <td>1</td>\n",
       "      <td>1</td>\n",
       "      <td>1</td>\n",
       "      <td>0</td>\n",
       "    </tr>\n",
       "    <tr>\n",
       "      <th>3161</th>\n",
       "      <td>0</td>\n",
       "      <td>29.0</td>\n",
       "      <td>0.80</td>\n",
       "      <td>1.8</td>\n",
       "      <td>99.0</td>\n",
       "      <td>1.01</td>\n",
       "      <td>98.0</td>\n",
       "      <td>NaN</td>\n",
       "      <td>0</td>\n",
       "      <td>0</td>\n",
       "      <td>...</td>\n",
       "      <td>0</td>\n",
       "      <td>0</td>\n",
       "      <td>0</td>\n",
       "      <td>0</td>\n",
       "      <td>1</td>\n",
       "      <td>1</td>\n",
       "      <td>1</td>\n",
       "      <td>1</td>\n",
       "      <td>1</td>\n",
       "      <td>0</td>\n",
       "    </tr>\n",
       "    <tr>\n",
       "      <th>3162</th>\n",
       "      <td>0</td>\n",
       "      <td>56.0</td>\n",
       "      <td>0.00</td>\n",
       "      <td>1.8</td>\n",
       "      <td>139.0</td>\n",
       "      <td>0.97</td>\n",
       "      <td>143.0</td>\n",
       "      <td>NaN</td>\n",
       "      <td>0</td>\n",
       "      <td>0</td>\n",
       "      <td>...</td>\n",
       "      <td>0</td>\n",
       "      <td>0</td>\n",
       "      <td>0</td>\n",
       "      <td>0</td>\n",
       "      <td>1</td>\n",
       "      <td>1</td>\n",
       "      <td>1</td>\n",
       "      <td>1</td>\n",
       "      <td>1</td>\n",
       "      <td>0</td>\n",
       "    </tr>\n",
       "  </tbody>\n",
       "</table>\n",
       "<p>3163 rows × 27 columns</p>\n",
       "</div>"
      ],
      "text/plain": [
       "      sick-euthyroid   age   TSH   T3    TT4   T4U    FTI  TBG  sex_M  \\\n",
       "0                  1  72.0   NaN  1.0   83.0  0.95   87.0  NaN      1   \n",
       "1                  1  45.0  1.90  1.0   82.0  0.73  112.0  NaN      0   \n",
       "2                  1  64.0  0.09  1.0  101.0  0.82  123.0  NaN      0   \n",
       "3                  1  56.0  0.00  0.8   76.0  0.77   99.0  NaN      1   \n",
       "4                  1  78.0  2.60  0.3   87.0  0.95   91.0  NaN      0   \n",
       "...              ...   ...   ...  ...    ...   ...    ...  ...    ...   \n",
       "3158               0  40.0  2.10  1.2   76.0  0.90   84.0  NaN      0   \n",
       "3159               0  69.0  2.60  1.8  126.0  1.02  124.0  NaN      0   \n",
       "3160               0  58.0  5.80  1.7   86.0  0.91   95.0  NaN      0   \n",
       "3161               0  29.0  0.80  1.8   99.0  1.01   98.0  NaN      0   \n",
       "3162               0  56.0  0.00  1.8  139.0  0.97  143.0  NaN      0   \n",
       "\n",
       "      sex_nan  ...  sick_t  tumor_t  lithium_t  goitre_t  TSH_measured_y  \\\n",
       "0           0  ...       0        0          0         0               0   \n",
       "1           0  ...       0        0          0         0               1   \n",
       "2           0  ...       1        0          0         0               1   \n",
       "3           0  ...       0        0          0         0               1   \n",
       "4           0  ...       0        0          0         0               1   \n",
       "...       ...  ...     ...      ...        ...       ...             ...   \n",
       "3158        0  ...       1        0          0         0               1   \n",
       "3159        0  ...       0        0          0         0               1   \n",
       "3160        0  ...       0        0          0         0               1   \n",
       "3161        0  ...       0        0          0         0               1   \n",
       "3162        0  ...       0        0          0         0               1   \n",
       "\n",
       "      T3_measured_y  TT4_measured_y  T4U_measured_y  FTI_measured_y  \\\n",
       "0                 1               1               1               1   \n",
       "1                 1               1               1               1   \n",
       "2                 1               1               1               1   \n",
       "3                 1               1               1               1   \n",
       "4                 1               1               1               1   \n",
       "...             ...             ...             ...             ...   \n",
       "3158              1               1               1               1   \n",
       "3159              1               1               1               1   \n",
       "3160              1               1               1               1   \n",
       "3161              1               1               1               1   \n",
       "3162              1               1               1               1   \n",
       "\n",
       "      TBG_measured_y  \n",
       "0                  0  \n",
       "1                  0  \n",
       "2                  0  \n",
       "3                  0  \n",
       "4                  0  \n",
       "...              ...  \n",
       "3158               0  \n",
       "3159               0  \n",
       "3160               0  \n",
       "3161               0  \n",
       "3162               0  \n",
       "\n",
       "[3163 rows x 27 columns]"
      ]
     },
     "execution_count": 10,
     "metadata": {},
     "output_type": "execute_result"
    }
   ],
   "source": [
    "# Encode the categorical columns using One-Hot Encoding\n",
    "enc_ohe = dp.EncoderOHE()\n",
    "enc_ohe.fit(df)\n",
    "proc_df = enc_ohe.transform(df)\n",
    "proc_df"
   ]
  },
  {
   "cell_type": "markdown",
   "metadata": {},
   "source": [
    "### Impute Missing Data"
   ]
  },
  {
   "cell_type": "code",
   "execution_count": 12,
   "metadata": {},
   "outputs": [
    {
     "data": {
      "text/plain": [
       "sick-euthyroid                    0\n",
       "age                             446\n",
       "TSH                             468\n",
       "T3                              695\n",
       "TT4                             249\n",
       "T4U                             248\n",
       "FTI                             247\n",
       "TBG                            2903\n",
       "sex_M                             0\n",
       "sex_nan                           0\n",
       "on_thyroxine_t                    0\n",
       "query_on_thyroxine_t              0\n",
       "on_antithyroid_medication_t       0\n",
       "thyroid_surgery_t                 0\n",
       "query_hypothyroid_t               0\n",
       "query_hyperthyroid_t              0\n",
       "pregnant_t                        0\n",
       "sick_t                            0\n",
       "tumor_t                           0\n",
       "lithium_t                         0\n",
       "goitre_t                          0\n",
       "TSH_measured_y                    0\n",
       "T3_measured_y                     0\n",
       "TT4_measured_y                    0\n",
       "T4U_measured_y                    0\n",
       "FTI_measured_y                    0\n",
       "TBG_measured_y                    0\n",
       "dtype: int64"
      ]
     },
     "execution_count": 12,
     "metadata": {},
     "output_type": "execute_result"
    }
   ],
   "source": [
    "proc_df.isna().sum()"
   ]
  },
  {
   "cell_type": "code",
   "execution_count": 14,
   "metadata": {},
   "outputs": [
    {
     "name": "stdout",
     "output_type": "stream",
     "text": [
      "No columns specified for imputation. These columns have been automatically identified:\n",
      "['age', 'TSH', 'T3', 'TT4', 'T4U', 'FTI', 'TBG']\n"
     ]
    }
   ],
   "source": [
    "imputer = dp.BasicImputer(numerical={'missing_values':np.nan,\n",
    "\t\t\t\t\t\t\t\t\t'strategy':'constant',\n",
    "\t\t\t\t\t\t\t\t\t'fill_value':-1})\n",
    "imputer.fit(proc_df)\n",
    "proc_df = imputer.transform(proc_df)"
   ]
  },
  {
   "cell_type": "markdown",
   "metadata": {},
   "source": [
    "### Split Dataset"
   ]
  },
  {
   "cell_type": "code",
   "execution_count": 16,
   "metadata": {},
   "outputs": [],
   "source": [
    "train_x, test_x, train_y, test_y = dp.split_data(proc_df, label_col, test_size=0.25)"
   ]
  },
  {
   "cell_type": "markdown",
   "metadata": {},
   "source": [
    "## 2 - Baseline Models"
   ]
  },
  {
   "cell_type": "code",
   "execution_count": 17,
   "metadata": {},
   "outputs": [
    {
     "name": "stderr",
     "output_type": "stream",
     "text": [
      "/home/matheus/miniconda3/envs/resp/lib/python3.7/site-packages/xgboost/sklearn.py:1224: UserWarning: The use of label encoder in XGBClassifier is deprecated and will be removed in a future release. To remove this warning, do the following: 1) Pass option use_label_encoder=False when constructing XGBClassifier object; and 2) Encode your labels (y) as integers starting with 0, i.e. 0, 1, 2, ..., [num_class - 1].\n",
      "  warnings.warn(label_encoder_deprecation_msg, UserWarning)\n"
     ]
    },
    {
     "name": "stdout",
     "output_type": "stream",
     "text": [
      "------------\n",
      "TEST\n",
      "------------\n",
      "[[705  13]\n",
      " [  6  67]]\n"
     ]
    },
    {
     "data": {
      "image/png": "[encoded data removed]",
      "text/plain": [
       "<Figure size 432x288 with 2 Axes>"
      ]
     },
     "metadata": {
      "needs_background": "light"
     },
     "output_type": "display_data"
    },
    {
     "name": "stdout",
     "output_type": "stream",
     "text": [
      "Acuracy: 97.60%\n",
      "Precision:  0.9145305907172996\n",
      "Recall:  0.9498511847979547\n",
      "F1 =  0.9312604911337057\n",
      "ROC AUC =  0.9742816804670508\n",
      "best_th = 0.254520058631897\n"
     ]
    }
   ],
   "source": [
    "model = dp.train_model_plot_results(train_x, train_y, test_x, test_y, model_name=\"xgb\", train_result=False, plot_pr=False)"
   ]
  },
  {
   "cell_type": "code",
   "execution_count": 19,
   "metadata": {},
   "outputs": [
    {
     "name": "stdout",
     "output_type": "stream",
     "text": [
      "------------\n",
      "TEST\n",
      "------------\n",
      "[[527 191]\n",
      " [ 25  48]]\n"
     ]
    },
    {
     "data": {
      "image/png": "[encoded data removed]",
      "text/plain": [
       "<Figure size 432x288 with 2 Axes>"
      ]
     },
     "metadata": {
      "needs_background": "light"
     },
     "output_type": "display_data"
    },
    {
     "name": "stdout",
     "output_type": "stream",
     "text": [
      "Acuracy: 72.69%\n",
      "Precision:  0.5777734825056091\n",
      "Recall:  0.6957587667417102\n",
      "F1 =  0.5688067837674137\n",
      "ROC AUC =  0.7241672072347083\n",
      "best_th = 0.2\n"
     ]
    }
   ],
   "source": [
    "model = dp.train_model_plot_results(train_x, train_y, test_x, test_y, model_name=\"knn\", train_result=False, plot_pr=False)"
   ]
  },
  {
   "cell_type": "markdown",
   "metadata": {},
   "source": [
    "## 3 - Data Transformation"
   ]
  },
  {
   "cell_type": "markdown",
   "metadata": {},
   "source": [
    "### DataMinMaxScaler"
   ]
  },
  {
   "cell_type": "code",
   "execution_count": 34,
   "metadata": {},
   "outputs": [
    {
     "name": "stdout",
     "output_type": "stream",
     "text": [
      "------------\n",
      "TEST\n",
      "------------\n",
      "[[614 104]\n",
      " [ 14  59]]\n"
     ]
    },
    {
     "data": {
      "image/png": "[encoded data removed]",
      "text/plain": [
       "<Figure size 432x288 with 2 Axes>"
      ]
     },
     "metadata": {
      "needs_background": "light"
     },
     "output_type": "display_data"
    },
    {
     "name": "stdout",
     "output_type": "stream",
     "text": [
      "Acuracy: 85.08%\n",
      "Precision:  0.6698350982767379\n",
      "Recall:  0.8316861907124051\n",
      "F1 =  0.7061664190193164\n",
      "ROC AUC =  0.8658850688747282\n",
      "best_th = 0.2\n"
     ]
    }
   ],
   "source": [
    "scaler = dp.DataMinMaxScaler()\n",
    "scaler.fit(train_x)\n",
    "train_x_scl = scaler.transform(train_x)\n",
    "test_x_scl = scaler.transform(test_x)\n",
    "model = dp.train_model_plot_results(train_x_scl, train_y, test_x_scl, test_y, model_name=\"knn\", train_result=False, plot_pr=False)"
   ]
  },
  {
   "cell_type": "markdown",
   "metadata": {},
   "source": [
    "### DataNormalizer"
   ]
  },
  {
   "cell_type": "code",
   "execution_count": 35,
   "metadata": {},
   "outputs": [
    {
     "name": "stdout",
     "output_type": "stream",
     "text": [
      "No columns specified for imputation. These columns have been automatically identified:\n",
      "[]\n",
      "WARNING: No columns with NaN values identified. Nothing to be done.\n",
      "------------\n",
      "TEST\n",
      "------------\n",
      "[[550 168]\n",
      " [ 21  52]]\n"
     ]
    },
    {
     "data": {
      "image/png": "[encoded data removed]",
      "text/plain": [
       "<Figure size 432x288 with 2 Axes>"
      ]
     },
     "metadata": {
      "needs_background": "light"
     },
     "output_type": "display_data"
    },
    {
     "name": "stdout",
     "output_type": "stream",
     "text": [
      "Acuracy: 76.11%\n",
      "Precision:  0.599793026588123\n",
      "Recall:  0.7391727401076048\n",
      "F1 =  0.6041617572687773\n",
      "ROC AUC =  0.7678864425535161\n",
      "best_th = 0.2\n"
     ]
    }
   ],
   "source": [
    "scaler = dp.DataNormalizer()\n",
    "scaler.fit(train_x)\n",
    "train_x_scl = scaler.transform(train_x)\n",
    "test_x_scl = scaler.transform(test_x)\n",
    "model = dp.train_model_plot_results(train_x_scl, train_y, test_x_scl, test_y, model_name=\"knn\", train_result=False, plot_pr=False)"
   ]
  },
  {
   "cell_type": "markdown",
   "metadata": {},
   "source": [
    "### DataQuantileTransformer"
   ]
  },
  {
   "cell_type": "code",
   "execution_count": 37,
   "metadata": {},
   "outputs": [
    {
     "name": "stdout",
     "output_type": "stream",
     "text": [
      "------------\n",
      "TEST\n",
      "------------\n",
      "[[623  95]\n",
      " [ 15  58]]\n"
     ]
    },
    {
     "data": {
      "image/png": "[encoded data removed]",
      "text/plain": [
       "<Figure size 432x288 with 2 Axes>"
      ]
     },
     "metadata": {
      "needs_background": "light"
     },
     "output_type": "display_data"
    },
    {
     "name": "stdout",
     "output_type": "stream",
     "text": [
      "Acuracy: 86.09%\n",
      "Precision:  0.6777869977667138\n",
      "Recall:  0.8311042851146639\n",
      "F1 =  0.7160766961651917\n",
      "ROC AUC =  0.8570706299843553\n",
      "best_th = 0.2\n"
     ]
    }
   ],
   "source": [
    "scaler = dp.DataQuantileTransformer()\n",
    "scaler.fit(train_x)\n",
    "train_x_scl = scaler.transform(train_x)\n",
    "test_x_scl = scaler.transform(test_x)\n",
    "model = dp.train_model_plot_results(train_x_scl, train_y, test_x_scl, test_y, model_name=\"knn\", train_result=False, plot_pr=False)"
   ]
  },
  {
   "cell_type": "markdown",
   "metadata": {},
   "source": [
    "### DataRobustScaler"
   ]
  },
  {
   "cell_type": "code",
   "execution_count": 38,
   "metadata": {},
   "outputs": [
    {
     "name": "stdout",
     "output_type": "stream",
     "text": [
      "------------\n",
      "TEST\n",
      "------------\n",
      "[[643  75]\n",
      " [ 16  57]]\n"
     ]
    },
    {
     "data": {
      "image/png": "[encoded data removed]",
      "text/plain": [
       "<Figure size 432x288 with 2 Axes>"
      ]
     },
     "metadata": {
      "needs_background": "light"
     },
     "output_type": "display_data"
    },
    {
     "name": "stdout",
     "output_type": "stream",
     "text": [
      "Acuracy: 88.50%\n",
      "Precision:  0.7037694854462685\n",
      "Recall:  0.8381825466478422\n",
      "F1 =  0.7450059337194679\n",
      "ROC AUC =  0.8543041935360781\n",
      "best_th = 0.2\n"
     ]
    }
   ],
   "source": [
    "scaler = dp.DataRobustScaler()\n",
    "scaler.fit(train_x)\n",
    "train_x_scl = scaler.transform(train_x)\n",
    "test_x_scl = scaler.transform(test_x)\n",
    "model = dp.train_model_plot_results(train_x_scl, train_y, test_x_scl, test_y, model_name=\"knn\", train_result=False, plot_pr=False)"
   ]
  },
  {
   "cell_type": "markdown",
   "metadata": {},
   "source": [
    "### DataPowerTransformer"
   ]
  },
  {
   "cell_type": "code",
   "execution_count": 39,
   "metadata": {},
   "outputs": [
    {
     "name": "stdout",
     "output_type": "stream",
     "text": [
      "------------\n",
      "TEST\n",
      "------------\n",
      "[[620  98]\n",
      " [ 15  58]]\n"
     ]
    },
    {
     "data": {
      "image/png": "[encoded data removed]",
      "text/plain": [
       "<Figure size 432x288 with 2 Axes>"
      ]
     },
     "metadata": {
      "needs_background": "light"
     },
     "output_type": "display_data"
    },
    {
     "name": "stdout",
     "output_type": "stream",
     "text": [
      "Acuracy: 85.71%\n",
      "Precision:  0.6740864122753887\n",
      "Recall:  0.8290151486244133\n",
      "F1 =  0.7115160552161297\n",
      "ROC AUC =  0.8544568245125349\n",
      "best_th = 0.2\n"
     ]
    }
   ],
   "source": [
    "scaler = dp.DataPowerTransformer()\n",
    "scaler.fit(train_x)\n",
    "train_x_scl = scaler.transform(train_x)\n",
    "test_x_scl = scaler.transform(test_x)\n",
    "model = dp.train_model_plot_results(train_x_scl, train_y, test_x_scl, test_y, model_name=\"knn\", train_result=False, plot_pr=False)"
   ]
  },
  {
   "cell_type": "markdown",
   "metadata": {},
   "source": [
    "### DataStandardScaler"
   ]
  },
  {
   "cell_type": "code",
   "execution_count": 40,
   "metadata": {},
   "outputs": [
    {
     "name": "stdout",
     "output_type": "stream",
     "text": [
      "------------\n",
      "TEST\n",
      "------------\n",
      "[[617 101]\n",
      " [ 13  60]]\n"
     ]
    },
    {
     "data": {
      "image/png": "[encoded data removed]",
      "text/plain": [
       "<Figure size 432x288 with 2 Axes>"
      ]
     },
     "metadata": {
      "needs_background": "light"
     },
     "output_type": "display_data"
    },
    {
     "name": "stdout",
     "output_type": "stream",
     "text": [
      "Acuracy: 85.59%\n",
      "Precision:  0.6760179434092477\n",
      "Recall:  0.840624642271149\n",
      "F1 =  0.7141253899414136\n",
      "ROC AUC =  0.8734212233372763\n",
      "best_th = 0.2\n"
     ]
    }
   ],
   "source": [
    "scaler = dp.DataStandardScaler()\n",
    "scaler.fit(train_x)\n",
    "train_x_scl = scaler.transform(train_x)\n",
    "test_x_scl = scaler.transform(test_x)\n",
    "model = dp.train_model_plot_results(train_x_scl, train_y, test_x_scl, test_y, model_name=\"knn\", train_result=False, plot_pr=False)"
   ]
  },
  {
   "cell_type": "markdown",
   "metadata": {},
   "source": [
    "## 4 - Feature Selection"
   ]
  },
  {
   "cell_type": "code",
   "execution_count": 41,
   "metadata": {},
   "outputs": [
    {
     "name": "stdout",
     "output_type": "stream",
     "text": [
      "No columns specified for imputation. These columns have been automatically identified:\n",
      "[]\n",
      "WARNING: No columns with NaN values identified. Nothing to be done.\n",
      "No columns specified for encoding. These columns have been automatically identfied as the following:\n",
      "[]\n"
     ]
    },
    {
     "name": "stderr",
     "output_type": "stream",
     "text": [
      "[Parallel(n_jobs=4)]: Using backend LokyBackend with 4 concurrent workers.\n",
      "[Parallel(n_jobs=4)]: Done  26 out of  26 | elapsed:    0.8s finished\n",
      "\n",
      "[2022-03-16 16:08:15] Features: 25/1 -- score: 0.868352971568951[Parallel(n_jobs=4)]: Using backend LokyBackend with 4 concurrent workers.\n",
      "[Parallel(n_jobs=4)]: Done  18 out of  25 | elapsed:    0.1s remaining:    0.0s\n",
      "[Parallel(n_jobs=4)]: Done  25 out of  25 | elapsed:    0.1s finished\n",
      "\n",
      "[2022-03-16 16:08:15] Features: 24/1 -- score: 0.8632533407171614[Parallel(n_jobs=4)]: Using backend LokyBackend with 4 concurrent workers.\n",
      "[Parallel(n_jobs=4)]: Done  24 out of  24 | elapsed:    0.1s finished\n",
      "\n",
      "[2022-03-16 16:08:15] Features: 23/1 -- score: 0.8709135937889458[Parallel(n_jobs=4)]: Using backend LokyBackend with 4 concurrent workers.\n",
      "[Parallel(n_jobs=4)]: Done  23 out of  23 | elapsed:    0.1s finished\n",
      "\n",
      "[2022-03-16 16:08:15] Features: 22/1 -- score: 0.8856119339760764[Parallel(n_jobs=4)]: Using backend LokyBackend with 4 concurrent workers.\n",
      "[Parallel(n_jobs=4)]: Done  22 out of  22 | elapsed:    0.1s finished\n",
      "\n",
      "[2022-03-16 16:08:15] Features: 21/1 -- score: 0.8684580537540949[Parallel(n_jobs=4)]: Using backend LokyBackend with 4 concurrent workers.\n",
      "[Parallel(n_jobs=4)]: Done  21 out of  21 | elapsed:    0.1s finished\n",
      "\n",
      "[2022-03-16 16:08:15] Features: 20/1 -- score: 0.8901361013190185[Parallel(n_jobs=4)]: Using backend LokyBackend with 4 concurrent workers.\n",
      "[Parallel(n_jobs=4)]: Done  20 out of  20 | elapsed:    0.1s finished\n",
      "\n",
      "[2022-03-16 16:08:15] Features: 19/1 -- score: 0.8607409678803296[Parallel(n_jobs=4)]: Using backend LokyBackend with 4 concurrent workers.\n",
      "[Parallel(n_jobs=4)]: Done  12 out of  19 | elapsed:    0.1s remaining:    0.0s\n",
      "[Parallel(n_jobs=4)]: Done  19 out of  19 | elapsed:    0.1s finished\n",
      "\n",
      "[2022-03-16 16:08:15] Features: 18/1 -- score: 0.8833049574096514[Parallel(n_jobs=4)]: Using backend LokyBackend with 4 concurrent workers.\n",
      "[Parallel(n_jobs=4)]: Done  18 out of  18 | elapsed:    0.1s finished\n",
      "\n",
      "[2022-03-16 16:08:15] Features: 17/1 -- score: 0.8710376523643619[Parallel(n_jobs=4)]: Using backend LokyBackend with 4 concurrent workers.\n",
      "[Parallel(n_jobs=4)]: Done  10 out of  17 | elapsed:    0.0s remaining:    0.0s\n",
      "[Parallel(n_jobs=4)]: Done  17 out of  17 | elapsed:    0.1s finished\n",
      "\n",
      "[2022-03-16 16:08:15] Features: 16/1 -- score: 0.894258496196271[Parallel(n_jobs=4)]: Using backend LokyBackend with 4 concurrent workers.\n",
      "[Parallel(n_jobs=4)]: Done  16 out of  16 | elapsed:    0.1s finished\n",
      "\n",
      "[2022-03-16 16:08:15] Features: 15/1 -- score: 0.8726280505214093[Parallel(n_jobs=4)]: Using backend LokyBackend with 4 concurrent workers.\n",
      "[Parallel(n_jobs=4)]: Done  15 out of  15 | elapsed:    0.1s finished\n",
      "\n",
      "[2022-03-16 16:08:16] Features: 14/1 -- score: 0.8581417782288049[Parallel(n_jobs=4)]: Using backend LokyBackend with 4 concurrent workers.\n",
      "[Parallel(n_jobs=4)]: Done  14 out of  14 | elapsed:    0.1s finished\n",
      "\n",
      "[2022-03-16 16:08:16] Features: 13/1 -- score: 0.8559216737333335[Parallel(n_jobs=4)]: Using backend LokyBackend with 4 concurrent workers.\n",
      "[Parallel(n_jobs=4)]: Done  13 out of  13 | elapsed:    0.1s remaining:    0.0s\n",
      "[Parallel(n_jobs=4)]: Done  13 out of  13 | elapsed:    0.1s finished\n",
      "\n",
      "[2022-03-16 16:08:16] Features: 12/1 -- score: 0.8738943726280625[Parallel(n_jobs=4)]: Using backend LokyBackend with 4 concurrent workers.\n",
      "[Parallel(n_jobs=4)]: Done  12 out of  12 | elapsed:    0.1s remaining:    0.0s\n",
      "[Parallel(n_jobs=4)]: Done  12 out of  12 | elapsed:    0.1s finished\n",
      "\n",
      "[2022-03-16 16:08:16] Features: 11/1 -- score: 0.867711878605276[Parallel(n_jobs=4)]: Using backend LokyBackend with 4 concurrent workers.\n",
      "[Parallel(n_jobs=4)]: Done  11 out of  11 | elapsed:    0.0s finished\n",
      "\n",
      "[2022-03-16 16:08:16] Features: 10/1 -- score: 0.8817404840277453[Parallel(n_jobs=4)]: Using backend LokyBackend with 4 concurrent workers.\n",
      "[Parallel(n_jobs=4)]: Done  10 out of  10 | elapsed:    0.0s finished\n",
      "\n",
      "[2022-03-16 16:08:16] Features: 9/1 -- score: 0.8703359336939142[Parallel(n_jobs=4)]: Using backend LokyBackend with 4 concurrent workers.\n",
      "[Parallel(n_jobs=4)]: Done   7 out of   9 | elapsed:    0.0s remaining:    0.0s\n",
      "[Parallel(n_jobs=4)]: Done   9 out of   9 | elapsed:    0.0s finished\n",
      "\n",
      "[2022-03-16 16:08:16] Features: 8/1 -- score: 0.8794422946450903[Parallel(n_jobs=4)]: Using backend LokyBackend with 4 concurrent workers.\n",
      "[Parallel(n_jobs=4)]: Done   6 out of   8 | elapsed:    0.0s remaining:    0.0s\n",
      "[Parallel(n_jobs=4)]: Done   8 out of   8 | elapsed:    0.0s finished\n",
      "\n",
      "[2022-03-16 16:08:16] Features: 7/1 -- score: 0.9133106442401542[Parallel(n_jobs=4)]: Using backend LokyBackend with 4 concurrent workers.\n",
      "[Parallel(n_jobs=4)]: Done   4 out of   7 | elapsed:    0.0s remaining:    0.0s\n",
      "[Parallel(n_jobs=4)]: Done   7 out of   7 | elapsed:    0.0s finished\n",
      "\n",
      "[2022-03-16 16:08:16] Features: 6/1 -- score: 0.9263353241950659[Parallel(n_jobs=4)]: Using backend LokyBackend with 4 concurrent workers.\n",
      "[Parallel(n_jobs=4)]: Done   3 out of   6 | elapsed:    0.0s remaining:    0.0s\n",
      "[Parallel(n_jobs=4)]: Done   6 out of   6 | elapsed:    0.0s finished\n",
      "\n",
      "[2022-03-16 16:08:16] Features: 5/1 -- score: 0.9328703303864927[Parallel(n_jobs=4)]: Using backend LokyBackend with 4 concurrent workers.\n",
      "[Parallel(n_jobs=4)]: Done   5 out of   5 | elapsed:    0.0s finished\n",
      "\n",
      "[2022-03-16 16:08:16] Features: 4/1 -- score: 0.937352534614908[Parallel(n_jobs=4)]: Using backend LokyBackend with 4 concurrent workers.\n",
      "[Parallel(n_jobs=4)]: Done   4 out of   4 | elapsed:    0.0s finished\n",
      "\n",
      "[2022-03-16 16:08:16] Features: 3/1 -- score: 0.9373839467802115[Parallel(n_jobs=3)]: Using backend LokyBackend with 3 concurrent workers.\n",
      "[Parallel(n_jobs=3)]: Done   3 out of   3 | elapsed:    0.1s finished\n",
      "\n",
      "[2022-03-16 16:08:16] Features: 2/1 -- score: 0.9373682406975599[Parallel(n_jobs=2)]: Using backend LokyBackend with 2 concurrent workers.\n",
      "[Parallel(n_jobs=2)]: Done   2 out of   2 | elapsed:    0.5s finished\n",
      "\n",
      "[2022-03-16 16:08:17] Features: 1/1 -- score: 0.9372638858334333"
     ]
    }
   ],
   "source": [
    "feat_sel = dp.SeqFeatSelection(n_jobs=4, forward=False)\n",
    "feat_sel.fit(X=train_x_scl, y=train_y)\n",
    "train_x_sel = feat_sel.transform(train_x_scl)\n",
    "test_x_sel = feat_sel.transform(test_x_scl)"
   ]
  },
  {
   "cell_type": "code",
   "execution_count": 42,
   "metadata": {},
   "outputs": [
    {
     "data": {
      "text/plain": [
       "['T3', 'pregnant_t', 'FTI_measured_y']"
      ]
     },
     "execution_count": 42,
     "metadata": {},
     "output_type": "execute_result"
    }
   ],
   "source": [
    "feat_sel.get_selected_features()"
   ]
  },
  {
   "cell_type": "code",
   "execution_count": 43,
   "metadata": {},
   "outputs": [
    {
     "name": "stdout",
     "output_type": "stream",
     "text": [
      "------------\n",
      "TEST\n",
      "------------\n",
      "[[649  69]\n",
      " [  2  71]]\n"
     ]
    },
    {
     "data": {
      "image/png": "[encoded data removed]",
      "text/plain": [
       "<Figure size 432x288 with 2 Axes>"
      ]
     },
     "metadata": {
      "needs_background": "light"
     },
     "output_type": "display_data"
    },
    {
     "name": "stdout",
     "output_type": "stream",
     "text": [
      "Acuracy: 91.02%\n",
      "Precision:  0.7520353302611367\n",
      "Recall:  0.9382512305872477\n",
      "F1 =  0.8074019965911858\n",
      "ROC AUC =  0.9573491815163887\n",
      "best_th = 0.2\n"
     ]
    }
   ],
   "source": [
    "model = dp.train_model_plot_results(train_x_sel, train_y, test_x_sel, test_y, model_name=\"knn\", train_result=False, plot_pr=False)"
   ]
  },
  {
   "cell_type": "markdown",
   "metadata": {},
   "source": [
    "## 5 - Synthetic Data\n",
    "\n",
    "### imblearn Library"
   ]
  },
  {
   "cell_type": "code",
   "execution_count": 44,
   "metadata": {},
   "outputs": [
    {
     "data": {
      "text/plain": [
       "0    2152\n",
       "1     220\n",
       "Name: sick-euthyroid, dtype: int64"
      ]
     },
     "execution_count": 44,
     "metadata": {},
     "output_type": "execute_result"
    }
   ],
   "source": [
    "train_y.value_counts()"
   ]
  },
  {
   "cell_type": "code",
   "execution_count": 47,
   "metadata": {},
   "outputs": [
    {
     "name": "stdout",
     "output_type": "stream",
     "text": [
      "No columns specified for imputation. These columns have been automatically identified:\n",
      "[]\n",
      "WARNING: No columns with NaN values identified. Nothing to be done.\n",
      "\n",
      "SMOTE.\n",
      "\n",
      "Running oversampling...\n",
      "...finished\n"
     ]
    },
    {
     "data": {
      "text/plain": [
       "0    2152\n",
       "1     400\n",
       "Name: sick-euthyroid, dtype: int64"
      ]
     },
     "execution_count": 47,
     "metadata": {},
     "output_type": "execute_result"
    }
   ],
   "source": [
    "rebalance = dp.Rebalance(\n",
    "\t\t\t\tX=train_x_sel,\n",
    "\t\t\t\ty=train_y,\n",
    "\t\t\t\tstrategy_over={0:2152, 1:400},\n",
    "\t\t\t\tover_sampler=True,\n",
    "\t\t\t\tunder_sampler=False\n",
    "\t\t\t)\n",
    "train_x_res, train_y_res = rebalance.fit_resample()\n",
    "train_y_res.value_counts()"
   ]
  },
  {
   "cell_type": "code",
   "execution_count": 48,
   "metadata": {},
   "outputs": [
    {
     "name": "stdout",
     "output_type": "stream",
     "text": [
      "------------\n",
      "TEST\n",
      "------------\n",
      "[[649  69]\n",
      " [  2  71]]\n"
     ]
    },
    {
     "data": {
      "image/png": "[encoded data removed]",
      "text/plain": [
       "<Figure size 432x288 with 2 Axes>"
      ]
     },
     "metadata": {
      "needs_background": "light"
     },
     "output_type": "display_data"
    },
    {
     "name": "stdout",
     "output_type": "stream",
     "text": [
      "Acuracy: 91.02%\n",
      "Precision:  0.7520353302611367\n",
      "Recall:  0.9382512305872477\n",
      "F1 =  0.8074019965911858\n",
      "ROC AUC =  0.9585988476361278\n",
      "best_th = 0.2\n"
     ]
    }
   ],
   "source": [
    "model = dp.train_model_plot_results(train_x_res, train_y_res, test_x_sel, test_y, model_name=\"knn\", train_result=False, plot_pr=False)"
   ]
  },
  {
   "cell_type": "markdown",
   "metadata": {},
   "source": [
    "### Creating Artificial Data using Deep Learning\n",
    "\n",
    "#### CTGAN\n",
    "\n",
    "Let's use the dataset with the original categorical variables, since CTGAN is capable of dealing with categorical variables internally. We will start by re-encoding the ordinal variables. We then proceed to split the dataset before using the CTGAN. This guarantees that we don't contaminate our test set."
   ]
  },
  {
   "cell_type": "code",
   "execution_count": 69,
   "metadata": {},
   "outputs": [
    {
     "name": "stdout",
     "output_type": "stream",
     "text": [
      "Loading existing sythesizer model (CTGAN_400.pkl)...\n",
      "LOADED model of class CTGAN.\n"
     ]
    },
    {
     "data": {
      "text/plain": [
       "0    2152\n",
       "1     420\n",
       "Name: sick-euthyroid, dtype: int64"
      ]
     },
     "execution_count": 69,
     "metadata": {},
     "output_type": "execute_result"
    }
   ],
   "source": [
    "synth = dp.Synthesizer(\n",
    "\t\t\t\tX=train_x_sel,\n",
    "\t\t\t\ty=train_y,\n",
    "\t\t\t\tepochs=400,\n",
    "\t\t\t\tmodel=\"ctgan\",\n",
    "\t\t\t\tload_existing=True\n",
    "\t\t\t)\n",
    "synth.fit()\n",
    "\n",
    "conditions = {label_col:1}\t# create more of the undersampled class\n",
    "syn_train_x, syn_train_y = synth.transform(X=train_x_sel, y=train_y, n_samples=200, conditions=conditions)\n",
    "\n",
    "syn_train_y.value_counts()"
   ]
  },
  {
   "cell_type": "code",
   "execution_count": 70,
   "metadata": {},
   "outputs": [
    {
     "name": "stdout",
     "output_type": "stream",
     "text": [
      "------------\n",
      "TEST\n",
      "------------\n",
      "[[649  69]\n",
      " [  2  71]]\n"
     ]
    },
    {
     "data": {
      "image/png": "[encoded data removed]",
      "text/plain": [
       "<Figure size 432x288 with 2 Axes>"
      ]
     },
     "metadata": {
      "needs_background": "light"
     },
     "output_type": "display_data"
    },
    {
     "name": "stdout",
     "output_type": "stream",
     "text": [
      "Acuracy: 91.02%\n",
      "Precision:  0.7520353302611367\n",
      "Recall:  0.9382512305872477\n",
      "F1 =  0.8074019965911858\n",
      "ROC AUC =  0.9589995039493265\n",
      "best_th = 0.2\n"
     ]
    }
   ],
   "source": [
    "model = dp.train_model_plot_results(syn_train_x, syn_train_y, test_x_sel, test_y, model_name=\"knn\", train_result=False, plot_pr=False)"
   ]
  },
  {
   "cell_type": "markdown",
   "metadata": {},
   "source": [
    "Let's try creating more artificial instances and check how this impacts the model's performance."
   ]
  },
  {
   "cell_type": "code",
   "execution_count": 77,
   "metadata": {},
   "outputs": [
    {
     "name": "stdout",
     "output_type": "stream",
     "text": [
      "------------\n",
      "TEST\n",
      "------------\n",
      "[[604 114]\n",
      " [  0  73]]\n"
     ]
    },
    {
     "data": {
      "image/png": "[encoded data removed]",
      "text/plain": [
       "<Figure size 432x288 with 2 Axes>"
      ]
     },
     "metadata": {
      "needs_background": "light"
     },
     "output_type": "display_data"
    },
    {
     "name": "stdout",
     "output_type": "stream",
     "text": [
      "Acuracy: 85.59%\n",
      "Precision:  0.6951871657754011\n",
      "Recall:  0.9206128133704735\n",
      "F1 =  0.7376527406028162\n",
      "ROC AUC =  0.9649902697752508\n",
      "best_th = 0.2\n"
     ]
    }
   ],
   "source": [
    "conditions = {label_col:1}\t# create more of the undersampled class\n",
    "syn_train_x, syn_train_y = synth.transform(X=train_x_sel, y=train_y, n_samples=600, conditions=conditions)\n",
    "\n",
    "model = dp.train_model_plot_results(syn_train_x, syn_train_y, test_x_sel, test_y, model_name=\"knn\", train_result=False, plot_pr=False)"
   ]
  },
  {
   "cell_type": "markdown",
   "metadata": {},
   "source": [
    "#### TVAE"
   ]
  },
  {
   "cell_type": "code",
   "execution_count": 78,
   "metadata": {},
   "outputs": [
    {
     "name": "stderr",
     "output_type": "stream",
     "text": [
      "/home/matheus/miniconda3/envs/resp/lib/python3.7/site-packages/sklearn/mixture/_base.py:282: ConvergenceWarning: Initialization 1 did not converge. Try different init parameters, or increase max_iter, tol or check for degenerate data.\n",
      "  ConvergenceWarning,\n",
      "/home/matheus/miniconda3/envs/resp/lib/python3.7/site-packages/sklearn/mixture/_base.py:146: ConvergenceWarning: Number of distinct clusters (2) found smaller than n_clusters (10). Possibly due to duplicate points in X.\n",
      "  .fit(X)\n",
      "/home/matheus/miniconda3/envs/resp/lib/python3.7/site-packages/sklearn/mixture/_base.py:146: ConvergenceWarning: Number of distinct clusters (2) found smaller than n_clusters (10). Possibly due to duplicate points in X.\n",
      "  .fit(X)\n"
     ]
    },
    {
     "name": "stdout",
     "output_type": "stream",
     "text": [
      "------------\n",
      "TEST\n",
      "------------\n",
      "[[677  41]\n",
      " [  6  67]]\n"
     ]
    },
    {
     "data": {
      "image/png": "[encoded data removed]",
      "text/plain": [
       "<Figure size 432x288 with 2 Axes>"
      ]
     },
     "metadata": {
      "needs_background": "light"
     },
     "output_type": "display_data"
    },
    {
     "name": "stdout",
     "output_type": "stream",
     "text": [
      "Acuracy: 94.06%\n",
      "Precision:  0.8057927986551705\n",
      "Recall:  0.930352577555615\n",
      "F1 =  0.8533920128085306\n",
      "ROC AUC =  0.9656866486053345\n",
      "best_th = 0.4\n"
     ]
    }
   ],
   "source": [
    "synth = dp.Synthesizer(\n",
    "\t\t\t\tX=train_x_sel,\n",
    "\t\t\t\ty=train_y,\n",
    "\t\t\t\tepochs=400,\n",
    "\t\t\t\tmodel=\"tvae\",\n",
    "\t\t\t\tload_existing=True\n",
    "\t\t\t)\n",
    "synth.fit()\n",
    "\n",
    "conditions = {label_col:1}\t# create more of the undersampled class\n",
    "syn2_train_x, syn2_train_y = synth.transform(X=train_x_sel, y=train_y, n_samples=200, conditions=conditions)\n",
    "\n",
    "model = dp.train_model_plot_results(syn2_train_x, syn2_train_y, test_x_sel, test_y, model_name=\"knn\", train_result=False, plot_pr=False)"
   ]
  }
 ],
 "metadata": {
  "kernelspec": {
   "display_name": "Python 3.9.12 ('rai')",
   "language": "python",
   "name": "python3"
  },
  "language_info": {
   "codemirror_mode": {
    "name": "ipython",
    "version": 3
   },
   "file_extension": ".py",
   "mimetype": "text/x-python",
   "name": "python",
   "nbconvert_exporter": "python",
   "pygments_lexer": "ipython3",
   "version": "3.9.12"
  },
  "vscode": {
   "interpreter": {
    "hash": "5215fd1cce9b64233b490e6c4e868a314fa8a5a2b064fe0583fd0c29542af034"
   }
  }
 },
 "nbformat": 4,
 "nbformat_minor": 2
}
