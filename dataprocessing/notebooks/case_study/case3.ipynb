{
 "cells": [
  {
   "cell_type": "code",
   "execution_count": 1,
   "metadata": {},
   "outputs": [],
   "source": [
    "import pandas as pd\n",
    "import numpy as np\n",
    "import uci_dataset as database\n",
    "\n",
    "import raimitigations.dataprocessing as dp"
   ]
  },
  {
   "cell_type": "markdown",
   "metadata": {},
   "source": [
    "# Case Study 3\n",
    "\n",
    "## 1 - Understanding the Data\n",
    "\n",
    "Case study 3 examines the thyroid disease dataset. We will explore how this dataset with the `dataprocessing` library."
   ]
  },
  {
   "cell_type": "code",
   "execution_count": 2,
   "metadata": {},
   "outputs": [
    {
     "data": {
      "text/html": [
       "<div>\n",
       "<style scoped>\n",
       "    .dataframe tbody tr th:only-of-type {\n",
       "        vertical-align: middle;\n",
       "    }\n",
       "\n",
       "    .dataframe tbody tr th {\n",
       "        vertical-align: top;\n",
       "    }\n",
       "\n",
       "    .dataframe thead th {\n",
       "        text-align: right;\n",
       "    }\n",
       "</style>\n",
       "<table border=\"1\" class=\"dataframe\">\n",
       "  <thead>\n",
       "    <tr style=\"text-align: right;\">\n",
       "      <th></th>\n",
       "      <th>sick-euthyroid</th>\n",
       "      <th>age</th>\n",
       "      <th>sex</th>\n",
       "      <th>on_thyroxine</th>\n",
       "      <th>query_on_thyroxine</th>\n",
       "      <th>on_antithyroid_medication</th>\n",
       "      <th>thyroid_surgery</th>\n",
       "      <th>query_hypothyroid</th>\n",
       "      <th>query_hyperthyroid</th>\n",
       "      <th>pregnant</th>\n",
       "      <th>...</th>\n",
       "      <th>T3_measured</th>\n",
       "      <th>T3</th>\n",
       "      <th>TT4_measured</th>\n",
       "      <th>TT4</th>\n",
       "      <th>T4U_measured</th>\n",
       "      <th>T4U</th>\n",
       "      <th>FTI_measured</th>\n",
       "      <th>FTI</th>\n",
       "      <th>TBG_measured</th>\n",
       "      <th>TBG</th>\n",
       "    </tr>\n",
       "  </thead>\n",
       "  <tbody>\n",
       "    <tr>\n",
       "      <th>0</th>\n",
       "      <td>sick-euthyroid</td>\n",
       "      <td>72.0</td>\n",
       "      <td>M</td>\n",
       "      <td>f</td>\n",
       "      <td>f</td>\n",
       "      <td>f</td>\n",
       "      <td>f</td>\n",
       "      <td>f</td>\n",
       "      <td>f</td>\n",
       "      <td>f</td>\n",
       "      <td>...</td>\n",
       "      <td>y</td>\n",
       "      <td>1.0</td>\n",
       "      <td>y</td>\n",
       "      <td>83.0</td>\n",
       "      <td>y</td>\n",
       "      <td>0.95</td>\n",
       "      <td>y</td>\n",
       "      <td>87.0</td>\n",
       "      <td>n</td>\n",
       "      <td>NaN</td>\n",
       "    </tr>\n",
       "    <tr>\n",
       "      <th>1</th>\n",
       "      <td>sick-euthyroid</td>\n",
       "      <td>45.0</td>\n",
       "      <td>F</td>\n",
       "      <td>f</td>\n",
       "      <td>f</td>\n",
       "      <td>f</td>\n",
       "      <td>f</td>\n",
       "      <td>f</td>\n",
       "      <td>f</td>\n",
       "      <td>f</td>\n",
       "      <td>...</td>\n",
       "      <td>y</td>\n",
       "      <td>1.0</td>\n",
       "      <td>y</td>\n",
       "      <td>82.0</td>\n",
       "      <td>y</td>\n",
       "      <td>0.73</td>\n",
       "      <td>y</td>\n",
       "      <td>112.0</td>\n",
       "      <td>n</td>\n",
       "      <td>NaN</td>\n",
       "    </tr>\n",
       "    <tr>\n",
       "      <th>2</th>\n",
       "      <td>sick-euthyroid</td>\n",
       "      <td>64.0</td>\n",
       "      <td>F</td>\n",
       "      <td>f</td>\n",
       "      <td>f</td>\n",
       "      <td>f</td>\n",
       "      <td>f</td>\n",
       "      <td>f</td>\n",
       "      <td>f</td>\n",
       "      <td>f</td>\n",
       "      <td>...</td>\n",
       "      <td>y</td>\n",
       "      <td>1.0</td>\n",
       "      <td>y</td>\n",
       "      <td>101.0</td>\n",
       "      <td>y</td>\n",
       "      <td>0.82</td>\n",
       "      <td>y</td>\n",
       "      <td>123.0</td>\n",
       "      <td>n</td>\n",
       "      <td>NaN</td>\n",
       "    </tr>\n",
       "    <tr>\n",
       "      <th>3</th>\n",
       "      <td>sick-euthyroid</td>\n",
       "      <td>56.0</td>\n",
       "      <td>M</td>\n",
       "      <td>f</td>\n",
       "      <td>f</td>\n",
       "      <td>f</td>\n",
       "      <td>f</td>\n",
       "      <td>f</td>\n",
       "      <td>f</td>\n",
       "      <td>f</td>\n",
       "      <td>...</td>\n",
       "      <td>y</td>\n",
       "      <td>0.8</td>\n",
       "      <td>y</td>\n",
       "      <td>76.0</td>\n",
       "      <td>y</td>\n",
       "      <td>0.77</td>\n",
       "      <td>y</td>\n",
       "      <td>99.0</td>\n",
       "      <td>n</td>\n",
       "      <td>NaN</td>\n",
       "    </tr>\n",
       "    <tr>\n",
       "      <th>4</th>\n",
       "      <td>sick-euthyroid</td>\n",
       "      <td>78.0</td>\n",
       "      <td>F</td>\n",
       "      <td>t</td>\n",
       "      <td>f</td>\n",
       "      <td>f</td>\n",
       "      <td>f</td>\n",
       "      <td>t</td>\n",
       "      <td>f</td>\n",
       "      <td>f</td>\n",
       "      <td>...</td>\n",
       "      <td>y</td>\n",
       "      <td>0.3</td>\n",
       "      <td>y</td>\n",
       "      <td>87.0</td>\n",
       "      <td>y</td>\n",
       "      <td>0.95</td>\n",
       "      <td>y</td>\n",
       "      <td>91.0</td>\n",
       "      <td>n</td>\n",
       "      <td>NaN</td>\n",
       "    </tr>\n",
       "    <tr>\n",
       "      <th>...</th>\n",
       "      <td>...</td>\n",
       "      <td>...</td>\n",
       "      <td>...</td>\n",
       "      <td>...</td>\n",
       "      <td>...</td>\n",
       "      <td>...</td>\n",
       "      <td>...</td>\n",
       "      <td>...</td>\n",
       "      <td>...</td>\n",
       "      <td>...</td>\n",
       "      <td>...</td>\n",
       "      <td>...</td>\n",
       "      <td>...</td>\n",
       "      <td>...</td>\n",
       "      <td>...</td>\n",
       "      <td>...</td>\n",
       "      <td>...</td>\n",
       "      <td>...</td>\n",
       "      <td>...</td>\n",
       "      <td>...</td>\n",
       "      <td>...</td>\n",
       "    </tr>\n",
       "    <tr>\n",
       "      <th>3158</th>\n",
       "      <td>negative</td>\n",
       "      <td>40.0</td>\n",
       "      <td>F</td>\n",
       "      <td>f</td>\n",
       "      <td>f</td>\n",
       "      <td>f</td>\n",
       "      <td>f</td>\n",
       "      <td>f</td>\n",
       "      <td>f</td>\n",
       "      <td>f</td>\n",
       "      <td>...</td>\n",
       "      <td>y</td>\n",
       "      <td>1.2</td>\n",
       "      <td>y</td>\n",
       "      <td>76.0</td>\n",
       "      <td>y</td>\n",
       "      <td>0.90</td>\n",
       "      <td>y</td>\n",
       "      <td>84.0</td>\n",
       "      <td>n</td>\n",
       "      <td>NaN</td>\n",
       "    </tr>\n",
       "    <tr>\n",
       "      <th>3159</th>\n",
       "      <td>negative</td>\n",
       "      <td>69.0</td>\n",
       "      <td>F</td>\n",
       "      <td>f</td>\n",
       "      <td>f</td>\n",
       "      <td>f</td>\n",
       "      <td>f</td>\n",
       "      <td>f</td>\n",
       "      <td>f</td>\n",
       "      <td>f</td>\n",
       "      <td>...</td>\n",
       "      <td>y</td>\n",
       "      <td>1.8</td>\n",
       "      <td>y</td>\n",
       "      <td>126.0</td>\n",
       "      <td>y</td>\n",
       "      <td>1.02</td>\n",
       "      <td>y</td>\n",
       "      <td>124.0</td>\n",
       "      <td>n</td>\n",
       "      <td>NaN</td>\n",
       "    </tr>\n",
       "    <tr>\n",
       "      <th>3160</th>\n",
       "      <td>negative</td>\n",
       "      <td>58.0</td>\n",
       "      <td>F</td>\n",
       "      <td>f</td>\n",
       "      <td>f</td>\n",
       "      <td>f</td>\n",
       "      <td>f</td>\n",
       "      <td>f</td>\n",
       "      <td>f</td>\n",
       "      <td>f</td>\n",
       "      <td>...</td>\n",
       "      <td>y</td>\n",
       "      <td>1.7</td>\n",
       "      <td>y</td>\n",
       "      <td>86.0</td>\n",
       "      <td>y</td>\n",
       "      <td>0.91</td>\n",
       "      <td>y</td>\n",
       "      <td>95.0</td>\n",
       "      <td>n</td>\n",
       "      <td>NaN</td>\n",
       "    </tr>\n",
       "    <tr>\n",
       "      <th>3161</th>\n",
       "      <td>negative</td>\n",
       "      <td>29.0</td>\n",
       "      <td>F</td>\n",
       "      <td>f</td>\n",
       "      <td>f</td>\n",
       "      <td>f</td>\n",
       "      <td>f</td>\n",
       "      <td>f</td>\n",
       "      <td>f</td>\n",
       "      <td>f</td>\n",
       "      <td>...</td>\n",
       "      <td>y</td>\n",
       "      <td>1.8</td>\n",
       "      <td>y</td>\n",
       "      <td>99.0</td>\n",
       "      <td>y</td>\n",
       "      <td>1.01</td>\n",
       "      <td>y</td>\n",
       "      <td>98.0</td>\n",
       "      <td>n</td>\n",
       "      <td>NaN</td>\n",
       "    </tr>\n",
       "    <tr>\n",
       "      <th>3162</th>\n",
       "      <td>negative</td>\n",
       "      <td>56.0</td>\n",
       "      <td>F</td>\n",
       "      <td>t</td>\n",
       "      <td>f</td>\n",
       "      <td>f</td>\n",
       "      <td>f</td>\n",
       "      <td>f</td>\n",
       "      <td>f</td>\n",
       "      <td>f</td>\n",
       "      <td>...</td>\n",
       "      <td>y</td>\n",
       "      <td>1.8</td>\n",
       "      <td>y</td>\n",
       "      <td>139.0</td>\n",
       "      <td>y</td>\n",
       "      <td>0.97</td>\n",
       "      <td>y</td>\n",
       "      <td>143.0</td>\n",
       "      <td>n</td>\n",
       "      <td>NaN</td>\n",
       "    </tr>\n",
       "  </tbody>\n",
       "</table>\n",
       "<p>3163 rows × 26 columns</p>\n",
       "</div>"
      ],
      "text/plain": [
       "      sick-euthyroid   age sex on_thyroxine query_on_thyroxine  \\\n",
       "0     sick-euthyroid  72.0   M            f                  f   \n",
       "1     sick-euthyroid  45.0   F            f                  f   \n",
       "2     sick-euthyroid  64.0   F            f                  f   \n",
       "3     sick-euthyroid  56.0   M            f                  f   \n",
       "4     sick-euthyroid  78.0   F            t                  f   \n",
       "...              ...   ...  ..          ...                ...   \n",
       "3158        negative  40.0   F            f                  f   \n",
       "3159        negative  69.0   F            f                  f   \n",
       "3160        negative  58.0   F            f                  f   \n",
       "3161        negative  29.0   F            f                  f   \n",
       "3162        negative  56.0   F            t                  f   \n",
       "\n",
       "     on_antithyroid_medication thyroid_surgery query_hypothyroid  \\\n",
       "0                            f               f                 f   \n",
       "1                            f               f                 f   \n",
       "2                            f               f                 f   \n",
       "3                            f               f                 f   \n",
       "4                            f               f                 t   \n",
       "...                        ...             ...               ...   \n",
       "3158                         f               f                 f   \n",
       "3159                         f               f                 f   \n",
       "3160                         f               f                 f   \n",
       "3161                         f               f                 f   \n",
       "3162                         f               f                 f   \n",
       "\n",
       "     query_hyperthyroid pregnant  ... T3_measured   T3 TT4_measured    TT4  \\\n",
       "0                     f        f  ...           y  1.0            y   83.0   \n",
       "1                     f        f  ...           y  1.0            y   82.0   \n",
       "2                     f        f  ...           y  1.0            y  101.0   \n",
       "3                     f        f  ...           y  0.8            y   76.0   \n",
       "4                     f        f  ...           y  0.3            y   87.0   \n",
       "...                 ...      ...  ...         ...  ...          ...    ...   \n",
       "3158                  f        f  ...           y  1.2            y   76.0   \n",
       "3159                  f        f  ...           y  1.8            y  126.0   \n",
       "3160                  f        f  ...           y  1.7            y   86.0   \n",
       "3161                  f        f  ...           y  1.8            y   99.0   \n",
       "3162                  f        f  ...           y  1.8            y  139.0   \n",
       "\n",
       "     T4U_measured   T4U FTI_measured    FTI TBG_measured  TBG  \n",
       "0               y  0.95            y   87.0            n  NaN  \n",
       "1               y  0.73            y  112.0            n  NaN  \n",
       "2               y  0.82            y  123.0            n  NaN  \n",
       "3               y  0.77            y   99.0            n  NaN  \n",
       "4               y  0.95            y   91.0            n  NaN  \n",
       "...           ...   ...          ...    ...          ...  ...  \n",
       "3158            y  0.90            y   84.0            n  NaN  \n",
       "3159            y  1.02            y  124.0            n  NaN  \n",
       "3160            y  0.91            y   95.0            n  NaN  \n",
       "3161            y  1.01            y   98.0            n  NaN  \n",
       "3162            y  0.97            y  143.0            n  NaN  \n",
       "\n",
       "[3163 rows x 26 columns]"
      ]
     },
     "execution_count": 2,
     "metadata": {},
     "output_type": "execute_result"
    }
   ],
   "source": [
    "df = database.load_thyroid_disease()\n",
    "label_col = \"sick-euthyroid\"\n",
    "df"
   ]
  },
  {
   "cell_type": "code",
   "execution_count": 3,
   "metadata": {},
   "outputs": [],
   "source": [
    "df[label_col] = df[label_col].replace({\"sick-euthyroid\": 1, \"negative\": 0})"
   ]
  },
  {
   "cell_type": "code",
   "execution_count": 4,
   "metadata": {},
   "outputs": [
    {
     "name": "stdout",
     "output_type": "stream",
     "text": [
      "<class 'pandas.core.frame.DataFrame'>\n",
      "RangeIndex: 3163 entries, 0 to 3162\n",
      "Data columns (total 26 columns):\n",
      " #   Column                     Non-Null Count  Dtype  \n",
      "---  ------                     --------------  -----  \n",
      " 0   sick-euthyroid             3163 non-null   int64  \n",
      " 1   age                        2717 non-null   float64\n",
      " 2   sex                        3090 non-null   object \n",
      " 3   on_thyroxine               3163 non-null   object \n",
      " 4   query_on_thyroxine         3163 non-null   object \n",
      " 5   on_antithyroid_medication  3163 non-null   object \n",
      " 6   thyroid_surgery            3163 non-null   object \n",
      " 7   query_hypothyroid          3163 non-null   object \n",
      " 8   query_hyperthyroid         3163 non-null   object \n",
      " 9   pregnant                   3163 non-null   object \n",
      " 10  sick                       3163 non-null   object \n",
      " 11  tumor                      3163 non-null   object \n",
      " 12  lithium                    3163 non-null   object \n",
      " 13  goitre                     3163 non-null   object \n",
      " 14  TSH_measured               3163 non-null   object \n",
      " 15  TSH                        2695 non-null   float64\n",
      " 16  T3_measured                3163 non-null   object \n",
      " 17  T3                         2468 non-null   float64\n",
      " 18  TT4_measured               3163 non-null   object \n",
      " 19  TT4                        2914 non-null   float64\n",
      " 20  T4U_measured               3163 non-null   object \n",
      " 21  T4U                        2915 non-null   float64\n",
      " 22  FTI_measured               3163 non-null   object \n",
      " 23  FTI                        2916 non-null   float64\n",
      " 24  TBG_measured               3163 non-null   object \n",
      " 25  TBG                        260 non-null    float64\n",
      "dtypes: float64(7), int64(1), object(18)\n",
      "memory usage: 642.6+ KB\n"
     ]
    }
   ],
   "source": [
    "df.info()"
   ]
  },
  {
   "cell_type": "code",
   "execution_count": 5,
   "metadata": {},
   "outputs": [
    {
     "data": {
      "text/plain": [
       "f    3108\n",
       "t      55\n",
       "Name: query_on_thyroxine, dtype: int64"
      ]
     },
     "execution_count": 5,
     "metadata": {},
     "output_type": "execute_result"
    }
   ],
   "source": [
    "df['query_on_thyroxine'].value_counts()"
   ]
  },
  {
   "cell_type": "markdown",
   "metadata": {},
   "source": [
    "The dataset is imbalanced, as most patients in the dataset do not have thyroid disease."
   ]
  },
  {
   "cell_type": "code",
   "execution_count": 6,
   "metadata": {},
   "outputs": [
    {
     "data": {
      "text/plain": [
       "array([3108,   55], dtype=int64)"
      ]
     },
     "execution_count": 6,
     "metadata": {},
     "output_type": "execute_result"
    }
   ],
   "source": [
    "counts = df['query_on_thyroxine'].value_counts().values\n",
    "counts"
   ]
  },
  {
   "cell_type": "code",
   "execution_count": 7,
   "metadata": {},
   "outputs": [
    {
     "data": {
      "text/plain": [
       "<raimitigations.dataprocessing.feat_selection.correlated_features.CorrelatedFeatures at 0x7ff2c7c4b6d0>"
      ]
     },
     "execution_count": 7,
     "metadata": {},
     "output_type": "execute_result"
    }
   ],
   "source": [
    "cor_feat = dp.CorrelatedFeatures(\n",
    "\t\t\t\t\tmethod_num_num=[\"spearman\", \"pearson\", \"kendall\"],\t\t\t\t# Used for Numerical x Numerical correlations\n",
    "\t\t\t\t\tnum_corr_th=0.9,\t\t\t\t\t\t\t\t\t\t\t\t# Used for Numerical x Numerical correlations\n",
    "\t\t\t\t\tnum_pvalue_th=0.05,\t\t\t\t\t\t\t\t\t\t\t\t# Used for Numerical x Numerical correlations\n",
    "\t\t\t\t\tmethod_num_cat=\"model\",\t\t\t\t\t\t\t\t\t\t\t# Used for Numerical x Categorical correlations\n",
    "\t\t\t\t\tmodel_metrics=[\"f1\", \"auc\"],\t\t\t\t\t\t\t\t\t# Used for Numerical x Categorical correlations\n",
    "\t\t\t\t\tmetric_th=0.9,\t\t\t\t\t\t\t\t\t\t\t\t\t# Used for Numerical x Categorical correlations\n",
    "\t\t\t\t\tcat_corr_th=0.9,\t\t\t\t\t\t\t\t\t\t\t\t# Used for Categorical x Categorical correlations\n",
    "\t\t\t\t\tcat_pvalue_th=0.01,\t\t\t\t\t\t\t\t\t\t\t\t# Used for Categorical x Categorical correlations\n",
    "\t\t\t\t\tjson_summary=\"./corr_json/c3_summary.json\",\n",
    "\t\t\t\t\tjson_corr=\"./corr_json/c3_corr.json\",\n",
    "\t\t\t\t\tjson_uncorr=\"./corr_json/c3_uncorr.json\"\n",
    "\t\t\t\t)\n",
    "cor_feat.fit(df=df, label_col=label_col)"
   ]
  },
  {
   "cell_type": "markdown",
   "metadata": {},
   "source": [
    "Remember to look through the JSON files generated in the previous cell. Correlations have been found, which can be seen in `c3_corr.json`."
   ]
  },
  {
   "cell_type": "markdown",
   "metadata": {},
   "source": [
    "## 2 - Basic Pre-Processing\n",
    "\n",
    "### Encode Categorical Variables\n",
    "The dataset contains a number of columns that are categorical. `EncoderOHE` is used to perform One Hot Encoding on the dataset."
   ]
  },
  {
   "cell_type": "code",
   "execution_count": 8,
   "metadata": {},
   "outputs": [
    {
     "name": "stdout",
     "output_type": "stream",
     "text": [
      "No columns specified for encoding. These columns have been automatically identfied as the following:\n",
      "['sex', 'on_thyroxine', 'query_on_thyroxine', 'on_antithyroid_medication', 'thyroid_surgery', 'query_hypothyroid', 'query_hyperthyroid', 'pregnant', 'sick', 'tumor', 'lithium', 'goitre', 'TSH_measured', 'T3_measured', 'TT4_measured', 'T4U_measured', 'FTI_measured', 'TBG_measured']\n",
      "new_col_names = ['sex_M', 'sex_nan', 'on_thyroxine_t', 'query_on_thyroxine_t', 'on_antithyroid_medication_t', 'thyroid_surgery_t', 'query_hypothyroid_t', 'query_hyperthyroid_t', 'pregnant_t', 'sick_t', 'tumor_t', 'lithium_t', 'goitre_t', 'TSH_measured_y', 'T3_measured_y', 'TT4_measured_y', 'T4U_measured_y', 'FTI_measured_y', 'TBG_measured_y']\n"
     ]
    },
    {
     "data": {
      "text/html": [
       "<div>\n",
       "<style scoped>\n",
       "    .dataframe tbody tr th:only-of-type {\n",
       "        vertical-align: middle;\n",
       "    }\n",
       "\n",
       "    .dataframe tbody tr th {\n",
       "        vertical-align: top;\n",
       "    }\n",
       "\n",
       "    .dataframe thead th {\n",
       "        text-align: right;\n",
       "    }\n",
       "</style>\n",
       "<table border=\"1\" class=\"dataframe\">\n",
       "  <thead>\n",
       "    <tr style=\"text-align: right;\">\n",
       "      <th></th>\n",
       "      <th>sick-euthyroid</th>\n",
       "      <th>age</th>\n",
       "      <th>TSH</th>\n",
       "      <th>T3</th>\n",
       "      <th>TT4</th>\n",
       "      <th>T4U</th>\n",
       "      <th>FTI</th>\n",
       "      <th>TBG</th>\n",
       "      <th>sex_M</th>\n",
       "      <th>sex_nan</th>\n",
       "      <th>...</th>\n",
       "      <th>sick_t</th>\n",
       "      <th>tumor_t</th>\n",
       "      <th>lithium_t</th>\n",
       "      <th>goitre_t</th>\n",
       "      <th>TSH_measured_y</th>\n",
       "      <th>T3_measured_y</th>\n",
       "      <th>TT4_measured_y</th>\n",
       "      <th>T4U_measured_y</th>\n",
       "      <th>FTI_measured_y</th>\n",
       "      <th>TBG_measured_y</th>\n",
       "    </tr>\n",
       "  </thead>\n",
       "  <tbody>\n",
       "    <tr>\n",
       "      <th>0</th>\n",
       "      <td>1</td>\n",
       "      <td>72.0</td>\n",
       "      <td>NaN</td>\n",
       "      <td>1.0</td>\n",
       "      <td>83.0</td>\n",
       "      <td>0.95</td>\n",
       "      <td>87.0</td>\n",
       "      <td>NaN</td>\n",
       "      <td>1</td>\n",
       "      <td>0</td>\n",
       "      <td>...</td>\n",
       "      <td>0</td>\n",
       "      <td>0</td>\n",
       "      <td>0</td>\n",
       "      <td>0</td>\n",
       "      <td>0</td>\n",
       "      <td>1</td>\n",
       "      <td>1</td>\n",
       "      <td>1</td>\n",
       "      <td>1</td>\n",
       "      <td>0</td>\n",
       "    </tr>\n",
       "    <tr>\n",
       "      <th>1</th>\n",
       "      <td>1</td>\n",
       "      <td>45.0</td>\n",
       "      <td>1.90</td>\n",
       "      <td>1.0</td>\n",
       "      <td>82.0</td>\n",
       "      <td>0.73</td>\n",
       "      <td>112.0</td>\n",
       "      <td>NaN</td>\n",
       "      <td>0</td>\n",
       "      <td>0</td>\n",
       "      <td>...</td>\n",
       "      <td>0</td>\n",
       "      <td>0</td>\n",
       "      <td>0</td>\n",
       "      <td>0</td>\n",
       "      <td>1</td>\n",
       "      <td>1</td>\n",
       "      <td>1</td>\n",
       "      <td>1</td>\n",
       "      <td>1</td>\n",
       "      <td>0</td>\n",
       "    </tr>\n",
       "    <tr>\n",
       "      <th>2</th>\n",
       "      <td>1</td>\n",
       "      <td>64.0</td>\n",
       "      <td>0.09</td>\n",
       "      <td>1.0</td>\n",
       "      <td>101.0</td>\n",
       "      <td>0.82</td>\n",
       "      <td>123.0</td>\n",
       "      <td>NaN</td>\n",
       "      <td>0</td>\n",
       "      <td>0</td>\n",
       "      <td>...</td>\n",
       "      <td>1</td>\n",
       "      <td>0</td>\n",
       "      <td>0</td>\n",
       "      <td>0</td>\n",
       "      <td>1</td>\n",
       "      <td>1</td>\n",
       "      <td>1</td>\n",
       "      <td>1</td>\n",
       "      <td>1</td>\n",
       "      <td>0</td>\n",
       "    </tr>\n",
       "    <tr>\n",
       "      <th>3</th>\n",
       "      <td>1</td>\n",
       "      <td>56.0</td>\n",
       "      <td>0.00</td>\n",
       "      <td>0.8</td>\n",
       "      <td>76.0</td>\n",
       "      <td>0.77</td>\n",
       "      <td>99.0</td>\n",
       "      <td>NaN</td>\n",
       "      <td>1</td>\n",
       "      <td>0</td>\n",
       "      <td>...</td>\n",
       "      <td>0</td>\n",
       "      <td>0</td>\n",
       "      <td>0</td>\n",
       "      <td>0</td>\n",
       "      <td>1</td>\n",
       "      <td>1</td>\n",
       "      <td>1</td>\n",
       "      <td>1</td>\n",
       "      <td>1</td>\n",
       "      <td>0</td>\n",
       "    </tr>\n",
       "    <tr>\n",
       "      <th>4</th>\n",
       "      <td>1</td>\n",
       "      <td>78.0</td>\n",
       "      <td>2.60</td>\n",
       "      <td>0.3</td>\n",
       "      <td>87.0</td>\n",
       "      <td>0.95</td>\n",
       "      <td>91.0</td>\n",
       "      <td>NaN</td>\n",
       "      <td>0</td>\n",
       "      <td>0</td>\n",
       "      <td>...</td>\n",
       "      <td>0</td>\n",
       "      <td>0</td>\n",
       "      <td>0</td>\n",
       "      <td>0</td>\n",
       "      <td>1</td>\n",
       "      <td>1</td>\n",
       "      <td>1</td>\n",
       "      <td>1</td>\n",
       "      <td>1</td>\n",
       "      <td>0</td>\n",
       "    </tr>\n",
       "    <tr>\n",
       "      <th>...</th>\n",
       "      <td>...</td>\n",
       "      <td>...</td>\n",
       "      <td>...</td>\n",
       "      <td>...</td>\n",
       "      <td>...</td>\n",
       "      <td>...</td>\n",
       "      <td>...</td>\n",
       "      <td>...</td>\n",
       "      <td>...</td>\n",
       "      <td>...</td>\n",
       "      <td>...</td>\n",
       "      <td>...</td>\n",
       "      <td>...</td>\n",
       "      <td>...</td>\n",
       "      <td>...</td>\n",
       "      <td>...</td>\n",
       "      <td>...</td>\n",
       "      <td>...</td>\n",
       "      <td>...</td>\n",
       "      <td>...</td>\n",
       "      <td>...</td>\n",
       "    </tr>\n",
       "    <tr>\n",
       "      <th>3158</th>\n",
       "      <td>0</td>\n",
       "      <td>40.0</td>\n",
       "      <td>2.10</td>\n",
       "      <td>1.2</td>\n",
       "      <td>76.0</td>\n",
       "      <td>0.90</td>\n",
       "      <td>84.0</td>\n",
       "      <td>NaN</td>\n",
       "      <td>0</td>\n",
       "      <td>0</td>\n",
       "      <td>...</td>\n",
       "      <td>1</td>\n",
       "      <td>0</td>\n",
       "      <td>0</td>\n",
       "      <td>0</td>\n",
       "      <td>1</td>\n",
       "      <td>1</td>\n",
       "      <td>1</td>\n",
       "      <td>1</td>\n",
       "      <td>1</td>\n",
       "      <td>0</td>\n",
       "    </tr>\n",
       "    <tr>\n",
       "      <th>3159</th>\n",
       "      <td>0</td>\n",
       "      <td>69.0</td>\n",
       "      <td>2.60</td>\n",
       "      <td>1.8</td>\n",
       "      <td>126.0</td>\n",
       "      <td>1.02</td>\n",
       "      <td>124.0</td>\n",
       "      <td>NaN</td>\n",
       "      <td>0</td>\n",
       "      <td>0</td>\n",
       "      <td>...</td>\n",
       "      <td>0</td>\n",
       "      <td>0</td>\n",
       "      <td>0</td>\n",
       "      <td>0</td>\n",
       "      <td>1</td>\n",
       "      <td>1</td>\n",
       "      <td>1</td>\n",
       "      <td>1</td>\n",
       "      <td>1</td>\n",
       "      <td>0</td>\n",
       "    </tr>\n",
       "    <tr>\n",
       "      <th>3160</th>\n",
       "      <td>0</td>\n",
       "      <td>58.0</td>\n",
       "      <td>5.80</td>\n",
       "      <td>1.7</td>\n",
       "      <td>86.0</td>\n",
       "      <td>0.91</td>\n",
       "      <td>95.0</td>\n",
       "      <td>NaN</td>\n",
       "      <td>0</td>\n",
       "      <td>0</td>\n",
       "      <td>...</td>\n",
       "      <td>0</td>\n",
       "      <td>0</td>\n",
       "      <td>0</td>\n",
       "      <td>0</td>\n",
       "      <td>1</td>\n",
       "      <td>1</td>\n",
       "      <td>1</td>\n",
       "      <td>1</td>\n",
       "      <td>1</td>\n",
       "      <td>0</td>\n",
       "    </tr>\n",
       "    <tr>\n",
       "      <th>3161</th>\n",
       "      <td>0</td>\n",
       "      <td>29.0</td>\n",
       "      <td>0.80</td>\n",
       "      <td>1.8</td>\n",
       "      <td>99.0</td>\n",
       "      <td>1.01</td>\n",
       "      <td>98.0</td>\n",
       "      <td>NaN</td>\n",
       "      <td>0</td>\n",
       "      <td>0</td>\n",
       "      <td>...</td>\n",
       "      <td>0</td>\n",
       "      <td>0</td>\n",
       "      <td>0</td>\n",
       "      <td>0</td>\n",
       "      <td>1</td>\n",
       "      <td>1</td>\n",
       "      <td>1</td>\n",
       "      <td>1</td>\n",
       "      <td>1</td>\n",
       "      <td>0</td>\n",
       "    </tr>\n",
       "    <tr>\n",
       "      <th>3162</th>\n",
       "      <td>0</td>\n",
       "      <td>56.0</td>\n",
       "      <td>0.00</td>\n",
       "      <td>1.8</td>\n",
       "      <td>139.0</td>\n",
       "      <td>0.97</td>\n",
       "      <td>143.0</td>\n",
       "      <td>NaN</td>\n",
       "      <td>0</td>\n",
       "      <td>0</td>\n",
       "      <td>...</td>\n",
       "      <td>0</td>\n",
       "      <td>0</td>\n",
       "      <td>0</td>\n",
       "      <td>0</td>\n",
       "      <td>1</td>\n",
       "      <td>1</td>\n",
       "      <td>1</td>\n",
       "      <td>1</td>\n",
       "      <td>1</td>\n",
       "      <td>0</td>\n",
       "    </tr>\n",
       "  </tbody>\n",
       "</table>\n",
       "<p>3163 rows × 27 columns</p>\n",
       "</div>"
      ],
      "text/plain": [
       "      sick-euthyroid   age   TSH   T3    TT4   T4U    FTI  TBG  sex_M  \\\n",
       "0                  1  72.0   NaN  1.0   83.0  0.95   87.0  NaN      1   \n",
       "1                  1  45.0  1.90  1.0   82.0  0.73  112.0  NaN      0   \n",
       "2                  1  64.0  0.09  1.0  101.0  0.82  123.0  NaN      0   \n",
       "3                  1  56.0  0.00  0.8   76.0  0.77   99.0  NaN      1   \n",
       "4                  1  78.0  2.60  0.3   87.0  0.95   91.0  NaN      0   \n",
       "...              ...   ...   ...  ...    ...   ...    ...  ...    ...   \n",
       "3158               0  40.0  2.10  1.2   76.0  0.90   84.0  NaN      0   \n",
       "3159               0  69.0  2.60  1.8  126.0  1.02  124.0  NaN      0   \n",
       "3160               0  58.0  5.80  1.7   86.0  0.91   95.0  NaN      0   \n",
       "3161               0  29.0  0.80  1.8   99.0  1.01   98.0  NaN      0   \n",
       "3162               0  56.0  0.00  1.8  139.0  0.97  143.0  NaN      0   \n",
       "\n",
       "      sex_nan  ...  sick_t  tumor_t  lithium_t  goitre_t  TSH_measured_y  \\\n",
       "0           0  ...       0        0          0         0               0   \n",
       "1           0  ...       0        0          0         0               1   \n",
       "2           0  ...       1        0          0         0               1   \n",
       "3           0  ...       0        0          0         0               1   \n",
       "4           0  ...       0        0          0         0               1   \n",
       "...       ...  ...     ...      ...        ...       ...             ...   \n",
       "3158        0  ...       1        0          0         0               1   \n",
       "3159        0  ...       0        0          0         0               1   \n",
       "3160        0  ...       0        0          0         0               1   \n",
       "3161        0  ...       0        0          0         0               1   \n",
       "3162        0  ...       0        0          0         0               1   \n",
       "\n",
       "      T3_measured_y  TT4_measured_y  T4U_measured_y  FTI_measured_y  \\\n",
       "0                 1               1               1               1   \n",
       "1                 1               1               1               1   \n",
       "2                 1               1               1               1   \n",
       "3                 1               1               1               1   \n",
       "4                 1               1               1               1   \n",
       "...             ...             ...             ...             ...   \n",
       "3158              1               1               1               1   \n",
       "3159              1               1               1               1   \n",
       "3160              1               1               1               1   \n",
       "3161              1               1               1               1   \n",
       "3162              1               1               1               1   \n",
       "\n",
       "      TBG_measured_y  \n",
       "0                  0  \n",
       "1                  0  \n",
       "2                  0  \n",
       "3                  0  \n",
       "4                  0  \n",
       "...              ...  \n",
       "3158               0  \n",
       "3159               0  \n",
       "3160               0  \n",
       "3161               0  \n",
       "3162               0  \n",
       "\n",
       "[3163 rows x 27 columns]"
      ]
     },
     "execution_count": 8,
     "metadata": {},
     "output_type": "execute_result"
    }
   ],
   "source": [
    "# Encode the categorical columns using One-Hot Encoding\n",
    "enc_ohe = dp.EncoderOHE()\n",
    "enc_ohe.fit(df)\n",
    "proc_df = enc_ohe.transform(df)\n",
    "proc_df"
   ]
  },
  {
   "cell_type": "markdown",
   "metadata": {},
   "source": [
    "### Impute Missing Data\n",
    "\n",
    "A number of features contain missing values. We will use `BasicImputer` to fill these values with -1"
   ]
  },
  {
   "cell_type": "code",
   "execution_count": 9,
   "metadata": {},
   "outputs": [
    {
     "data": {
      "text/plain": [
       "sick-euthyroid                    0\n",
       "age                             446\n",
       "TSH                             468\n",
       "T3                              695\n",
       "TT4                             249\n",
       "T4U                             248\n",
       "FTI                             247\n",
       "TBG                            2903\n",
       "sex_M                             0\n",
       "sex_nan                           0\n",
       "on_thyroxine_t                    0\n",
       "query_on_thyroxine_t              0\n",
       "on_antithyroid_medication_t       0\n",
       "thyroid_surgery_t                 0\n",
       "query_hypothyroid_t               0\n",
       "query_hyperthyroid_t              0\n",
       "pregnant_t                        0\n",
       "sick_t                            0\n",
       "tumor_t                           0\n",
       "lithium_t                         0\n",
       "goitre_t                          0\n",
       "TSH_measured_y                    0\n",
       "T3_measured_y                     0\n",
       "TT4_measured_y                    0\n",
       "T4U_measured_y                    0\n",
       "FTI_measured_y                    0\n",
       "TBG_measured_y                    0\n",
       "dtype: int64"
      ]
     },
     "execution_count": 9,
     "metadata": {},
     "output_type": "execute_result"
    }
   ],
   "source": [
    "proc_df.isna().sum()"
   ]
  },
  {
   "cell_type": "code",
   "execution_count": 10,
   "metadata": {},
   "outputs": [
    {
     "name": "stdout",
     "output_type": "stream",
     "text": [
      "No columns specified for imputation. These columns have been automatically identified:\n",
      "['age', 'TSH', 'T3', 'TT4', 'T4U', 'FTI', 'TBG']\n"
     ]
    }
   ],
   "source": [
    "imputer = dp.BasicImputer(numerical={'missing_values':np.nan,\n",
    "\t\t\t\t\t\t\t\t\t'strategy':'constant',\n",
    "\t\t\t\t\t\t\t\t\t'fill_value':-1})\n",
    "imputer.fit(proc_df)\n",
    "proc_df = imputer.transform(proc_df)"
   ]
  },
  {
   "cell_type": "markdown",
   "metadata": {},
   "source": [
    "### Split Dataset"
   ]
  },
  {
   "cell_type": "code",
   "execution_count": 11,
   "metadata": {},
   "outputs": [],
   "source": [
    "train_x, test_x, train_y, test_y = dp.split_data(proc_df, label_col, test_size=0.25)"
   ]
  },
  {
   "cell_type": "markdown",
   "metadata": {},
   "source": [
    "## 2 - Baseline Models\n",
    "\n",
    "In this example, we have an imbalanced dataset (most patients do not have thyroid disease). While we will take a look at a number of different metrics, we will be focused on improved the F1 score for this dataset.\n",
    "\n",
    "After splitting the data into train and test sets, we will build two baseline models, one with XGBoost, and the other with KNN."
   ]
  },
  {
   "cell_type": "code",
   "execution_count": 12,
   "metadata": {},
   "outputs": [
    {
     "name": "stdout",
     "output_type": "stream",
     "text": [
      "------------\n",
      "TEST\n",
      "------------\n",
      "[[696  22]\n",
      " [  7  66]]\n"
     ]
    },
    {
     "data": {
      "image/png": "[encoded data removed]",
      "text/plain": [
       "<Figure size 432x288 with 2 Axes>"
      ]
     },
     "metadata": {
      "needs_background": "light"
     },
     "output_type": "display_data"
    },
    {
     "name": "stdout",
     "output_type": "stream",
     "text": [
      "Acuracy: 96.33%\n",
      "\n",
      "Precision:  0.8700213371266003\n",
      "\n",
      "Recall:  0.9367344602587095\n",
      "\n",
      "F1 =  0.8997338065661046\n",
      "\n",
      "ROC AUC =  0.9626626473842865\n"
     ]
    }
   ],
   "source": [
    "model = dp.train_model_plot_results(train_x, train_y, test_x, test_y, model_name=\"xgb\", train_result=False, plot_pr=False)"
   ]
  },
  {
   "cell_type": "code",
   "execution_count": 13,
   "metadata": {},
   "outputs": [
    {
     "name": "stdout",
     "output_type": "stream",
     "text": [
      "------------\n",
      "TEST\n",
      "------------\n",
      "[[534 184]\n",
      " [ 27  46]]\n"
     ]
    },
    {
     "data": {
      "image/png": "[encoded data removed]",
      "text/plain": [
       "<Figure size 432x288 with 2 Axes>"
      ]
     },
     "metadata": {
      "needs_background": "light"
     },
     "output_type": "display_data"
    },
    {
     "name": "stdout",
     "output_type": "stream",
     "text": [
      "Acuracy: 73.32%\n",
      "\n",
      "Precision:  0.5759358288770053\n",
      "\n",
      "Recall:  0.6869347884153089\n",
      "\n",
      "F1 =  0.5693288640826553\n",
      "\n",
      "ROC AUC =  0.7062330675010493\n"
     ]
    }
   ],
   "source": [
    "model = dp.train_model_plot_results(train_x, train_y, test_x, test_y, model_name=\"knn\", train_result=False, plot_pr=False)"
   ]
  },
  {
   "cell_type": "markdown",
   "metadata": {},
   "source": [
    "## 3 - Data Transformation\n",
    "\n",
    "We will perform a number of different feature transformations, using the Scalers from `dataprocessing`."
   ]
  },
  {
   "cell_type": "markdown",
   "metadata": {},
   "source": [
    "### DataMinMaxScaler\n",
    "\n",
    "The first data transformation we will perform is a MinMaxScaler, which will scale each feature to have a range between zero and one"
   ]
  },
  {
   "cell_type": "code",
   "execution_count": 14,
   "metadata": {},
   "outputs": [
    {
     "name": "stdout",
     "output_type": "stream",
     "text": [
      "------------\n",
      "TEST\n",
      "------------\n",
      "[[631  87]\n",
      " [ 13  60]]\n"
     ]
    },
    {
     "data": {
      "image/png": "[encoded data removed]",
      "text/plain": [
       "<Figure size 432x288 with 2 Axes>"
      ]
     },
     "metadata": {
      "needs_background": "light"
     },
     "output_type": "display_data"
    },
    {
     "name": "stdout",
     "output_type": "stream",
     "text": [
      "Acuracy: 87.36%\n",
      "\n",
      "Precision:  0.6939884649511978\n",
      "\n",
      "Recall:  0.8503739458923188\n",
      "\n",
      "F1 =  0.7360165531971701\n",
      "\n",
      "ROC AUC =  0.8759777921929256\n"
     ]
    }
   ],
   "source": [
    "scaler = dp.DataMinMaxScaler()\n",
    "scaler.fit(train_x)\n",
    "train_x_scl = scaler.transform(train_x)\n",
    "test_x_scl = scaler.transform(test_x)\n",
    "model = dp.train_model_plot_results(train_x_scl, train_y, test_x_scl, test_y, model_name=\"knn\", train_result=False, plot_pr=False)"
   ]
  },
  {
   "cell_type": "markdown",
   "metadata": {},
   "source": [
    "### DataNormalizer\n",
    "\n",
    "Next we try `DataNormalizer`, which will scale the vectors to have unit norm (i.e. vector of length one). This is often used in text classification, but we will use it here as well. "
   ]
  },
  {
   "cell_type": "code",
   "execution_count": 15,
   "metadata": {},
   "outputs": [
    {
     "name": "stdout",
     "output_type": "stream",
     "text": [
      "No columns specified for imputation. These columns have been automatically identified:\n",
      "[]\n",
      "------------\n",
      "TEST\n",
      "------------\n",
      "[[541 177]\n",
      " [ 23  50]]\n"
     ]
    },
    {
     "name": "stderr",
     "output_type": "stream",
     "text": [
      "/home/mmendonca/ResponsibleAI/code/git/responsible-ai-mitigations/raimitigations/dataprocessing/model_utils.py:97: RuntimeWarning: invalid value encountered in true_divide\n",
      "  fscore = (2 * precision * recall) / (precision + recall)\n"
     ]
    },
    {
     "data": {
      "image/png": "[encoded data removed]",
      "text/plain": [
       "<Figure size 432x288 with 2 Axes>"
      ]
     },
     "metadata": {
      "needs_background": "light"
     },
     "output_type": "display_data"
    },
    {
     "name": "stdout",
     "output_type": "stream",
     "text": [
      "Acuracy: 74.72%\n",
      "\n",
      "Precision:  0.5897420876683226\n",
      "\n",
      "Recall:  0.7192067004998663\n",
      "\n",
      "F1 =  0.5886635465418617\n",
      "\n",
      "ROC AUC =  0.7274296943564695\n"
     ]
    }
   ],
   "source": [
    "scaler = dp.DataNormalizer()\n",
    "scaler.fit(train_x)\n",
    "train_x_scl = scaler.transform(train_x)\n",
    "test_x_scl = scaler.transform(test_x)\n",
    "model = dp.train_model_plot_results(train_x_scl, train_y, test_x_scl, test_y, model_name=\"knn\", train_result=False, plot_pr=False)"
   ]
  },
  {
   "cell_type": "markdown",
   "metadata": {},
   "source": [
    "### DataQuantileTransformer\n",
    "\n",
    "The Quantile Transformer transforms the each feature to have a normal distribution."
   ]
  },
  {
   "cell_type": "code",
   "execution_count": 16,
   "metadata": {},
   "outputs": [
    {
     "name": "stdout",
     "output_type": "stream",
     "text": [
      "------------\n",
      "TEST\n",
      "------------\n",
      "[[628  90]\n",
      " [ 14  59]]\n"
     ]
    },
    {
     "data": {
      "image/png": "[encoded data removed]",
      "text/plain": [
       "<Figure size 432x288 with 2 Axes>"
      ]
     },
     "metadata": {
      "needs_background": "light"
     },
     "output_type": "display_data"
    },
    {
     "name": "stdout",
     "output_type": "stream",
     "text": [
      "Acuracy: 86.85%\n",
      "\n",
      "Precision:  0.6870831503899308\n",
      "\n",
      "Recall:  0.841435494333575\n",
      "\n",
      "F1 =  0.7275304716481188\n",
      "\n",
      "ROC AUC =  0.863347578891136\n"
     ]
    }
   ],
   "source": [
    "scaler = dp.DataQuantileTransformer()\n",
    "scaler.fit(train_x)\n",
    "train_x_scl = scaler.transform(train_x)\n",
    "test_x_scl = scaler.transform(test_x)\n",
    "model = dp.train_model_plot_results(train_x_scl, train_y, test_x_scl, test_y, model_name=\"knn\", train_result=False, plot_pr=False)"
   ]
  },
  {
   "cell_type": "markdown",
   "metadata": {},
   "source": [
    "### DataRobustScaler\n",
    "\n",
    "The robust scaler centers the data (median=zero) and scales the data based on the interquartile range (IQR)."
   ]
  },
  {
   "cell_type": "code",
   "execution_count": 17,
   "metadata": {},
   "outputs": [
    {
     "name": "stdout",
     "output_type": "stream",
     "text": [
      "------------\n",
      "TEST\n",
      "------------\n",
      "[[621  97]\n",
      " [ 16  57]]\n"
     ]
    },
    {
     "data": {
      "image/png": "[encoded data removed]",
      "text/plain": [
       "<Figure size 432x288 with 2 Axes>"
      ]
     },
     "metadata": {
      "needs_background": "light"
     },
     "output_type": "display_data"
    },
    {
     "name": "stdout",
     "output_type": "stream",
     "text": [
      "Acuracy: 85.71%\n",
      "\n",
      "Precision:  0.6725060653632082\n",
      "\n",
      "Recall:  0.8228622123860038\n",
      "\n",
      "F1 =  0.7094039046117333\n",
      "\n",
      "ROC AUC =  0.8505456557408326\n"
     ]
    }
   ],
   "source": [
    "scaler = dp.DataRobustScaler()\n",
    "scaler.fit(train_x)\n",
    "train_x_scl = scaler.transform(train_x)\n",
    "test_x_scl = scaler.transform(test_x)\n",
    "model = dp.train_model_plot_results(train_x_scl, train_y, test_x_scl, test_y, model_name=\"knn\", train_result=False, plot_pr=False)"
   ]
  },
  {
   "cell_type": "markdown",
   "metadata": {},
   "source": [
    "### DataPowerTransformer\n",
    "\n",
    "The power transformer makes the data more Gaussian-like (by default using the Yeo-Johnson transform)."
   ]
  },
  {
   "cell_type": "code",
   "execution_count": 18,
   "metadata": {},
   "outputs": [
    {
     "name": "stderr",
     "output_type": "stream",
     "text": [
      "/home/mmendonca/anaconda3/envs/rai/lib/python3.9/site-packages/sklearn/preprocessing/_data.py:3253: RuntimeWarning: divide by zero encountered in log\n",
      "  loglike = -n_samples / 2 * np.log(x_trans.var())\n"
     ]
    },
    {
     "name": "stdout",
     "output_type": "stream",
     "text": [
      "------------\n",
      "TEST\n",
      "------------\n",
      "[[631  87]\n",
      " [ 14  59]]\n"
     ]
    },
    {
     "data": {
      "image/png": "[encoded data removed]",
      "text/plain": [
       "<Figure size 432x288 with 2 Axes>"
      ]
     },
     "metadata": {
      "needs_background": "light"
     },
     "output_type": "display_data"
    },
    {
     "name": "stdout",
     "output_type": "stream",
     "text": [
      "Acuracy: 87.23%\n",
      "\n",
      "Precision:  0.6912020813422534\n",
      "\n",
      "Recall:  0.8435246308238258\n",
      "\n",
      "F1 =  0.7323557690697058\n",
      "\n",
      "ROC AUC =  0.86809821803335\n"
     ]
    }
   ],
   "source": [
    "scaler = dp.DataPowerTransformer()\n",
    "scaler.fit(train_x)\n",
    "train_x_scl = scaler.transform(train_x)\n",
    "test_x_scl = scaler.transform(test_x)\n",
    "model = dp.train_model_plot_results(train_x_scl, train_y, test_x_scl, test_y, model_name=\"knn\", train_result=False, plot_pr=False)"
   ]
  },
  {
   "cell_type": "markdown",
   "metadata": {},
   "source": [
    "### DataStandardScaler\n",
    "\n",
    "The standard scaler sets the mean to zero and scales the vectors to have unit variance."
   ]
  },
  {
   "cell_type": "code",
   "execution_count": 19,
   "metadata": {},
   "outputs": [
    {
     "name": "stdout",
     "output_type": "stream",
     "text": [
      "------------\n",
      "TEST\n",
      "------------\n",
      "[[634  84]\n",
      " [ 14  59]]\n"
     ]
    },
    {
     "data": {
      "image/png": "[encoded data removed]",
      "text/plain": [
       "<Figure size 432x288 with 2 Axes>"
      ]
     },
     "metadata": {
      "needs_background": "light"
     },
     "output_type": "display_data"
    },
    {
     "name": "stdout",
     "output_type": "stream",
     "text": [
      "Acuracy: 87.61%\n",
      "\n",
      "Precision:  0.6954912371579038\n",
      "\n",
      "Recall:  0.8456137673140764\n",
      "\n",
      "F1 =  0.7372769914863618\n",
      "\n",
      "ROC AUC =  0.8749856908459572\n"
     ]
    }
   ],
   "source": [
    "scaler = dp.DataStandardScaler()\n",
    "scaler.fit(train_x)\n",
    "train_x_scl = scaler.transform(train_x)\n",
    "test_x_scl = scaler.transform(test_x)\n",
    "model = dp.train_model_plot_results(train_x_scl, train_y, test_x_scl, test_y, model_name=\"knn\", train_result=False, plot_pr=False)"
   ]
  },
  {
   "cell_type": "markdown",
   "metadata": {},
   "source": [
    "## 4 - Feature Selection\n",
    "\n",
    "Next, we perform backward feature selection, which removes features from the dataset."
   ]
  },
  {
   "cell_type": "code",
   "execution_count": 20,
   "metadata": {},
   "outputs": [
    {
     "name": "stdout",
     "output_type": "stream",
     "text": [
      "No columns specified for imputation. These columns have been automatically identified:\n",
      "[]\n",
      "No columns specified for encoding. These columns have been automatically identfied as the following:\n",
      "[]\n"
     ]
    },
    {
     "name": "stderr",
     "output_type": "stream",
     "text": [
      "[Parallel(n_jobs=4)]: Using backend LokyBackend with 4 concurrent workers.\n",
      "[Parallel(n_jobs=4)]: Done  26 out of  26 | elapsed:    1.6s finished\n",
      "\n",
      "[2022-08-01 10:15:15] Features: 25/1 -- score: 0.9025546457460031[Parallel(n_jobs=4)]: Using backend LokyBackend with 4 concurrent workers.\n",
      "[Parallel(n_jobs=4)]: Done  18 out of  25 | elapsed:    0.1s remaining:    0.1s\n",
      "[Parallel(n_jobs=4)]: Done  25 out of  25 | elapsed:    0.2s finished\n",
      "\n",
      "[2022-08-01 10:15:15] Features: 24/1 -- score: 0.9044481231737408[Parallel(n_jobs=4)]: Using backend LokyBackend with 4 concurrent workers.\n",
      "[Parallel(n_jobs=4)]: Done  24 out of  24 | elapsed:    0.2s finished\n",
      "\n",
      "[2022-08-01 10:15:15] Features: 23/1 -- score: 0.9036449716285807[Parallel(n_jobs=4)]: Using backend LokyBackend with 4 concurrent workers.\n",
      "[Parallel(n_jobs=4)]: Done  23 out of  23 | elapsed:    0.1s finished\n",
      "\n",
      "[2022-08-01 10:15:16] Features: 22/1 -- score: 0.9097123307822388[Parallel(n_jobs=4)]: Using backend LokyBackend with 4 concurrent workers.\n",
      "[Parallel(n_jobs=4)]: Done  22 out of  22 | elapsed:    0.1s finished\n",
      "\n",
      "[2022-08-01 10:15:16] Features: 21/1 -- score: 0.89363080413433[Parallel(n_jobs=4)]: Using backend LokyBackend with 4 concurrent workers.\n",
      "[Parallel(n_jobs=4)]: Done  14 out of  21 | elapsed:    0.1s remaining:    0.0s\n",
      "[Parallel(n_jobs=4)]: Done  21 out of  21 | elapsed:    0.1s finished\n",
      "\n",
      "[2022-08-01 10:15:16] Features: 20/1 -- score: 0.9167034800415435[Parallel(n_jobs=4)]: Using backend LokyBackend with 4 concurrent workers.\n",
      "[Parallel(n_jobs=4)]: Done  13 out of  20 | elapsed:    0.1s remaining:    0.0s\n",
      "[Parallel(n_jobs=4)]: Done  20 out of  20 | elapsed:    0.1s finished\n",
      "\n",
      "[2022-08-01 10:15:16] Features: 19/1 -- score: 0.9120298497877039[Parallel(n_jobs=4)]: Using backend LokyBackend with 4 concurrent workers.\n",
      "[Parallel(n_jobs=4)]: Done  12 out of  19 | elapsed:    0.1s remaining:    0.0s\n",
      "[Parallel(n_jobs=4)]: Done  19 out of  19 | elapsed:    0.1s finished\n",
      "\n",
      "[2022-08-01 10:15:16] Features: 18/1 -- score: 0.9207876619184212[Parallel(n_jobs=4)]: Using backend LokyBackend with 4 concurrent workers.\n",
      "[Parallel(n_jobs=4)]: Done  18 out of  18 | elapsed:    0.1s finished\n",
      "\n",
      "[2022-08-01 10:15:16] Features: 17/1 -- score: 0.9158668857534007[Parallel(n_jobs=4)]: Using backend LokyBackend with 4 concurrent workers.\n",
      "[Parallel(n_jobs=4)]: Done  10 out of  17 | elapsed:    0.1s remaining:    0.0s\n",
      "[Parallel(n_jobs=4)]: Done  17 out of  17 | elapsed:    0.1s finished\n",
      "\n",
      "[2022-08-01 10:15:16] Features: 16/1 -- score: 0.9116536230943447[Parallel(n_jobs=4)]: Using backend LokyBackend with 4 concurrent workers.\n",
      "[Parallel(n_jobs=4)]: Done  16 out of  16 | elapsed:    0.1s finished\n",
      "\n",
      "[2022-08-01 10:15:16] Features: 15/1 -- score: 0.9209361535896671[Parallel(n_jobs=4)]: Using backend LokyBackend with 4 concurrent workers.\n",
      "[Parallel(n_jobs=4)]: Done  15 out of  15 | elapsed:    0.1s finished\n",
      "\n",
      "[2022-08-01 10:15:16] Features: 14/1 -- score: 0.9228883120873634[Parallel(n_jobs=4)]: Using backend LokyBackend with 4 concurrent workers.\n",
      "[Parallel(n_jobs=4)]: Done  14 out of  14 | elapsed:    0.1s finished\n",
      "\n",
      "[2022-08-01 10:15:16] Features: 13/1 -- score: 0.927816321428739[Parallel(n_jobs=4)]: Using backend LokyBackend with 4 concurrent workers.\n",
      "[Parallel(n_jobs=4)]: Done  13 out of  13 | elapsed:    0.1s remaining:    0.0s\n",
      "[Parallel(n_jobs=4)]: Done  13 out of  13 | elapsed:    0.1s finished\n",
      "\n",
      "[2022-08-01 10:15:17] Features: 12/1 -- score: 0.9264321637283092[Parallel(n_jobs=4)]: Using backend LokyBackend with 4 concurrent workers.\n",
      "[Parallel(n_jobs=4)]: Done  12 out of  12 | elapsed:    0.1s remaining:    0.0s\n",
      "[Parallel(n_jobs=4)]: Done  12 out of  12 | elapsed:    0.1s finished\n",
      "\n",
      "[2022-08-01 10:15:17] Features: 11/1 -- score: 0.9402919671479942[Parallel(n_jobs=4)]: Using backend LokyBackend with 4 concurrent workers.\n",
      "[Parallel(n_jobs=4)]: Done  11 out of  11 | elapsed:    0.1s finished\n",
      "\n",
      "[2022-08-01 10:15:17] Features: 10/1 -- score: 0.9305331499809308[Parallel(n_jobs=4)]: Using backend LokyBackend with 4 concurrent workers.\n",
      "[Parallel(n_jobs=4)]: Done  10 out of  10 | elapsed:    0.1s finished\n",
      "\n",
      "[2022-08-01 10:15:17] Features: 9/1 -- score: 0.9339778576268859[Parallel(n_jobs=4)]: Using backend LokyBackend with 4 concurrent workers.\n",
      "[Parallel(n_jobs=4)]: Done   7 out of   9 | elapsed:    0.0s remaining:    0.0s\n",
      "[Parallel(n_jobs=4)]: Done   9 out of   9 | elapsed:    0.0s finished\n",
      "\n",
      "[2022-08-01 10:15:17] Features: 8/1 -- score: 0.926462369005787[Parallel(n_jobs=4)]: Using backend LokyBackend with 4 concurrent workers.\n",
      "[Parallel(n_jobs=4)]: Done   6 out of   8 | elapsed:    0.0s remaining:    0.0s\n",
      "[Parallel(n_jobs=4)]: Done   8 out of   8 | elapsed:    0.0s finished\n",
      "\n",
      "[2022-08-01 10:15:17] Features: 7/1 -- score: 0.9296338789119791[Parallel(n_jobs=4)]: Using backend LokyBackend with 4 concurrent workers.\n",
      "[Parallel(n_jobs=4)]: Done   4 out of   7 | elapsed:    0.0s remaining:    0.0s\n",
      "[Parallel(n_jobs=4)]: Done   7 out of   7 | elapsed:    0.0s finished\n",
      "\n",
      "[2022-08-01 10:15:17] Features: 6/1 -- score: 0.9250473585347785[Parallel(n_jobs=4)]: Using backend LokyBackend with 4 concurrent workers.\n",
      "[Parallel(n_jobs=4)]: Done   3 out of   6 | elapsed:    0.0s remaining:    0.0s\n",
      "[Parallel(n_jobs=4)]: Done   6 out of   6 | elapsed:    0.0s finished\n",
      "\n",
      "[2022-08-01 10:15:17] Features: 5/1 -- score: 0.9228513033378561[Parallel(n_jobs=4)]: Using backend LokyBackend with 4 concurrent workers.\n",
      "[Parallel(n_jobs=4)]: Done   5 out of   5 | elapsed:    0.0s finished\n",
      "\n",
      "[2022-08-01 10:15:17] Features: 4/1 -- score: 0.9299573670405555[Parallel(n_jobs=4)]: Using backend LokyBackend with 4 concurrent workers.\n",
      "[Parallel(n_jobs=4)]: Done   4 out of   4 | elapsed:    0.0s finished\n",
      "\n",
      "[2022-08-01 10:15:17] Features: 3/1 -- score: 0.9542046534459928[Parallel(n_jobs=3)]: Using backend LokyBackend with 3 concurrent workers.\n",
      "[Parallel(n_jobs=3)]: Done   3 out of   3 | elapsed:    0.2s finished\n",
      "\n",
      "[2022-08-01 10:15:17] Features: 2/1 -- score: 0.9549502552961258[Parallel(n_jobs=2)]: Using backend LokyBackend with 2 concurrent workers.\n",
      "[Parallel(n_jobs=2)]: Done   2 out of   2 | elapsed:    1.1s finished\n",
      "\n",
      "[2022-08-01 10:15:18] Features: 1/1 -- score: 0.9549502552961258"
     ]
    }
   ],
   "source": [
    "feat_sel = dp.SeqFeatSelection(n_jobs=4, forward=False)\n",
    "feat_sel.fit(X=train_x_scl, y=train_y)\n",
    "train_x_sel = feat_sel.transform(train_x_scl)\n",
    "test_x_sel = feat_sel.transform(test_x_scl)"
   ]
  },
  {
   "cell_type": "code",
   "execution_count": 21,
   "metadata": {},
   "outputs": [
    {
     "data": {
      "text/plain": [
       "['T3', 'T3_measured_y']"
      ]
     },
     "execution_count": 21,
     "metadata": {},
     "output_type": "execute_result"
    }
   ],
   "source": [
    "feat_sel.get_selected_features()"
   ]
  },
  {
   "cell_type": "code",
   "execution_count": 22,
   "metadata": {},
   "outputs": [
    {
     "name": "stdout",
     "output_type": "stream",
     "text": [
      "------------\n",
      "TEST\n",
      "------------\n",
      "[[683  35]\n",
      " [ 11  62]]\n"
     ]
    },
    {
     "data": {
      "image/png": "[encoded data removed]",
      "text/plain": [
       "<Figure size 432x288 with 2 Axes>"
      ]
     },
     "metadata": {
      "needs_background": "light"
     },
     "output_type": "display_data"
    },
    {
     "name": "stdout",
     "output_type": "stream",
     "text": [
      "Acuracy: 94.18%\n",
      "\n",
      "Precision:  0.8116625568198699\n",
      "\n",
      "Recall:  0.9002842751936505\n",
      "\n",
      "F1 =  0.8484169305115815\n",
      "\n",
      "ROC AUC =  0.9060365551188613\n"
     ]
    }
   ],
   "source": [
    "model = dp.train_model_plot_results(train_x_sel, train_y, test_x_sel, test_y, model_name=\"knn\", train_result=False, plot_pr=False)"
   ]
  },
  {
   "cell_type": "markdown",
   "metadata": {},
   "source": [
    "## 5 - Synthetic Data\n",
    "\n",
    "Since we have an imbalanced dataset, we can generate instances of the minority class to improve the balance between the classes. Below, we increase the quantity of minority instances (patients with disease) from 220 to 400.\n",
    "\n",
    "### imblearn Library"
   ]
  },
  {
   "cell_type": "code",
   "execution_count": 23,
   "metadata": {},
   "outputs": [
    {
     "data": {
      "text/plain": [
       "0    2152\n",
       "1     220\n",
       "Name: sick-euthyroid, dtype: int64"
      ]
     },
     "execution_count": 23,
     "metadata": {},
     "output_type": "execute_result"
    }
   ],
   "source": [
    "train_y.value_counts()"
   ]
  },
  {
   "cell_type": "code",
   "execution_count": 24,
   "metadata": {},
   "outputs": [
    {
     "name": "stdout",
     "output_type": "stream",
     "text": [
      "No columns specified for imputation. These columns have been automatically identified:\n",
      "[]\n",
      "new_col_names = []\n",
      "new_col_names = []\n",
      "Running oversampling...\n",
      "...finished\n"
     ]
    },
    {
     "data": {
      "text/plain": [
       "0    2152\n",
       "1     400\n",
       "Name: sick-euthyroid, dtype: int64"
      ]
     },
     "execution_count": 24,
     "metadata": {},
     "output_type": "execute_result"
    }
   ],
   "source": [
    "rebalance = dp.Rebalance(\n",
    "\t\t\t\tX=train_x_sel,\n",
    "\t\t\t\ty=train_y,\n",
    "\t\t\t\tstrategy_over={0:2152, 1:400},\n",
    "\t\t\t\tover_sampler=True,\n",
    "\t\t\t\tunder_sampler=False\n",
    "\t\t\t)\n",
    "train_x_res, train_y_res = rebalance.fit_resample()\n",
    "train_y_res.value_counts()"
   ]
  },
  {
   "cell_type": "code",
   "execution_count": 25,
   "metadata": {},
   "outputs": [
    {
     "name": "stdout",
     "output_type": "stream",
     "text": [
      "------------\n",
      "TEST\n",
      "------------\n",
      "[[621  97]\n",
      " [ 10  63]]\n"
     ]
    },
    {
     "data": {
      "image/png": "[encoded data removed]",
      "text/plain": [
       "<Figure size 432x288 with 2 Axes>"
      ]
     },
     "metadata": {
      "needs_background": "light"
     },
     "output_type": "display_data"
    },
    {
     "name": "stdout",
     "output_type": "stream",
     "text": [
      "Acuracy: 86.47%\n",
      "\n",
      "Precision:  0.6889510697305864\n",
      "\n",
      "Recall:  0.8639581027969627\n",
      "\n",
      "F1 =  0.730727259422812\n",
      "\n",
      "ROC AUC =  0.9024974243522723\n"
     ]
    }
   ],
   "source": [
    "model = dp.train_model_plot_results(train_x_res, train_y_res, test_x_sel, test_y, model_name=\"knn\", train_result=False, plot_pr=False)"
   ]
  },
  {
   "cell_type": "markdown",
   "metadata": {},
   "source": [
    "### Creating Artificial Data using Deep Learning\n",
    "\n",
    "#### CTGAN\n",
    "\n",
    "Let's use the dataset with the original categorical variables, since CTGAN is capable of dealing with categorical variables internally. We will start by re-encoding the ordinal variables. We then proceed to split the dataset before using the CTGAN. This guarantees that we don't contaminate our test set."
   ]
  },
  {
   "cell_type": "code",
   "execution_count": 26,
   "metadata": {},
   "outputs": [
    {
     "name": "stderr",
     "output_type": "stream",
     "text": [
      "/home/mmendonca/anaconda3/envs/rai/lib/python3.9/site-packages/sklearn/mixture/_base.py:277: ConvergenceWarning: Initialization 1 did not converge. Try different init parameters, or increase max_iter, tol or check for degenerate data.\n",
      "  warnings.warn(\n",
      "/home/mmendonca/anaconda3/envs/rai/lib/python3.9/site-packages/sklearn/mixture/_base.py:143: ConvergenceWarning: Number of distinct clusters (2) found smaller than n_clusters (10). Possibly due to duplicate points in X.\n",
      "  cluster.KMeans(\n",
      "/home/mmendonca/anaconda3/envs/rai/lib/python3.9/site-packages/ctgan/data_transformer.py:111: SettingWithCopyWarning: \n",
      "A value is trying to be set on a copy of a slice from a DataFrame.\n",
      "Try using .loc[row_indexer,col_indexer] = value instead\n",
      "\n",
      "See the caveats in the documentation: https://pandas.pydata.org/pandas-docs/stable/user_guide/indexing.html#returning-a-view-versus-a-copy\n",
      "  data[column_name] = data[column_name].to_numpy().flatten()\n",
      "/home/mmendonca/anaconda3/envs/rai/lib/python3.9/site-packages/ctgan/data_transformer.py:111: SettingWithCopyWarning: \n",
      "A value is trying to be set on a copy of a slice from a DataFrame.\n",
      "Try using .loc[row_indexer,col_indexer] = value instead\n",
      "\n",
      "See the caveats in the documentation: https://pandas.pydata.org/pandas-docs/stable/user_guide/indexing.html#returning-a-view-versus-a-copy\n",
      "  data[column_name] = data[column_name].to_numpy().flatten()\n"
     ]
    },
    {
     "data": {
      "text/plain": [
       "0    2152\n",
       "1     420\n",
       "Name: sick-euthyroid, dtype: int64"
      ]
     },
     "execution_count": 26,
     "metadata": {},
     "output_type": "execute_result"
    }
   ],
   "source": [
    "synth = dp.Synthesizer(\n",
    "\t\t\t\tX=train_x_sel,\n",
    "\t\t\t\ty=train_y,\n",
    "\t\t\t\tepochs=400,\n",
    "\t\t\t\tmodel=\"ctgan\",\n",
    "\t\t\t\tload_existing=True\n",
    "\t\t\t)\n",
    "synth.fit()\n",
    "\n",
    "conditions = {label_col:1}\t# create more of the undersampled class\n",
    "syn_train_x, syn_train_y = synth.transform(X=train_x_sel, y=train_y, n_samples=200, conditions=conditions)\n",
    "\n",
    "syn_train_y.value_counts()"
   ]
  },
  {
   "cell_type": "code",
   "execution_count": 27,
   "metadata": {},
   "outputs": [
    {
     "name": "stdout",
     "output_type": "stream",
     "text": [
      "------------\n",
      "TEST\n",
      "------------\n",
      "[[682  36]\n",
      " [ 11  62]]\n"
     ]
    },
    {
     "data": {
      "image/png": "[encoded data removed]",
      "text/plain": [
       "<Figure size 432x288 with 2 Axes>"
      ]
     },
     "metadata": {
      "needs_background": "light"
     },
     "output_type": "display_data"
    },
    {
     "name": "stdout",
     "output_type": "stream",
     "text": [
      "Acuracy: 94.06%\n",
      "\n",
      "Precision:  0.808390022675737\n",
      "\n",
      "Recall:  0.899587896363567\n",
      "\n",
      "F1 =  0.8459182447022351\n",
      "\n",
      "ROC AUC =  0.903937879192582\n"
     ]
    }
   ],
   "source": [
    "model = dp.train_model_plot_results(syn_train_x, syn_train_y, test_x_sel, test_y, model_name=\"knn\", train_result=False, plot_pr=False)"
   ]
  },
  {
   "cell_type": "markdown",
   "metadata": {},
   "source": [
    "Let's try creating more artificial instances and check how this impacts the model's performance."
   ]
  },
  {
   "cell_type": "code",
   "execution_count": 28,
   "metadata": {},
   "outputs": [
    {
     "name": "stdout",
     "output_type": "stream",
     "text": [
      "------------\n",
      "TEST\n",
      "------------\n",
      "[[637  81]\n",
      " [  7  66]]\n"
     ]
    },
    {
     "data": {
      "image/png": "[encoded data removed]",
      "text/plain": [
       "<Figure size 432x288 with 2 Axes>"
      ]
     },
     "metadata": {
      "needs_background": "light"
     },
     "output_type": "display_data"
    },
    {
     "name": "stdout",
     "output_type": "stream",
     "text": [
      "Acuracy: 88.87%\n",
      "\n",
      "Precision:  0.7190550133096717\n",
      "\n",
      "Recall:  0.8956481092837791\n",
      "\n",
      "F1 =  0.7676945668135096\n",
      "\n",
      "ROC AUC =  0.9237226695157783\n"
     ]
    }
   ],
   "source": [
    "conditions = {label_col:1}\t# create more of the undersampled class\n",
    "syn_train_x, syn_train_y = synth.transform(X=train_x_sel, y=train_y, n_samples=600, conditions=conditions)\n",
    "\n",
    "model = dp.train_model_plot_results(syn_train_x, syn_train_y, test_x_sel, test_y, model_name=\"knn\", train_result=False, plot_pr=False)"
   ]
  },
  {
   "cell_type": "markdown",
   "metadata": {},
   "source": [
    "#### TVAE\n",
    "\n",
    "Finally, we generate artificial instances using TVAE (a variational auto encoder for generating tabular data)."
   ]
  },
  {
   "cell_type": "code",
   "execution_count": 29,
   "metadata": {},
   "outputs": [
    {
     "name": "stderr",
     "output_type": "stream",
     "text": [
      "/home/mmendonca/anaconda3/envs/rai/lib/python3.9/site-packages/sklearn/mixture/_base.py:277: ConvergenceWarning: Initialization 1 did not converge. Try different init parameters, or increase max_iter, tol or check for degenerate data.\n",
      "  warnings.warn(\n",
      "/home/mmendonca/anaconda3/envs/rai/lib/python3.9/site-packages/sklearn/mixture/_base.py:143: ConvergenceWarning: Number of distinct clusters (2) found smaller than n_clusters (10). Possibly due to duplicate points in X.\n",
      "  cluster.KMeans(\n",
      "/home/mmendonca/anaconda3/envs/rai/lib/python3.9/site-packages/ctgan/data_transformer.py:111: SettingWithCopyWarning: \n",
      "A value is trying to be set on a copy of a slice from a DataFrame.\n",
      "Try using .loc[row_indexer,col_indexer] = value instead\n",
      "\n",
      "See the caveats in the documentation: https://pandas.pydata.org/pandas-docs/stable/user_guide/indexing.html#returning-a-view-versus-a-copy\n",
      "  data[column_name] = data[column_name].to_numpy().flatten()\n",
      "/home/mmendonca/anaconda3/envs/rai/lib/python3.9/site-packages/ctgan/data_transformer.py:111: SettingWithCopyWarning: \n",
      "A value is trying to be set on a copy of a slice from a DataFrame.\n",
      "Try using .loc[row_indexer,col_indexer] = value instead\n",
      "\n",
      "See the caveats in the documentation: https://pandas.pydata.org/pandas-docs/stable/user_guide/indexing.html#returning-a-view-versus-a-copy\n",
      "  data[column_name] = data[column_name].to_numpy().flatten()\n"
     ]
    },
    {
     "name": "stdout",
     "output_type": "stream",
     "text": [
      "------------\n",
      "TEST\n",
      "------------\n",
      "[[671  47]\n",
      " [  8  65]]\n"
     ]
    },
    {
     "data": {
      "image/png": "[encoded data removed]",
      "text/plain": [
       "<Figure size 432x288 with 2 Axes>"
      ]
     },
     "metadata": {
      "needs_background": "light"
     },
     "output_type": "display_data"
    },
    {
     "name": "stdout",
     "output_type": "stream",
     "text": [
      "Acuracy: 93.05%\n",
      "\n",
      "Precision:  0.7842875552282769\n",
      "\n",
      "Recall:  0.9124756744381273\n",
      "\n",
      "F1 =  0.8316663119812726\n",
      "\n",
      "ROC AUC =  0.9238657610562063\n"
     ]
    }
   ],
   "source": [
    "synth = dp.Synthesizer(\n",
    "\t\t\t\tX=train_x_sel,\n",
    "\t\t\t\ty=train_y,\n",
    "\t\t\t\tepochs=400,\n",
    "\t\t\t\tmodel=\"tvae\",\n",
    "\t\t\t\tload_existing=True\n",
    "\t\t\t)\n",
    "synth.fit()\n",
    "\n",
    "conditions = {label_col:1}\t# create more of the undersampled class\n",
    "syn2_train_x, syn2_train_y = synth.transform(X=train_x_sel, y=train_y, n_samples=200, conditions=conditions)\n",
    "\n",
    "model = dp.train_model_plot_results(syn2_train_x, syn2_train_y, test_x_sel, test_y, model_name=\"knn\", train_result=False, plot_pr=False)"
   ]
  }
 ],
 "metadata": {
  "kernelspec": {
   "display_name": "Python 3.8.13 ('rai')",
   "language": "python",
   "name": "python3"
  },
  "language_info": {
   "codemirror_mode": {
    "name": "ipython",
    "version": 3
   },
   "file_extension": ".py",
   "mimetype": "text/x-python",
   "name": "python",
   "nbconvert_exporter": "python",
   "pygments_lexer": "ipython3",
   "version": "3.8.13"
  },
  "vscode": {
   "interpreter": {
    "hash": "84fbc7b41fd4e2e5309bc9ceaf402b3256461a3db19b05c6b76455652ef11b9b"
   }
  }
 },
 "nbformat": 4,
 "nbformat_minor": 2
}
