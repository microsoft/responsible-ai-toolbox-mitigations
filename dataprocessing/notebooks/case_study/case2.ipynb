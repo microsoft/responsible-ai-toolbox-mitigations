{
 "cells": [
  {
   "cell_type": "code",
   "execution_count": 1,
   "metadata": {},
   "outputs": [],
   "source": [
    "import pandas as pd\n",
    "import numpy as np\n",
    "import uci_dataset as database\n",
    "\n",
    "import raimitigations.dataprocessing as dp"
   ]
  },
  {
   "cell_type": "markdown",
   "metadata": {},
   "source": [
    "# Case Study 2\n",
    "\n",
    "## 1 - Understanding the Data\n",
    "\n",
    "In this example, we will build a classifier to detect diseased trees using the `dataprocessing` library, with data from the `uci_dataset`. The data itself comes from spectral imagery, and the data columns relate to features in the imagery.\n",
    "\n",
    "The data columns have the following meaning:\n",
    "- class: 'w' (diseased trees), 'n' (all other land cover)\n",
    "- GLCM_Pan: GLCM mean texture (Pan band)\n",
    "- Mean_G: Mean green value\n",
    "- Mean_R: Mean red value\n",
    "- Mean_NIR: Mean NIR value\n",
    "- SD_Pan: Standard deviation (Pan band)"
   ]
  },
  {
   "cell_type": "code",
   "execution_count": 2,
   "metadata": {},
   "outputs": [
    {
     "data": {
      "text/html": [
       "<div>\n",
       "<style scoped>\n",
       "    .dataframe tbody tr th:only-of-type {\n",
       "        vertical-align: middle;\n",
       "    }\n",
       "\n",
       "    .dataframe tbody tr th {\n",
       "        vertical-align: top;\n",
       "    }\n",
       "\n",
       "    .dataframe thead th {\n",
       "        text-align: right;\n",
       "    }\n",
       "</style>\n",
       "<table border=\"1\" class=\"dataframe\">\n",
       "  <thead>\n",
       "    <tr style=\"text-align: right;\">\n",
       "      <th></th>\n",
       "      <th>class</th>\n",
       "      <th>GLCM_pan</th>\n",
       "      <th>Mean_Green</th>\n",
       "      <th>Mean_Red</th>\n",
       "      <th>Mean_NIR</th>\n",
       "      <th>SD_pan</th>\n",
       "    </tr>\n",
       "  </thead>\n",
       "  <tbody>\n",
       "    <tr>\n",
       "      <th>0</th>\n",
       "      <td>w</td>\n",
       "      <td>120.362774</td>\n",
       "      <td>205.500000</td>\n",
       "      <td>119.395349</td>\n",
       "      <td>416.581395</td>\n",
       "      <td>20.676318</td>\n",
       "    </tr>\n",
       "    <tr>\n",
       "      <th>1</th>\n",
       "      <td>w</td>\n",
       "      <td>124.739583</td>\n",
       "      <td>202.800000</td>\n",
       "      <td>115.333333</td>\n",
       "      <td>354.333333</td>\n",
       "      <td>16.707151</td>\n",
       "    </tr>\n",
       "    <tr>\n",
       "      <th>2</th>\n",
       "      <td>w</td>\n",
       "      <td>134.691964</td>\n",
       "      <td>199.285714</td>\n",
       "      <td>116.857143</td>\n",
       "      <td>477.857143</td>\n",
       "      <td>22.496712</td>\n",
       "    </tr>\n",
       "    <tr>\n",
       "      <th>3</th>\n",
       "      <td>w</td>\n",
       "      <td>127.946309</td>\n",
       "      <td>178.368421</td>\n",
       "      <td>92.368421</td>\n",
       "      <td>278.473684</td>\n",
       "      <td>14.977453</td>\n",
       "    </tr>\n",
       "    <tr>\n",
       "      <th>4</th>\n",
       "      <td>w</td>\n",
       "      <td>135.431548</td>\n",
       "      <td>197.000000</td>\n",
       "      <td>112.690476</td>\n",
       "      <td>532.952381</td>\n",
       "      <td>17.604193</td>\n",
       "    </tr>\n",
       "    <tr>\n",
       "      <th>...</th>\n",
       "      <td>...</td>\n",
       "      <td>...</td>\n",
       "      <td>...</td>\n",
       "      <td>...</td>\n",
       "      <td>...</td>\n",
       "      <td>...</td>\n",
       "    </tr>\n",
       "    <tr>\n",
       "      <th>495</th>\n",
       "      <td>n</td>\n",
       "      <td>123.554348</td>\n",
       "      <td>202.826087</td>\n",
       "      <td>106.391304</td>\n",
       "      <td>364.565217</td>\n",
       "      <td>17.314068</td>\n",
       "    </tr>\n",
       "    <tr>\n",
       "      <th>496</th>\n",
       "      <td>n</td>\n",
       "      <td>121.549028</td>\n",
       "      <td>276.220000</td>\n",
       "      <td>175.593333</td>\n",
       "      <td>402.620000</td>\n",
       "      <td>13.394574</td>\n",
       "    </tr>\n",
       "    <tr>\n",
       "      <th>497</th>\n",
       "      <td>n</td>\n",
       "      <td>119.076687</td>\n",
       "      <td>247.951220</td>\n",
       "      <td>113.365854</td>\n",
       "      <td>808.024390</td>\n",
       "      <td>24.830059</td>\n",
       "    </tr>\n",
       "    <tr>\n",
       "      <th>498</th>\n",
       "      <td>n</td>\n",
       "      <td>107.944444</td>\n",
       "      <td>197.000000</td>\n",
       "      <td>90.000000</td>\n",
       "      <td>451.000000</td>\n",
       "      <td>8.214887</td>\n",
       "    </tr>\n",
       "    <tr>\n",
       "      <th>499</th>\n",
       "      <td>n</td>\n",
       "      <td>119.731928</td>\n",
       "      <td>182.238095</td>\n",
       "      <td>74.285714</td>\n",
       "      <td>301.690476</td>\n",
       "      <td>22.944278</td>\n",
       "    </tr>\n",
       "  </tbody>\n",
       "</table>\n",
       "<p>4839 rows × 6 columns</p>\n",
       "</div>"
      ],
      "text/plain": [
       "    class    GLCM_pan  Mean_Green    Mean_Red    Mean_NIR     SD_pan\n",
       "0       w  120.362774  205.500000  119.395349  416.581395  20.676318\n",
       "1       w  124.739583  202.800000  115.333333  354.333333  16.707151\n",
       "2       w  134.691964  199.285714  116.857143  477.857143  22.496712\n",
       "3       w  127.946309  178.368421   92.368421  278.473684  14.977453\n",
       "4       w  135.431548  197.000000  112.690476  532.952381  17.604193\n",
       "..    ...         ...         ...         ...         ...        ...\n",
       "495     n  123.554348  202.826087  106.391304  364.565217  17.314068\n",
       "496     n  121.549028  276.220000  175.593333  402.620000  13.394574\n",
       "497     n  119.076687  247.951220  113.365854  808.024390  24.830059\n",
       "498     n  107.944444  197.000000   90.000000  451.000000   8.214887\n",
       "499     n  119.731928  182.238095   74.285714  301.690476  22.944278\n",
       "\n",
       "[4839 rows x 6 columns]"
      ]
     },
     "execution_count": 2,
     "metadata": {},
     "output_type": "execute_result"
    }
   ],
   "source": [
    "df = database.load_wilt()\n",
    "label_col = \"class\"\n",
    "df"
   ]
  },
  {
   "cell_type": "code",
   "execution_count": 3,
   "metadata": {},
   "outputs": [
    {
     "name": "stdout",
     "output_type": "stream",
     "text": [
      "<class 'pandas.core.frame.DataFrame'>\n",
      "Int64Index: 4839 entries, 0 to 499\n",
      "Data columns (total 6 columns):\n",
      " #   Column      Non-Null Count  Dtype  \n",
      "---  ------      --------------  -----  \n",
      " 0   class       4839 non-null   int64  \n",
      " 1   GLCM_pan    4839 non-null   float64\n",
      " 2   Mean_Green  4839 non-null   float64\n",
      " 3   Mean_Red    4839 non-null   float64\n",
      " 4   Mean_NIR    4839 non-null   float64\n",
      " 5   SD_pan      4839 non-null   float64\n",
      "dtypes: float64(5), int64(1)\n",
      "memory usage: 264.6 KB\n"
     ]
    }
   ],
   "source": [
    "df[label_col] = df[label_col].replace({\"w\": 1, \"n\": 0})\n",
    "df.info()\n"
   ]
  },
  {
   "cell_type": "code",
   "execution_count": 24,
   "metadata": {},
   "outputs": [
    {
     "data": {
      "text/plain": [
       "class         False\n",
       "GLCM_pan      False\n",
       "Mean_Green    False\n",
       "Mean_Red      False\n",
       "Mean_NIR      False\n",
       "SD_pan        False\n",
       "dtype: bool"
      ]
     },
     "execution_count": 24,
     "metadata": {},
     "output_type": "execute_result"
    }
   ],
   "source": [
    "df.isna().any()"
   ]
  },
  {
   "cell_type": "markdown",
   "metadata": {},
   "source": [
    "First, we will try to determine if any of the features are correlated, and remove the correlated features."
   ]
  },
  {
   "cell_type": "code",
   "execution_count": 4,
   "metadata": {},
   "outputs": [
    {
     "name": "stdout",
     "output_type": "stream",
     "text": [
      "No correlations detected. Nothing to be done here.\n"
     ]
    },
    {
     "data": {
      "text/plain": [
       "<raimitigations.dataprocessing.feat_selection.correlated_features.CorrelatedFeatures at 0x2759e35b940>"
      ]
     },
     "execution_count": 4,
     "metadata": {},
     "output_type": "execute_result"
    }
   ],
   "source": [
    "cor_feat = dp.CorrelatedFeatures(\n",
    "\t\t\t\t\tmethod_num_num=[\"spearman\", \"pearson\", \"kendall\"],\t\t\t\t# Used for Numerical x Numerical correlations\n",
    "\t\t\t\t\tnum_corr_th=0.9,\t\t\t\t\t\t\t\t\t\t\t\t# Used for Numerical x Numerical correlations\n",
    "\t\t\t\t\tnum_pvalue_th=0.05,\t\t\t\t\t\t\t\t\t\t\t\t# Used for Numerical x Numerical correlations\n",
    "\t\t\t\t\tmethod_num_cat=\"model\",\t\t\t\t\t\t\t\t\t\t\t# Used for Numerical x Categorical correlations\n",
    "\t\t\t\t\tmodel_metrics=[\"f1\", \"auc\"],\t\t\t\t\t\t\t\t\t# Used for Numerical x Categorical correlations\n",
    "\t\t\t\t\tmetric_th=0.9,\t\t\t\t\t\t\t\t\t\t\t\t\t# Used for Numerical x Categorical correlations\n",
    "\t\t\t\t\tcat_corr_th=0.9,\t\t\t\t\t\t\t\t\t\t\t\t# Used for Categorical x Categorical correlations\n",
    "\t\t\t\t\tcat_pvalue_th=0.01,\t\t\t\t\t\t\t\t\t\t\t\t# Used for Categorical x Categorical correlations\n",
    "\t\t\t\t\tjson_summary=\"./corr_json/c2_summary.json\",\n",
    "\t\t\t\t\tjson_corr=\"./corr_json/c2_corr.json\",\n",
    "\t\t\t\t\tjson_uncorr=\"./corr_json/c2_uncorr.json\"\n",
    "\t\t\t\t)\n",
    "cor_feat.fit(df=df, label_col=label_col)"
   ]
  },
  {
   "cell_type": "markdown",
   "metadata": {},
   "source": [
    "Remember to look through the JSON files generated in the previous cell. But, according to the thresholds we have set, no features are correlated."
   ]
  },
  {
   "cell_type": "markdown",
   "metadata": {},
   "source": [
    "## 2 - Baseline Models"
   ]
  },
  {
   "cell_type": "code",
   "execution_count": 5,
   "metadata": {},
   "outputs": [
    {
     "data": {
      "text/plain": [
       "0    4578\n",
       "1     261\n",
       "Name: class, dtype: int64"
      ]
     },
     "execution_count": 5,
     "metadata": {},
     "output_type": "execute_result"
    }
   ],
   "source": [
    "df[label_col].value_counts()"
   ]
  },
  {
   "cell_type": "markdown",
   "metadata": {},
   "source": [
    "In this example, we have an imbalanced dataset (most trees are not diseased). While we will take a look at a number of different metrics, we will be focused on improved the F1 score for this dataset.\n",
    "\n",
    "After splitting the data into train and test sets, we will build two baseline models, one with XGBoost, and the other with KNN."
   ]
  },
  {
   "cell_type": "code",
   "execution_count": 6,
   "metadata": {},
   "outputs": [],
   "source": [
    "train_x, test_x, train_y, test_y = dp.split_data(df, label_col, test_size=0.25)"
   ]
  },
  {
   "cell_type": "code",
   "execution_count": 7,
   "metadata": {},
   "outputs": [
    {
     "name": "stdout",
     "output_type": "stream",
     "text": [
      "------------\n",
      "TEST\n",
      "------------\n",
      "[[1100   45]\n",
      " [   3   62]]\n"
     ]
    },
    {
     "data": {
      "image/png": "[encoded data removed]",
      "text/plain": [
       "<Figure size 432x288 with 2 Axes>"
      ]
     },
     "metadata": {
      "needs_background": "light"
     },
     "output_type": "display_data"
    },
    {
     "name": "stdout",
     "output_type": "stream",
     "text": [
      "Acuracy: 96.03%\n",
      "\n",
      "Precision:  0.7883596986976893\n",
      "\n",
      "Recall:  0.957272421901243\n",
      "\n",
      "F1 =  0.8497889596954399\n",
      "\n",
      "ROC AUC =  0.9898958683238159\n"
     ]
    }
   ],
   "source": [
    "model = dp.train_model_plot_results(train_x, train_y, test_x, test_y, model_name=\"xgb\", train_result=False, plot_pr=False)"
   ]
  },
  {
   "cell_type": "code",
   "execution_count": 8,
   "metadata": {},
   "outputs": [
    {
     "name": "stdout",
     "output_type": "stream",
     "text": [
      "------------\n",
      "TEST\n",
      "------------\n",
      "[[1100   45]\n",
      " [   8   57]]\n"
     ]
    },
    {
     "data": {
      "image/png": "[encoded data removed]",
      "text/plain": [
       "<Figure size 432x288 with 2 Axes>"
      ]
     },
     "metadata": {
      "needs_background": "light"
     },
     "output_type": "display_data"
    },
    {
     "name": "stdout",
     "output_type": "stream",
     "text": [
      "Acuracy: 95.62%\n",
      "\n",
      "Precision:  0.7758016564026333\n",
      "\n",
      "Recall:  0.9188108834397044\n",
      "\n",
      "F1 =  0.829555270284996\n",
      "\n",
      "ROC AUC =  0.9331877729257643\n"
     ]
    }
   ],
   "source": [
    "model = dp.train_model_plot_results(train_x, train_y, test_x, test_y, model_name=\"knn\", train_result=False, plot_pr=False)"
   ]
  },
  {
   "cell_type": "markdown",
   "metadata": {},
   "source": [
    "For a baseline, XGBoost and KNN have F1 scores around 0.86 (this will depend on your train/test split if you rerun this notebook). We will now proceed to try and improve on these results."
   ]
  },
  {
   "cell_type": "markdown",
   "metadata": {},
   "source": [
    "## 3 - Data Transformation"
   ]
  },
  {
   "cell_type": "markdown",
   "metadata": {},
   "source": [
    "### DataMinMaxScaler"
   ]
  },
  {
   "cell_type": "markdown",
   "metadata": {},
   "source": [
    "The first data transformation we will perform is a MinMaxScaler, which will scale each feature to have a range between zero and one. This does not improve the results."
   ]
  },
  {
   "cell_type": "code",
   "execution_count": 9,
   "metadata": {},
   "outputs": [
    {
     "name": "stdout",
     "output_type": "stream",
     "text": [
      "------------\n",
      "TEST\n",
      "------------\n",
      "[[1003  142]\n",
      " [  15   50]]\n"
     ]
    },
    {
     "data": {
      "image/png": "[encoded data removed]",
      "text/plain": [
       "<Figure size 432x288 with 2 Axes>"
      ]
     },
     "metadata": {
      "needs_background": "light"
     },
     "output_type": "display_data"
    },
    {
     "name": "stdout",
     "output_type": "stream",
     "text": [
      "Acuracy: 87.02%\n",
      "\n",
      "Precision:  0.6228409462999345\n",
      "\n",
      "Recall:  0.8226066509909304\n",
      "\n",
      "F1 =  0.6582603424052558\n",
      "\n",
      "ROC AUC =  0.8433053409472623\n"
     ]
    }
   ],
   "source": [
    "scaler = dp.DataMinMaxScaler()\n",
    "scaler.fit(train_x)\n",
    "train_x_scl = scaler.transform(train_x)\n",
    "test_x_scl = scaler.transform(test_x)\n",
    "model = dp.train_model_plot_results(train_x_scl, train_y, test_x_scl, test_y, model_name=\"knn\", train_result=False, plot_pr=False)"
   ]
  },
  {
   "cell_type": "markdown",
   "metadata": {},
   "source": [
    "### DataNormalizer"
   ]
  },
  {
   "cell_type": "markdown",
   "metadata": {},
   "source": [
    "Next we try `DataNormalizer`, which will scale the vectors to have unit norm (i.e. vector of length one). This is often used in text classification, but we will use it here as well. But it does not improve the results."
   ]
  },
  {
   "cell_type": "code",
   "execution_count": 10,
   "metadata": {},
   "outputs": [
    {
     "name": "stdout",
     "output_type": "stream",
     "text": [
      "No columns specified for imputation. These columns have been automatically identified:\n",
      "[]\n",
      "------------\n",
      "TEST\n",
      "------------\n",
      "[[1100   45]\n",
      " [   5   60]]\n"
     ]
    },
    {
     "data": {
      "image/png": "[encoded data removed]",
      "text/plain": [
       "<Figure size 432x288 with 2 Axes>"
      ]
     },
     "metadata": {
      "needs_background": "light"
     },
     "output_type": "display_data"
    },
    {
     "name": "stdout",
     "output_type": "stream",
     "text": [
      "Acuracy: 95.87%\n",
      "\n",
      "Precision:  0.7834518422753717\n",
      "\n",
      "Recall:  0.9418878065166275\n",
      "\n",
      "F1 =  0.8418300653594771\n",
      "\n",
      "ROC AUC =  0.9543836076587169\n"
     ]
    }
   ],
   "source": [
    "scaler = dp.DataNormalizer()\n",
    "scaler.fit(train_x)\n",
    "train_x_scl = scaler.transform(train_x)\n",
    "test_x_scl = scaler.transform(test_x)\n",
    "model = dp.train_model_plot_results(train_x_scl, train_y, test_x_scl, test_y, model_name=\"knn\", train_result=False, plot_pr=False)"
   ]
  },
  {
   "cell_type": "markdown",
   "metadata": {},
   "source": [
    "### DataStandardScaler"
   ]
  },
  {
   "cell_type": "markdown",
   "metadata": {},
   "source": [
    "The standard scaler sets the mean to zero and scales the vectors to have unit variance."
   ]
  },
  {
   "cell_type": "code",
   "execution_count": 11,
   "metadata": {},
   "outputs": [
    {
     "name": "stdout",
     "output_type": "stream",
     "text": [
      "------------\n",
      "TEST\n",
      "------------\n",
      "[[1076   69]\n",
      " [  11   54]]\n"
     ]
    },
    {
     "data": {
      "image/png": "[encoded data removed]",
      "text/plain": [
       "<Figure size 432x288 with 2 Axes>"
      ]
     },
     "metadata": {
      "needs_background": "light"
     },
     "output_type": "display_data"
    },
    {
     "name": "stdout",
     "output_type": "stream",
     "text": [
      "Acuracy: 93.39%\n",
      "\n",
      "Precision:  0.7144523975138556\n",
      "\n",
      "Recall:  0.8852536110178032\n",
      "\n",
      "F1 =  0.7693128955997866\n",
      "\n",
      "ROC AUC =  0.9034329862277461\n"
     ]
    }
   ],
   "source": [
    "scaler = dp.DataStandardScaler()\n",
    "scaler.fit(train_x)\n",
    "train_x_scl = scaler.transform(train_x)\n",
    "test_x_scl = scaler.transform(test_x)\n",
    "model = dp.train_model_plot_results(train_x_scl, train_y, test_x_scl, test_y, model_name=\"knn\", train_result=False, plot_pr=False)"
   ]
  },
  {
   "cell_type": "markdown",
   "metadata": {},
   "source": [
    "### DataQuantileTransformer\n",
    "\n",
    "The Quantile Transformer transforms the each feature to have a normal distribution."
   ]
  },
  {
   "cell_type": "code",
   "execution_count": 12,
   "metadata": {},
   "outputs": [
    {
     "name": "stdout",
     "output_type": "stream",
     "text": [
      "------------\n",
      "TEST\n",
      "------------\n",
      "[[1094   51]\n",
      " [   5   60]]\n"
     ]
    },
    {
     "data": {
      "image/png": "[encoded data removed]",
      "text/plain": [
       "<Figure size 432x288 with 2 Axes>"
      ]
     },
     "metadata": {
      "needs_background": "light"
     },
     "output_type": "display_data"
    },
    {
     "name": "stdout",
     "output_type": "stream",
     "text": [
      "Acuracy: 95.37%\n",
      "\n",
      "Precision:  0.7679954750018445\n",
      "\n",
      "Recall:  0.939267719180383\n",
      "\n",
      "F1 =  0.8284313725490196\n",
      "\n",
      "ROC AUC =  0.955115888478334\n"
     ]
    }
   ],
   "source": [
    "scaler = dp.DataQuantileTransformer()\n",
    "scaler.fit(train_x)\n",
    "train_x_scl = scaler.transform(train_x)\n",
    "test_x_scl = scaler.transform(test_x)\n",
    "model = dp.train_model_plot_results(train_x_scl, train_y, test_x_scl, test_y, model_name=\"knn\", train_result=False, plot_pr=False)"
   ]
  },
  {
   "cell_type": "markdown",
   "metadata": {},
   "source": [
    "As we can see, this transformation had some impact in the results (depends on the seed used) when we use KNN. Let's check how this data transformation impacts the XGBoost model:"
   ]
  },
  {
   "cell_type": "code",
   "execution_count": 13,
   "metadata": {},
   "outputs": [
    {
     "name": "stdout",
     "output_type": "stream",
     "text": [
      "------------\n",
      "TEST\n",
      "------------\n",
      "[[1100   45]\n",
      " [   3   62]]\n"
     ]
    },
    {
     "data": {
      "image/png": "[encoded data removed]",
      "text/plain": [
       "<Figure size 432x288 with 2 Axes>"
      ]
     },
     "metadata": {
      "needs_background": "light"
     },
     "output_type": "display_data"
    },
    {
     "name": "stdout",
     "output_type": "stream",
     "text": [
      "Acuracy: 96.03%\n",
      "\n",
      "Precision:  0.7883596986976893\n",
      "\n",
      "Recall:  0.957272421901243\n",
      "\n",
      "F1 =  0.8497889596954399\n",
      "\n",
      "ROC AUC =  0.9899361773597581\n"
     ]
    }
   ],
   "source": [
    "model = dp.train_model_plot_results(train_x_scl, train_y, test_x_scl, test_y, model_name=\"xgb\", train_result=False, plot_pr=False)"
   ]
  },
  {
   "cell_type": "markdown",
   "metadata": {},
   "source": [
    "As depicted above, the results for the XGBoost remains the same as before. This shows us that data transformations are more impactful in certain models and less meaningful in others.\n",
    "\n",
    "### DataRobustScaler"
   ]
  },
  {
   "cell_type": "markdown",
   "metadata": {},
   "source": [
    "The robust scaler centers the data (median=zero) and scales the data based on the interquartile range (IQR)."
   ]
  },
  {
   "cell_type": "code",
   "execution_count": 14,
   "metadata": {},
   "outputs": [
    {
     "name": "stdout",
     "output_type": "stream",
     "text": [
      "------------\n",
      "TEST\n",
      "------------\n",
      "[[1105   40]\n",
      " [   5   60]]\n"
     ]
    },
    {
     "data": {
      "image/png": "[encoded data removed]",
      "text/plain": [
       "<Figure size 432x288 with 2 Axes>"
      ]
     },
     "metadata": {
      "needs_background": "light"
     },
     "output_type": "display_data"
    },
    {
     "name": "stdout",
     "output_type": "stream",
     "text": [
      "Acuracy: 96.28%\n",
      "\n",
      "Precision:  0.7977477477477477\n",
      "\n",
      "Recall:  0.9440712126301647\n",
      "\n",
      "F1 =  0.853658536585366\n",
      "\n",
      "ROC AUC =  0.9577426939872354\n"
     ]
    }
   ],
   "source": [
    "scaler = dp.DataRobustScaler()\n",
    "scaler.fit(train_x)\n",
    "train_x_scl = scaler.transform(train_x)\n",
    "test_x_scl = scaler.transform(test_x)\n",
    "model = dp.train_model_plot_results(train_x_scl, train_y, test_x_scl, test_y, model_name=\"knn\", train_result=False, plot_pr=False)"
   ]
  },
  {
   "cell_type": "markdown",
   "metadata": {},
   "source": [
    "### DataPowerTransformer"
   ]
  },
  {
   "cell_type": "markdown",
   "metadata": {},
   "source": [
    "The power transformer makes the data more Gaussian-like (by default using the Yeo-Johnson transform)."
   ]
  },
  {
   "cell_type": "code",
   "execution_count": 15,
   "metadata": {},
   "outputs": [
    {
     "name": "stdout",
     "output_type": "stream",
     "text": [
      "------------\n",
      "TEST\n",
      "------------\n",
      "[[1105   40]\n",
      " [   5   60]]\n"
     ]
    },
    {
     "data": {
      "image/png": "[encoded data removed]",
      "text/plain": [
       "<Figure size 432x288 with 2 Axes>"
      ]
     },
     "metadata": {
      "needs_background": "light"
     },
     "output_type": "display_data"
    },
    {
     "name": "stdout",
     "output_type": "stream",
     "text": [
      "Acuracy: 96.28%\n",
      "\n",
      "Precision:  0.7977477477477477\n",
      "\n",
      "Recall:  0.9440712126301647\n",
      "\n",
      "F1 =  0.853658536585366\n",
      "\n",
      "ROC AUC =  0.9568558951965066\n"
     ]
    }
   ],
   "source": [
    "scaler = dp.DataPowerTransformer()\n",
    "scaler.fit(train_x)\n",
    "train_x_scl = scaler.transform(train_x)\n",
    "test_x_scl = scaler.transform(test_x)\n",
    "model = dp.train_model_plot_results(train_x_scl, train_y, test_x_scl, test_y, model_name=\"knn\", train_result=False, plot_pr=False)"
   ]
  },
  {
   "cell_type": "markdown",
   "metadata": {},
   "source": [
    "## 4 - Feature Selection"
   ]
  },
  {
   "cell_type": "markdown",
   "metadata": {},
   "source": [
    "Without much success at improving the F1-score using the data scalers, we will proceed to feature selection to improve the model. We start out with 5 features, and use feature selection to remove unneeded features."
   ]
  },
  {
   "cell_type": "code",
   "execution_count": 16,
   "metadata": {},
   "outputs": [
    {
     "name": "stdout",
     "output_type": "stream",
     "text": [
      "No columns specified for imputation. These columns have been automatically identified:\n",
      "[]\n",
      "No columns specified for encoding. These columns have been automatically identfied as the following:\n",
      "[]\n"
     ]
    },
    {
     "name": "stderr",
     "output_type": "stream",
     "text": [
      "[Parallel(n_jobs=4)]: Using backend LokyBackend with 4 concurrent workers.\n",
      "[Parallel(n_jobs=4)]: Done   5 out of   5 | elapsed:    3.6s finished\n",
      "\n",
      "[2022-08-02 12:30:10] Features: 4/1 -- score: 0.8853169756008183[Parallel(n_jobs=4)]: Using backend LokyBackend with 4 concurrent workers.\n",
      "[Parallel(n_jobs=4)]: Done   4 out of   4 | elapsed:    0.0s finished\n",
      "\n",
      "[2022-08-02 12:30:10] Features: 3/1 -- score: 0.836481331623253[Parallel(n_jobs=3)]: Using backend LokyBackend with 3 concurrent workers.\n",
      "[Parallel(n_jobs=3)]: Done   3 out of   3 | elapsed:    3.4s finished\n",
      "\n",
      "[2022-08-02 12:30:14] Features: 2/1 -- score: 0.8715549855287846[Parallel(n_jobs=2)]: Using backend LokyBackend with 2 concurrent workers.\n",
      "[Parallel(n_jobs=2)]: Done   2 out of   2 | elapsed:    3.2s finished\n",
      "\n",
      "[2022-08-02 12:30:18] Features: 1/1 -- score: 0.5507882838618479"
     ]
    }
   ],
   "source": [
    "feat_sel = dp.SeqFeatSelection(n_jobs=4, forward=False)\n",
    "feat_sel.fit(X=train_x_scl, y=train_y)\n",
    "train_x_sel = feat_sel.transform(train_x_scl)\n",
    "test_x_sel = feat_sel.transform(test_x_scl)"
   ]
  },
  {
   "cell_type": "code",
   "execution_count": 17,
   "metadata": {},
   "outputs": [
    {
     "data": {
      "text/plain": [
       "['Mean_Green', 'Mean_Red', 'Mean_NIR', 'SD_pan']"
      ]
     },
     "execution_count": 17,
     "metadata": {},
     "output_type": "execute_result"
    }
   ],
   "source": [
    "feat_sel.get_selected_features()"
   ]
  },
  {
   "cell_type": "markdown",
   "metadata": {},
   "source": [
    "Here, sequential feature selection has removed one of the features (SD_pan), which has led to a slight improvement in F1-score."
   ]
  },
  {
   "cell_type": "code",
   "execution_count": 18,
   "metadata": {},
   "outputs": [
    {
     "name": "stdout",
     "output_type": "stream",
     "text": [
      "------------\n",
      "TEST\n",
      "------------\n",
      "[[1119   26]\n",
      " [   4   61]]\n"
     ]
    },
    {
     "data": {
      "image/png": "[encoded data removed]",
      "text/plain": [
       "<Figure size 432x288 with 2 Axes>"
      ]
     },
     "metadata": {
      "needs_background": "light"
     },
     "output_type": "display_data"
    },
    {
     "name": "stdout",
     "output_type": "stream",
     "text": [
      "Acuracy: 97.52%\n",
      "\n",
      "Precision:  0.8487937687434111\n",
      "\n",
      "Recall:  0.9578770574403762\n",
      "\n",
      "F1 =  0.8947020328599276\n",
      "\n",
      "ROC AUC =  0.9660194827007055\n"
     ]
    }
   ],
   "source": [
    "model = dp.train_model_plot_results(train_x_sel, train_y, test_x_sel, test_y, model_name=\"knn\", train_result=False, plot_pr=False)"
   ]
  },
  {
   "cell_type": "markdown",
   "metadata": {},
   "source": [
    "## 5 - Synthetic Data\n",
    "\n",
    "### imblearn Library\n",
    "\n",
    "With unbalanced classes, we can instead choose to create synthetic data for the minority class. Here we use `Rebalance`, which connects to the `imblearn` library."
   ]
  },
  {
   "cell_type": "code",
   "execution_count": 19,
   "metadata": {},
   "outputs": [
    {
     "data": {
      "text/plain": [
       "0    3433\n",
       "1     196\n",
       "Name: class, dtype: int64"
      ]
     },
     "execution_count": 19,
     "metadata": {},
     "output_type": "execute_result"
    }
   ],
   "source": [
    "train_y.value_counts()"
   ]
  },
  {
   "cell_type": "code",
   "execution_count": 20,
   "metadata": {},
   "outputs": [
    {
     "name": "stdout",
     "output_type": "stream",
     "text": [
      "No columns specified for imputation. These columns have been automatically identified:\n",
      "[]\n",
      "Running oversampling...\n",
      "...finished\n"
     ]
    },
    {
     "data": {
      "text/plain": [
       "0    3433\n",
       "1     400\n",
       "Name: class, dtype: int64"
      ]
     },
     "execution_count": 20,
     "metadata": {},
     "output_type": "execute_result"
    }
   ],
   "source": [
    "rebalance = dp.Rebalance(\n",
    "\t\t\t\tX=train_x_sel,\n",
    "\t\t\t\ty=train_y,\n",
    "\t\t\t\tstrategy_over={0:3433, 1:400},\n",
    "\t\t\t\tover_sampler=True,\n",
    "\t\t\t\tunder_sampler=False\n",
    "\t\t\t)\n",
    "train_x_res, train_y_res = rebalance.fit_resample()\n",
    "train_y_res.value_counts()"
   ]
  },
  {
   "cell_type": "code",
   "execution_count": 21,
   "metadata": {},
   "outputs": [
    {
     "name": "stdout",
     "output_type": "stream",
     "text": [
      "------------\n",
      "TEST\n",
      "------------\n",
      "[[1117   28]\n",
      " [   3   62]]\n"
     ]
    },
    {
     "data": {
      "image/png": "[encoded data removed]",
      "text/plain": [
       "<Figure size 432x288 with 2 Axes>"
      ]
     },
     "metadata": {
      "needs_background": "light"
     },
     "output_type": "display_data"
    },
    {
     "name": "stdout",
     "output_type": "stream",
     "text": [
      "Acuracy: 97.44%\n",
      "\n",
      "Precision:  0.8431051587301588\n",
      "\n",
      "Recall:  0.9646960026872691\n",
      "\n",
      "F1 =  0.8931567328918323\n",
      "\n",
      "ROC AUC =  0.9732616728249917\n"
     ]
    }
   ],
   "source": [
    "model = dp.train_model_plot_results(train_x_res, train_y_res, test_x_sel, test_y, model_name=\"knn\", train_result=False, plot_pr=False)"
   ]
  },
  {
   "cell_type": "markdown",
   "metadata": {},
   "source": [
    "### Creating Artificial Data using Deep Learning\n",
    "\n",
    "#### CTGAN\n",
    "\n",
    "Let's use the dataset with the original categorical variables, since CTGAN is capable of dealing with categorical variables internally. We will start by re-encoding the ordinal variables. We then proceed to split the dataset before using the CTGAN. This guarantees that we don't contaminate our test set."
   ]
  },
  {
   "cell_type": "code",
   "execution_count": 22,
   "metadata": {},
   "outputs": [
    {
     "name": "stdout",
     "output_type": "stream",
     "text": [
      "Loading existing sythesizer model (CTGAN_400.pkl)...\n",
      "LOADED model of class CTGAN.\n"
     ]
    },
    {
     "data": {
      "text/plain": [
       "0    3433\n",
       "1     396\n",
       "Name: class, dtype: int64"
      ]
     },
     "execution_count": 22,
     "metadata": {},
     "output_type": "execute_result"
    }
   ],
   "source": [
    "synth = dp.Synthesizer(\n",
    "\t\t\t\tX=train_x_sel,\n",
    "\t\t\t\ty=train_y,\n",
    "\t\t\t\tepochs=400,\n",
    "\t\t\t\tmodel=\"ctgan\",\n",
    "\t\t\t\tload_existing=True\n",
    "\t\t\t)\n",
    "synth.fit()\n",
    "\n",
    "conditions = {label_col:1}\t# create more of the undersampled class\n",
    "syn_train_x, syn_train_y = synth.transform(X=train_x_sel, y=train_y, n_samples=200, conditions=conditions)\n",
    "\n",
    "syn_train_y.value_counts()"
   ]
  },
  {
   "cell_type": "code",
   "execution_count": 23,
   "metadata": {},
   "outputs": [
    {
     "ename": "ValueError",
     "evalue": "Input contains NaN, infinity or a value too large for dtype('float64').",
     "output_type": "error",
     "traceback": [
      "\u001b[1;31m---------------------------------------------------------------------------\u001b[0m",
      "\u001b[1;31mValueError\u001b[0m                                Traceback (most recent call last)",
      "\u001b[1;32mc:\\Users\\morrissharp\\Repos\\responsible-ai-toolbox-mitigations\\notebooks\\dataprocessing\\case_study\\case2.ipynb Cell 47\u001b[0m in \u001b[0;36m<cell line: 1>\u001b[1;34m()\u001b[0m\n\u001b[1;32m----> <a href='vscode-notebook-cell:/c%3A/Users/morrissharp/Repos/responsible-ai-toolbox-mitigations/notebooks/dataprocessing/case_study/case2.ipynb#ch0000035?line=0'>1</a>\u001b[0m model \u001b[39m=\u001b[39m dp\u001b[39m.\u001b[39;49mtrain_model_plot_results(syn_train_x, syn_train_y, test_x_sel, test_y, model_name\u001b[39m=\u001b[39;49m\u001b[39m\"\u001b[39;49m\u001b[39mknn\u001b[39;49m\u001b[39m\"\u001b[39;49m, train_result\u001b[39m=\u001b[39;49m\u001b[39mFalse\u001b[39;49;00m, plot_pr\u001b[39m=\u001b[39;49m\u001b[39mFalse\u001b[39;49;00m)\n",
      "File \u001b[1;32mc:\\users\\morrissharp\\repos\\responsible-ai-toolbox-mitigations\\raimitigations\\dataprocessing\\model_utils.py:262\u001b[0m, in \u001b[0;36mtrain_model_plot_results\u001b[1;34m(x, y, x_test, y_test, model_name, train_result, plot_pr, best_th_auc)\u001b[0m\n\u001b[0;32m    237\u001b[0m \u001b[39m\"\"\"\u001b[39;00m\n\u001b[0;32m    238\u001b[0m \u001b[39mGiven a train and test sets, and a model name, this function instantiates the model,\u001b[39;00m\n\u001b[0;32m    239\u001b[0m \u001b[39mfits the model to the train dataset, predicts the output for the train and test sets,\u001b[39;00m\n\u001b[1;32m   (...)\u001b[0m\n\u001b[0;32m    259\u001b[0m \u001b[39m    the threshold is computed using the precision x recall graph.\u001b[39;00m\n\u001b[0;32m    260\u001b[0m \u001b[39m\"\"\"\u001b[39;00m\n\u001b[0;32m    261\u001b[0m model \u001b[39m=\u001b[39m _get_model(model_name)\n\u001b[1;32m--> 262\u001b[0m model\u001b[39m.\u001b[39;49mfit(x, y)\n\u001b[0;32m    264\u001b[0m pred_train \u001b[39m=\u001b[39m model\u001b[39m.\u001b[39mpredict_proba(x)[:, \u001b[39m1\u001b[39m]\n\u001b[0;32m    265\u001b[0m pred_test \u001b[39m=\u001b[39m model\u001b[39m.\u001b[39mpredict_proba(x_test)[:, \u001b[39m1\u001b[39m]\n",
      "File \u001b[1;32mc:\\Users\\morrissharp\\Miniconda3\\envs\\rai\\lib\\site-packages\\sklearn\\neighbors\\_classification.py:198\u001b[0m, in \u001b[0;36mKNeighborsClassifier.fit\u001b[1;34m(self, X, y)\u001b[0m\n\u001b[0;32m    179\u001b[0m \u001b[39m\"\"\"Fit the k-nearest neighbors classifier from the training dataset.\u001b[39;00m\n\u001b[0;32m    180\u001b[0m \n\u001b[0;32m    181\u001b[0m \u001b[39mParameters\u001b[39;00m\n\u001b[1;32m   (...)\u001b[0m\n\u001b[0;32m    194\u001b[0m \u001b[39m    The fitted k-nearest neighbors classifier.\u001b[39;00m\n\u001b[0;32m    195\u001b[0m \u001b[39m\"\"\"\u001b[39;00m\n\u001b[0;32m    196\u001b[0m \u001b[39mself\u001b[39m\u001b[39m.\u001b[39mweights \u001b[39m=\u001b[39m _check_weights(\u001b[39mself\u001b[39m\u001b[39m.\u001b[39mweights)\n\u001b[1;32m--> 198\u001b[0m \u001b[39mreturn\u001b[39;00m \u001b[39mself\u001b[39;49m\u001b[39m.\u001b[39;49m_fit(X, y)\n",
      "File \u001b[1;32mc:\\Users\\morrissharp\\Miniconda3\\envs\\rai\\lib\\site-packages\\sklearn\\neighbors\\_base.py:400\u001b[0m, in \u001b[0;36mNeighborsBase._fit\u001b[1;34m(self, X, y)\u001b[0m\n\u001b[0;32m    398\u001b[0m \u001b[39mif\u001b[39;00m \u001b[39mself\u001b[39m\u001b[39m.\u001b[39m_get_tags()[\u001b[39m\"\u001b[39m\u001b[39mrequires_y\u001b[39m\u001b[39m\"\u001b[39m]:\n\u001b[0;32m    399\u001b[0m     \u001b[39mif\u001b[39;00m \u001b[39mnot\u001b[39;00m \u001b[39misinstance\u001b[39m(X, (KDTree, BallTree, NeighborsBase)):\n\u001b[1;32m--> 400\u001b[0m         X, y \u001b[39m=\u001b[39m \u001b[39mself\u001b[39;49m\u001b[39m.\u001b[39;49m_validate_data(X, y, accept_sparse\u001b[39m=\u001b[39;49m\u001b[39m\"\u001b[39;49m\u001b[39mcsr\u001b[39;49m\u001b[39m\"\u001b[39;49m, multi_output\u001b[39m=\u001b[39;49m\u001b[39mTrue\u001b[39;49;00m)\n\u001b[0;32m    402\u001b[0m     \u001b[39mif\u001b[39;00m is_classifier(\u001b[39mself\u001b[39m):\n\u001b[0;32m    403\u001b[0m         \u001b[39m# Classification targets require a specific format\u001b[39;00m\n\u001b[0;32m    404\u001b[0m         \u001b[39mif\u001b[39;00m y\u001b[39m.\u001b[39mndim \u001b[39m==\u001b[39m \u001b[39m1\u001b[39m \u001b[39mor\u001b[39;00m y\u001b[39m.\u001b[39mndim \u001b[39m==\u001b[39m \u001b[39m2\u001b[39m \u001b[39mand\u001b[39;00m y\u001b[39m.\u001b[39mshape[\u001b[39m1\u001b[39m] \u001b[39m==\u001b[39m \u001b[39m1\u001b[39m:\n",
      "File \u001b[1;32mc:\\Users\\morrissharp\\Miniconda3\\envs\\rai\\lib\\site-packages\\sklearn\\base.py:581\u001b[0m, in \u001b[0;36mBaseEstimator._validate_data\u001b[1;34m(self, X, y, reset, validate_separately, **check_params)\u001b[0m\n\u001b[0;32m    579\u001b[0m         y \u001b[39m=\u001b[39m check_array(y, \u001b[39m*\u001b[39m\u001b[39m*\u001b[39mcheck_y_params)\n\u001b[0;32m    580\u001b[0m     \u001b[39melse\u001b[39;00m:\n\u001b[1;32m--> 581\u001b[0m         X, y \u001b[39m=\u001b[39m check_X_y(X, y, \u001b[39m*\u001b[39;49m\u001b[39m*\u001b[39;49mcheck_params)\n\u001b[0;32m    582\u001b[0m     out \u001b[39m=\u001b[39m X, y\n\u001b[0;32m    584\u001b[0m \u001b[39mif\u001b[39;00m \u001b[39mnot\u001b[39;00m no_val_X \u001b[39mand\u001b[39;00m check_params\u001b[39m.\u001b[39mget(\u001b[39m\"\u001b[39m\u001b[39mensure_2d\u001b[39m\u001b[39m\"\u001b[39m, \u001b[39mTrue\u001b[39;00m):\n",
      "File \u001b[1;32mc:\\Users\\morrissharp\\Miniconda3\\envs\\rai\\lib\\site-packages\\sklearn\\utils\\validation.py:964\u001b[0m, in \u001b[0;36mcheck_X_y\u001b[1;34m(X, y, accept_sparse, accept_large_sparse, dtype, order, copy, force_all_finite, ensure_2d, allow_nd, multi_output, ensure_min_samples, ensure_min_features, y_numeric, estimator)\u001b[0m\n\u001b[0;32m    961\u001b[0m \u001b[39mif\u001b[39;00m y \u001b[39mis\u001b[39;00m \u001b[39mNone\u001b[39;00m:\n\u001b[0;32m    962\u001b[0m     \u001b[39mraise\u001b[39;00m \u001b[39mValueError\u001b[39;00m(\u001b[39m\"\u001b[39m\u001b[39my cannot be None\u001b[39m\u001b[39m\"\u001b[39m)\n\u001b[1;32m--> 964\u001b[0m X \u001b[39m=\u001b[39m check_array(\n\u001b[0;32m    965\u001b[0m     X,\n\u001b[0;32m    966\u001b[0m     accept_sparse\u001b[39m=\u001b[39;49maccept_sparse,\n\u001b[0;32m    967\u001b[0m     accept_large_sparse\u001b[39m=\u001b[39;49maccept_large_sparse,\n\u001b[0;32m    968\u001b[0m     dtype\u001b[39m=\u001b[39;49mdtype,\n\u001b[0;32m    969\u001b[0m     order\u001b[39m=\u001b[39;49morder,\n\u001b[0;32m    970\u001b[0m     copy\u001b[39m=\u001b[39;49mcopy,\n\u001b[0;32m    971\u001b[0m     force_all_finite\u001b[39m=\u001b[39;49mforce_all_finite,\n\u001b[0;32m    972\u001b[0m     ensure_2d\u001b[39m=\u001b[39;49mensure_2d,\n\u001b[0;32m    973\u001b[0m     allow_nd\u001b[39m=\u001b[39;49mallow_nd,\n\u001b[0;32m    974\u001b[0m     ensure_min_samples\u001b[39m=\u001b[39;49mensure_min_samples,\n\u001b[0;32m    975\u001b[0m     ensure_min_features\u001b[39m=\u001b[39;49mensure_min_features,\n\u001b[0;32m    976\u001b[0m     estimator\u001b[39m=\u001b[39;49mestimator,\n\u001b[0;32m    977\u001b[0m )\n\u001b[0;32m    979\u001b[0m y \u001b[39m=\u001b[39m _check_y(y, multi_output\u001b[39m=\u001b[39mmulti_output, y_numeric\u001b[39m=\u001b[39my_numeric)\n\u001b[0;32m    981\u001b[0m check_consistent_length(X, y)\n",
      "File \u001b[1;32mc:\\Users\\morrissharp\\Miniconda3\\envs\\rai\\lib\\site-packages\\sklearn\\utils\\validation.py:800\u001b[0m, in \u001b[0;36mcheck_array\u001b[1;34m(array, accept_sparse, accept_large_sparse, dtype, order, copy, force_all_finite, ensure_2d, allow_nd, ensure_min_samples, ensure_min_features, estimator)\u001b[0m\n\u001b[0;32m    794\u001b[0m         \u001b[39mraise\u001b[39;00m \u001b[39mValueError\u001b[39;00m(\n\u001b[0;32m    795\u001b[0m             \u001b[39m\"\u001b[39m\u001b[39mFound array with dim \u001b[39m\u001b[39m%d\u001b[39;00m\u001b[39m. \u001b[39m\u001b[39m%s\u001b[39;00m\u001b[39m expected <= 2.\u001b[39m\u001b[39m\"\u001b[39m\n\u001b[0;32m    796\u001b[0m             \u001b[39m%\u001b[39m (array\u001b[39m.\u001b[39mndim, estimator_name)\n\u001b[0;32m    797\u001b[0m         )\n\u001b[0;32m    799\u001b[0m     \u001b[39mif\u001b[39;00m force_all_finite:\n\u001b[1;32m--> 800\u001b[0m         _assert_all_finite(array, allow_nan\u001b[39m=\u001b[39;49mforce_all_finite \u001b[39m==\u001b[39;49m \u001b[39m\"\u001b[39;49m\u001b[39mallow-nan\u001b[39;49m\u001b[39m\"\u001b[39;49m)\n\u001b[0;32m    802\u001b[0m \u001b[39mif\u001b[39;00m ensure_min_samples \u001b[39m>\u001b[39m \u001b[39m0\u001b[39m:\n\u001b[0;32m    803\u001b[0m     n_samples \u001b[39m=\u001b[39m _num_samples(array)\n",
      "File \u001b[1;32mc:\\Users\\morrissharp\\Miniconda3\\envs\\rai\\lib\\site-packages\\sklearn\\utils\\validation.py:114\u001b[0m, in \u001b[0;36m_assert_all_finite\u001b[1;34m(X, allow_nan, msg_dtype)\u001b[0m\n\u001b[0;32m    107\u001b[0m     \u001b[39mif\u001b[39;00m (\n\u001b[0;32m    108\u001b[0m         allow_nan\n\u001b[0;32m    109\u001b[0m         \u001b[39mand\u001b[39;00m np\u001b[39m.\u001b[39misinf(X)\u001b[39m.\u001b[39many()\n\u001b[0;32m    110\u001b[0m         \u001b[39mor\u001b[39;00m \u001b[39mnot\u001b[39;00m allow_nan\n\u001b[0;32m    111\u001b[0m         \u001b[39mand\u001b[39;00m \u001b[39mnot\u001b[39;00m np\u001b[39m.\u001b[39misfinite(X)\u001b[39m.\u001b[39mall()\n\u001b[0;32m    112\u001b[0m     ):\n\u001b[0;32m    113\u001b[0m         type_err \u001b[39m=\u001b[39m \u001b[39m\"\u001b[39m\u001b[39minfinity\u001b[39m\u001b[39m\"\u001b[39m \u001b[39mif\u001b[39;00m allow_nan \u001b[39melse\u001b[39;00m \u001b[39m\"\u001b[39m\u001b[39mNaN, infinity\u001b[39m\u001b[39m\"\u001b[39m\n\u001b[1;32m--> 114\u001b[0m         \u001b[39mraise\u001b[39;00m \u001b[39mValueError\u001b[39;00m(\n\u001b[0;32m    115\u001b[0m             msg_err\u001b[39m.\u001b[39mformat(\n\u001b[0;32m    116\u001b[0m                 type_err, msg_dtype \u001b[39mif\u001b[39;00m msg_dtype \u001b[39mis\u001b[39;00m \u001b[39mnot\u001b[39;00m \u001b[39mNone\u001b[39;00m \u001b[39melse\u001b[39;00m X\u001b[39m.\u001b[39mdtype\n\u001b[0;32m    117\u001b[0m             )\n\u001b[0;32m    118\u001b[0m         )\n\u001b[0;32m    119\u001b[0m \u001b[39m# for object dtype data, we only check for NaNs (GH-13254)\u001b[39;00m\n\u001b[0;32m    120\u001b[0m \u001b[39melif\u001b[39;00m X\u001b[39m.\u001b[39mdtype \u001b[39m==\u001b[39m np\u001b[39m.\u001b[39mdtype(\u001b[39m\"\u001b[39m\u001b[39mobject\u001b[39m\u001b[39m\"\u001b[39m) \u001b[39mand\u001b[39;00m \u001b[39mnot\u001b[39;00m allow_nan:\n",
      "\u001b[1;31mValueError\u001b[0m: Input contains NaN, infinity or a value too large for dtype('float64')."
     ]
    }
   ],
   "source": [
    "model = dp.train_model_plot_results(syn_train_x, syn_train_y, test_x_sel, test_y, model_name=\"knn\", train_result=False, plot_pr=False)"
   ]
  },
  {
   "cell_type": "markdown",
   "metadata": {},
   "source": [
    "Let's try creating more artificial instances and check how this impacts the model's performance."
   ]
  },
  {
   "cell_type": "code",
   "execution_count": null,
   "metadata": {},
   "outputs": [],
   "source": [
    "conditions = {label_col:1}\t# create more of the undersampled class\n",
    "syn_train_x, syn_train_y = synth.transform(X=train_x_sel, y=train_y, n_samples=2000, conditions=conditions)\n",
    "\n",
    "model = dp.train_model_plot_results(syn_train_x, syn_train_y, test_x_sel, test_y, model_name=\"knn\", train_result=False, plot_pr=False)"
   ]
  },
  {
   "cell_type": "markdown",
   "metadata": {},
   "source": [
    "#### TVAE"
   ]
  },
  {
   "cell_type": "code",
   "execution_count": null,
   "metadata": {},
   "outputs": [],
   "source": [
    "synth = dp.Synthesizer(\n",
    "\t\t\t\tX=train_x_sel,\n",
    "\t\t\t\ty=train_y,\n",
    "\t\t\t\tepochs=400,\n",
    "\t\t\t\tmodel=\"tvae\",\n",
    "\t\t\t\tload_existing=True\n",
    "\t\t\t)\n",
    "synth.fit()\n",
    "\n",
    "conditions = {label_col:1}\t# create more of the undersampled class\n",
    "syn2_train_x, syn2_train_y = synth.transform(X=train_x_sel, y=train_y, n_samples=200, conditions=conditions)\n",
    "\n",
    "model = dp.train_model_plot_results(syn2_train_x, syn2_train_y, test_x_sel, test_y, model_name=\"knn\", train_result=False, plot_pr=False)"
   ]
  },
  {
   "cell_type": "code",
   "execution_count": null,
   "metadata": {},
   "outputs": [],
   "source": []
  }
 ],
 "metadata": {
  "kernelspec": {
   "display_name": "Python 3.8.13 ('rai')",
   "language": "python",
   "name": "python3"
  },
  "language_info": {
   "codemirror_mode": {
    "name": "ipython",
    "version": 3
   },
   "file_extension": ".py",
   "mimetype": "text/x-python",
   "name": "python",
   "nbconvert_exporter": "python",
   "pygments_lexer": "ipython3",
   "version": "3.8.13"
  },
  "vscode": {
   "interpreter": {
    "hash": "84fbc7b41fd4e2e5309bc9ceaf402b3256461a3db19b05c6b76455652ef11b9b"
   }
  }
 },
 "nbformat": 4,
 "nbformat_minor": 2
}
